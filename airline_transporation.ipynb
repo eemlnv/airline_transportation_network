{
 "cells": [
  {
   "cell_type": "markdown",
   "id": "6d6a3c43",
   "metadata": {},
   "source": [
    "# Analysis Of Airline Transportation Network"
   ]
  },
  {
   "cell_type": "code",
   "execution_count": 1,
   "id": "ef135a40",
   "metadata": {},
   "outputs": [],
   "source": [
    "import numpy as np\n",
    "import pandas as pd\n",
    "import collections\n",
    "import requests\n",
    "\n",
    "from math import radians, cos, sin, asin, sqrt, degrees, atan2\n",
    "from tqdm import tqdm\n",
    "import copy\n",
    "\n",
    "import networkx as nx\n",
    "\n",
    "from sklearn.linear_model import LogisticRegression\n",
    "from sklearn.cluster import k_means\n",
    "from sklearn.metrics import mean_absolute_percentage_error, mean_absolute_error\n",
    "from sklearn.metrics import balanced_accuracy_score, mean_squared_error, mutual_info_score\n",
    "\n",
    "from scipy.stats.stats import pearsonr\n",
    "\n",
    "import plotly.express as px\n",
    "import random\n",
    "import seaborn as sns\n",
    "from matplotlib import pyplot as plt\n",
    "import geopandas as gpd\n",
    "from matplotlib import rc\n",
    "import matplotlib.ticker as ticker\n",
    "\n",
    "%matplotlib inline\n",
    "%config InlineBackend.figure_format='retina'\n",
    "import warnings\n",
    "warnings.filterwarnings(\"ignore\")"
   ]
  },
  {
   "cell_type": "code",
   "execution_count": 2,
   "id": "171f83b9",
   "metadata": {},
   "outputs": [],
   "source": [
    "sns.axes_style()\n",
    "sns.set_style(\"white\", {'ytick.left': True, 'axes.spines.right': False, 'axes.spines.top': False}) "
   ]
  },
  {
   "cell_type": "code",
   "execution_count": null,
   "id": "05965910",
   "metadata": {},
   "outputs": [],
   "source": [
    "MAPBOX_ACCESS_TOKEN = \"\" #write here your mapbox access token"
   ]
  },
  {
   "cell_type": "markdown",
   "id": "5534a136",
   "metadata": {},
   "source": [
    "## Upload the data from bts"
   ]
  },
  {
   "cell_type": "markdown",
   "id": "342e54ea",
   "metadata": {},
   "source": [
    "Take the data from the United States Bureau of Transportation Statistics (BLS)  (https://www.transtats.bts.gov/DL_SelectFields.aspx?gnoyr_VQ=FLM&QO_fu146_anzr=b4vtv0%20n0q%20Qr56v0n6v10%20f748rB). This data contains information about passenger flow between all US airports. Take the data for 2021 year."
   ]
  },
  {
   "cell_type": "code",
   "execution_count": 3,
   "id": "0b08c3e8",
   "metadata": {},
   "outputs": [],
   "source": [
    "df_2021_1 = pd.read_csv(\"bts_data/2021/2021_1.csv\")[['Origin', 'Dest', 'Passengers']]\n",
    "df_2021_2 = pd.read_csv(\"bts_data/2021/2021_2.csv\")[['Origin', 'Dest', 'Passengers']]\n",
    "df_2021_3 = pd.read_csv(\"bts_data/2021/2021_3.csv\")[['Origin', 'Dest', 'Passengers']]\n",
    "df_2021_4 = pd.read_csv(\"bts_data/2021/2021_4.csv\")[['Origin', 'Dest', 'Passengers']]"
   ]
  },
  {
   "cell_type": "code",
   "execution_count": 4,
   "id": "d8be3203",
   "metadata": {},
   "outputs": [
    {
     "data": {
      "text/html": [
       "<div>\n",
       "<style scoped>\n",
       "    .dataframe tbody tr th:only-of-type {\n",
       "        vertical-align: middle;\n",
       "    }\n",
       "\n",
       "    .dataframe tbody tr th {\n",
       "        vertical-align: top;\n",
       "    }\n",
       "\n",
       "    .dataframe thead th {\n",
       "        text-align: right;\n",
       "    }\n",
       "</style>\n",
       "<table border=\"1\" class=\"dataframe\">\n",
       "  <thead>\n",
       "    <tr style=\"text-align: right;\">\n",
       "      <th></th>\n",
       "      <th>Origin</th>\n",
       "      <th>Dest</th>\n",
       "      <th>Passengers</th>\n",
       "    </tr>\n",
       "  </thead>\n",
       "  <tbody>\n",
       "    <tr>\n",
       "      <th>0</th>\n",
       "      <td>JAN</td>\n",
       "      <td>ATL</td>\n",
       "      <td>1.0</td>\n",
       "    </tr>\n",
       "    <tr>\n",
       "      <th>1</th>\n",
       "      <td>JFK</td>\n",
       "      <td>DTW</td>\n",
       "      <td>1.0</td>\n",
       "    </tr>\n",
       "    <tr>\n",
       "      <th>2</th>\n",
       "      <td>AVL</td>\n",
       "      <td>ATL</td>\n",
       "      <td>1.0</td>\n",
       "    </tr>\n",
       "    <tr>\n",
       "      <th>3</th>\n",
       "      <td>AEX</td>\n",
       "      <td>ATL</td>\n",
       "      <td>1.0</td>\n",
       "    </tr>\n",
       "    <tr>\n",
       "      <th>4</th>\n",
       "      <td>LAN</td>\n",
       "      <td>DTW</td>\n",
       "      <td>1.0</td>\n",
       "    </tr>\n",
       "  </tbody>\n",
       "</table>\n",
       "</div>"
      ],
      "text/plain": [
       "  Origin Dest  Passengers\n",
       "0    JAN  ATL         1.0\n",
       "1    JFK  DTW         1.0\n",
       "2    AVL  ATL         1.0\n",
       "3    AEX  ATL         1.0\n",
       "4    LAN  DTW         1.0"
      ]
     },
     "execution_count": 4,
     "metadata": {},
     "output_type": "execute_result"
    }
   ],
   "source": [
    "df_2021 = df_2021_1.append(df_2021_2).append(df_2021_3).append(df_2021_4)\n",
    "df_2021.head()"
   ]
  },
  {
   "cell_type": "markdown",
   "id": "183f52fc",
   "metadata": {},
   "source": [
    "Top 5 airline segments in 2021 were:"
   ]
  },
  {
   "cell_type": "code",
   "execution_count": 5,
   "id": "604f4caa",
   "metadata": {},
   "outputs": [
    {
     "data": {
      "text/html": [
       "<div>\n",
       "<style scoped>\n",
       "    .dataframe tbody tr th:only-of-type {\n",
       "        vertical-align: middle;\n",
       "    }\n",
       "\n",
       "    .dataframe tbody tr th {\n",
       "        vertical-align: top;\n",
       "    }\n",
       "\n",
       "    .dataframe thead th {\n",
       "        text-align: right;\n",
       "    }\n",
       "</style>\n",
       "<table border=\"1\" class=\"dataframe\">\n",
       "  <thead>\n",
       "    <tr style=\"text-align: right;\">\n",
       "      <th></th>\n",
       "      <th>Origin</th>\n",
       "      <th>Dest</th>\n",
       "      <th>Passengers</th>\n",
       "    </tr>\n",
       "  </thead>\n",
       "  <tbody>\n",
       "    <tr>\n",
       "      <th>686</th>\n",
       "      <td>ATL</td>\n",
       "      <td>MCO</td>\n",
       "      <td>101430.0</td>\n",
       "    </tr>\n",
       "    <tr>\n",
       "      <th>9295</th>\n",
       "      <td>MCO</td>\n",
       "      <td>ATL</td>\n",
       "      <td>100626.0</td>\n",
       "    </tr>\n",
       "    <tr>\n",
       "      <th>8368</th>\n",
       "      <td>LAX</td>\n",
       "      <td>JFK</td>\n",
       "      <td>98260.0</td>\n",
       "    </tr>\n",
       "    <tr>\n",
       "      <th>7963</th>\n",
       "      <td>JFK</td>\n",
       "      <td>LAX</td>\n",
       "      <td>98168.0</td>\n",
       "    </tr>\n",
       "    <tr>\n",
       "      <th>12286</th>\n",
       "      <td>PHX</td>\n",
       "      <td>DEN</td>\n",
       "      <td>97426.0</td>\n",
       "    </tr>\n",
       "  </tbody>\n",
       "</table>\n",
       "</div>"
      ],
      "text/plain": [
       "      Origin Dest  Passengers\n",
       "686      ATL  MCO    101430.0\n",
       "9295     MCO  ATL    100626.0\n",
       "8368     LAX  JFK     98260.0\n",
       "7963     JFK  LAX     98168.0\n",
       "12286    PHX  DEN     97426.0"
      ]
     },
     "execution_count": 5,
     "metadata": {},
     "output_type": "execute_result"
    }
   ],
   "source": [
    "df = df_2021.groupby(['Origin', 'Dest']).sum().reset_index()\n",
    "df = df.sort_values(by=['Passengers'], ascending=False)\n",
    "df.head()"
   ]
  },
  {
   "cell_type": "markdown",
   "id": "8c130d5d",
   "metadata": {},
   "source": [
    "Let's find out how many passengers pass through each airport."
   ]
  },
  {
   "cell_type": "code",
   "execution_count": 6,
   "id": "7e7a1d68",
   "metadata": {},
   "outputs": [
    {
     "data": {
      "text/html": [
       "<div>\n",
       "<style scoped>\n",
       "    .dataframe tbody tr th:only-of-type {\n",
       "        vertical-align: middle;\n",
       "    }\n",
       "\n",
       "    .dataframe tbody tr th {\n",
       "        vertical-align: top;\n",
       "    }\n",
       "\n",
       "    .dataframe thead th {\n",
       "        text-align: right;\n",
       "    }\n",
       "</style>\n",
       "<table border=\"1\" class=\"dataframe\">\n",
       "  <thead>\n",
       "    <tr style=\"text-align: right;\">\n",
       "      <th></th>\n",
       "      <th>Origin</th>\n",
       "      <th>Passengers</th>\n",
       "    </tr>\n",
       "  </thead>\n",
       "  <tbody>\n",
       "    <tr>\n",
       "      <th>0</th>\n",
       "      <td>ABE</td>\n",
       "      <td>35621.0</td>\n",
       "    </tr>\n",
       "    <tr>\n",
       "      <th>1</th>\n",
       "      <td>ABI</td>\n",
       "      <td>7020.0</td>\n",
       "    </tr>\n",
       "    <tr>\n",
       "      <th>2</th>\n",
       "      <td>ABQ</td>\n",
       "      <td>163613.0</td>\n",
       "    </tr>\n",
       "    <tr>\n",
       "      <th>3</th>\n",
       "      <td>ABR</td>\n",
       "      <td>2407.0</td>\n",
       "    </tr>\n",
       "    <tr>\n",
       "      <th>4</th>\n",
       "      <td>ABY</td>\n",
       "      <td>3156.0</td>\n",
       "    </tr>\n",
       "  </tbody>\n",
       "</table>\n",
       "</div>"
      ],
      "text/plain": [
       "  Origin  Passengers\n",
       "0    ABE     35621.0\n",
       "1    ABI      7020.0\n",
       "2    ABQ    163613.0\n",
       "3    ABR      2407.0\n",
       "4    ABY      3156.0"
      ]
     },
     "execution_count": 6,
     "metadata": {},
     "output_type": "execute_result"
    }
   ],
   "source": [
    "df_origin = df.groupby(['Origin']).sum().reset_index()\n",
    "df_origin.head()"
   ]
  },
  {
   "cell_type": "code",
   "execution_count": 7,
   "id": "c3e44042",
   "metadata": {},
   "outputs": [
    {
     "data": {
      "text/html": [
       "<div>\n",
       "<style scoped>\n",
       "    .dataframe tbody tr th:only-of-type {\n",
       "        vertical-align: middle;\n",
       "    }\n",
       "\n",
       "    .dataframe tbody tr th {\n",
       "        vertical-align: top;\n",
       "    }\n",
       "\n",
       "    .dataframe thead th {\n",
       "        text-align: right;\n",
       "    }\n",
       "</style>\n",
       "<table border=\"1\" class=\"dataframe\">\n",
       "  <thead>\n",
       "    <tr style=\"text-align: right;\">\n",
       "      <th></th>\n",
       "      <th>Dest</th>\n",
       "      <th>Passengers</th>\n",
       "    </tr>\n",
       "  </thead>\n",
       "  <tbody>\n",
       "    <tr>\n",
       "      <th>0</th>\n",
       "      <td>ABE</td>\n",
       "      <td>36088.0</td>\n",
       "    </tr>\n",
       "    <tr>\n",
       "      <th>1</th>\n",
       "      <td>ABI</td>\n",
       "      <td>6854.0</td>\n",
       "    </tr>\n",
       "    <tr>\n",
       "      <th>2</th>\n",
       "      <td>ABQ</td>\n",
       "      <td>162511.0</td>\n",
       "    </tr>\n",
       "    <tr>\n",
       "      <th>3</th>\n",
       "      <td>ABR</td>\n",
       "      <td>2425.0</td>\n",
       "    </tr>\n",
       "    <tr>\n",
       "      <th>4</th>\n",
       "      <td>ABY</td>\n",
       "      <td>3114.0</td>\n",
       "    </tr>\n",
       "  </tbody>\n",
       "</table>\n",
       "</div>"
      ],
      "text/plain": [
       "  Dest  Passengers\n",
       "0  ABE     36088.0\n",
       "1  ABI      6854.0\n",
       "2  ABQ    162511.0\n",
       "3  ABR      2425.0\n",
       "4  ABY      3114.0"
      ]
     },
     "execution_count": 7,
     "metadata": {},
     "output_type": "execute_result"
    }
   ],
   "source": [
    "df_dest = df.groupby(['Dest']).sum().reset_index()\n",
    "df_dest.head()"
   ]
  },
  {
   "cell_type": "code",
   "execution_count": 8,
   "id": "08b1f2a9",
   "metadata": {},
   "outputs": [],
   "source": [
    "df_passengers = df_origin.merge(df_dest, left_on='Origin', right_on='Dest', how='outer')\n",
    "\n",
    "df_passengers1 = df_passengers[~df_passengers.Origin.isna()][['Origin', 'Passengers_x', 'Passengers_y']] \n",
    "df_passengers2 = df_passengers[~df_passengers.Dest.isna()][['Dest', 'Passengers_x', 'Passengers_y']]\n",
    "\n",
    "df_passengers1.rename(columns={'Origin':'AIRPORT'}, inplace=True)\n",
    "df_passengers2.rename(columns={'Dest':'AIRPORT'}, inplace=True)\n",
    "\n",
    "df_passengers = df_passengers1.append(df_passengers2).drop_duplicates()\n",
    "df_passengers.fillna(0, inplace=True)\n",
    "\n",
    "df_passengers['Passengers'] = df_passengers.Passengers_x + df_passengers.Passengers_y\n",
    "df_passengers.drop(columns=['Passengers_x', 'Passengers_y'], inplace=True)"
   ]
  },
  {
   "cell_type": "code",
   "execution_count": 9,
   "id": "b6fb07d1",
   "metadata": {},
   "outputs": [
    {
     "name": "stdout",
     "output_type": "stream",
     "text": [
      "The number of unique airports: 450\n"
     ]
    }
   ],
   "source": [
    "print(f\"The number of unique airports: {len(df_passengers.AIRPORT.unique())}\")"
   ]
  },
  {
   "cell_type": "markdown",
   "id": "b433240c",
   "metadata": {},
   "source": [
    "## Upload coordinates of Airports"
   ]
  },
  {
   "cell_type": "markdown",
   "id": "c1f2b880",
   "metadata": {},
   "source": [
    "Upload the Latitude and Longitude coordinate for each airport."
   ]
  },
  {
   "cell_type": "code",
   "execution_count": 10,
   "id": "1070f7ce",
   "metadata": {},
   "outputs": [],
   "source": [
    "coord = pd.read_csv(\"bts_data/T_MASTER_CORD.csv\")"
   ]
  },
  {
   "cell_type": "code",
   "execution_count": 11,
   "id": "22857422",
   "metadata": {},
   "outputs": [],
   "source": [
    "coord = coord[coord.AIRPORT_IS_LATEST == 1]"
   ]
  },
  {
   "cell_type": "code",
   "execution_count": 12,
   "id": "6a12ad21",
   "metadata": {},
   "outputs": [
    {
     "data": {
      "text/plain": [
       "6640"
      ]
     },
     "execution_count": 12,
     "metadata": {},
     "output_type": "execute_result"
    }
   ],
   "source": [
    "coord.shape[0]"
   ]
  },
  {
   "cell_type": "code",
   "execution_count": 13,
   "id": "3f33f107",
   "metadata": {},
   "outputs": [
    {
     "data": {
      "text/html": [
       "<div>\n",
       "<style scoped>\n",
       "    .dataframe tbody tr th:only-of-type {\n",
       "        vertical-align: middle;\n",
       "    }\n",
       "\n",
       "    .dataframe tbody tr th {\n",
       "        vertical-align: top;\n",
       "    }\n",
       "\n",
       "    .dataframe thead th {\n",
       "        text-align: right;\n",
       "    }\n",
       "</style>\n",
       "<table border=\"1\" class=\"dataframe\">\n",
       "  <thead>\n",
       "    <tr style=\"text-align: right;\">\n",
       "      <th></th>\n",
       "      <th>AIRPORT</th>\n",
       "      <th>LATITUDE</th>\n",
       "      <th>LONGITUDE</th>\n",
       "      <th>AIRPORT_IS_LATEST</th>\n",
       "    </tr>\n",
       "  </thead>\n",
       "  <tbody>\n",
       "    <tr>\n",
       "      <th>0</th>\n",
       "      <td>01A</td>\n",
       "      <td>58.109444</td>\n",
       "      <td>-152.906667</td>\n",
       "      <td>1</td>\n",
       "    </tr>\n",
       "    <tr>\n",
       "      <th>1</th>\n",
       "      <td>03A</td>\n",
       "      <td>65.548056</td>\n",
       "      <td>-161.071667</td>\n",
       "      <td>1</td>\n",
       "    </tr>\n",
       "    <tr>\n",
       "      <th>2</th>\n",
       "      <td>04A</td>\n",
       "      <td>68.083333</td>\n",
       "      <td>-163.166667</td>\n",
       "      <td>1</td>\n",
       "    </tr>\n",
       "    <tr>\n",
       "      <th>3</th>\n",
       "      <td>05A</td>\n",
       "      <td>67.570000</td>\n",
       "      <td>-148.183889</td>\n",
       "      <td>1</td>\n",
       "    </tr>\n",
       "    <tr>\n",
       "      <th>4</th>\n",
       "      <td>06A</td>\n",
       "      <td>57.745278</td>\n",
       "      <td>-152.882778</td>\n",
       "      <td>1</td>\n",
       "    </tr>\n",
       "  </tbody>\n",
       "</table>\n",
       "</div>"
      ],
      "text/plain": [
       "  AIRPORT   LATITUDE   LONGITUDE  AIRPORT_IS_LATEST\n",
       "0     01A  58.109444 -152.906667                  1\n",
       "1     03A  65.548056 -161.071667                  1\n",
       "2     04A  68.083333 -163.166667                  1\n",
       "3     05A  67.570000 -148.183889                  1\n",
       "4     06A  57.745278 -152.882778                  1"
      ]
     },
     "execution_count": 13,
     "metadata": {},
     "output_type": "execute_result"
    }
   ],
   "source": [
    "coord.head()"
   ]
  },
  {
   "cell_type": "code",
   "execution_count": 14,
   "id": "86b165d7",
   "metadata": {},
   "outputs": [],
   "source": [
    "coord = coord[coord.AIRPORT.isin(set(list(df.Origin) + list(df.Dest)))]"
   ]
  },
  {
   "cell_type": "code",
   "execution_count": 15,
   "id": "734ef4f7",
   "metadata": {},
   "outputs": [
    {
     "data": {
      "text/html": [
       "<div>\n",
       "<style scoped>\n",
       "    .dataframe tbody tr th:only-of-type {\n",
       "        vertical-align: middle;\n",
       "    }\n",
       "\n",
       "    .dataframe tbody tr th {\n",
       "        vertical-align: top;\n",
       "    }\n",
       "\n",
       "    .dataframe thead th {\n",
       "        text-align: right;\n",
       "    }\n",
       "</style>\n",
       "<table border=\"1\" class=\"dataframe\">\n",
       "  <thead>\n",
       "    <tr style=\"text-align: right;\">\n",
       "      <th></th>\n",
       "      <th>LATITUDE</th>\n",
       "      <th>LONGITUDE</th>\n",
       "      <th>AIRPORT_IS_LATEST</th>\n",
       "    </tr>\n",
       "    <tr>\n",
       "      <th>AIRPORT</th>\n",
       "      <th></th>\n",
       "      <th></th>\n",
       "      <th></th>\n",
       "    </tr>\n",
       "  </thead>\n",
       "  <tbody>\n",
       "    <tr>\n",
       "      <th>AUS</th>\n",
       "      <td>2</td>\n",
       "      <td>2</td>\n",
       "      <td>2</td>\n",
       "    </tr>\n",
       "    <tr>\n",
       "      <th>ONT</th>\n",
       "      <td>1</td>\n",
       "      <td>1</td>\n",
       "      <td>1</td>\n",
       "    </tr>\n",
       "    <tr>\n",
       "      <th>OME</th>\n",
       "      <td>1</td>\n",
       "      <td>1</td>\n",
       "      <td>1</td>\n",
       "    </tr>\n",
       "    <tr>\n",
       "      <th>OMA</th>\n",
       "      <td>1</td>\n",
       "      <td>1</td>\n",
       "      <td>1</td>\n",
       "    </tr>\n",
       "    <tr>\n",
       "      <th>OLF</th>\n",
       "      <td>1</td>\n",
       "      <td>1</td>\n",
       "      <td>1</td>\n",
       "    </tr>\n",
       "  </tbody>\n",
       "</table>\n",
       "</div>"
      ],
      "text/plain": [
       "         LATITUDE  LONGITUDE  AIRPORT_IS_LATEST\n",
       "AIRPORT                                        \n",
       "AUS             2          2                  2\n",
       "ONT             1          1                  1\n",
       "OME             1          1                  1\n",
       "OMA             1          1                  1\n",
       "OLF             1          1                  1"
      ]
     },
     "execution_count": 15,
     "metadata": {},
     "output_type": "execute_result"
    }
   ],
   "source": [
    "coord.groupby(['AIRPORT']).count().sort_values(by=['AIRPORT_IS_LATEST'], ascending=False).head()"
   ]
  },
  {
   "cell_type": "markdown",
   "id": "ab247905",
   "metadata": {},
   "source": [
    "We see that there are two raw for `AUS` airport. It does not support to us, that's why we will delete one of them."
   ]
  },
  {
   "cell_type": "code",
   "execution_count": 16,
   "id": "aa987995",
   "metadata": {},
   "outputs": [
    {
     "data": {
      "text/html": [
       "<div>\n",
       "<style scoped>\n",
       "    .dataframe tbody tr th:only-of-type {\n",
       "        vertical-align: middle;\n",
       "    }\n",
       "\n",
       "    .dataframe tbody tr th {\n",
       "        vertical-align: top;\n",
       "    }\n",
       "\n",
       "    .dataframe thead th {\n",
       "        text-align: right;\n",
       "    }\n",
       "</style>\n",
       "<table border=\"1\" class=\"dataframe\">\n",
       "  <thead>\n",
       "    <tr style=\"text-align: right;\">\n",
       "      <th></th>\n",
       "      <th>AIRPORT</th>\n",
       "      <th>LATITUDE</th>\n",
       "      <th>LONGITUDE</th>\n",
       "      <th>AIRPORT_IS_LATEST</th>\n",
       "    </tr>\n",
       "  </thead>\n",
       "  <tbody>\n",
       "    <tr>\n",
       "      <th>1203</th>\n",
       "      <td>AUS</td>\n",
       "      <td>30.194444</td>\n",
       "      <td>-97.670000</td>\n",
       "      <td>1</td>\n",
       "    </tr>\n",
       "    <tr>\n",
       "      <th>1204</th>\n",
       "      <td>AUS</td>\n",
       "      <td>30.298056</td>\n",
       "      <td>-97.701389</td>\n",
       "      <td>1</td>\n",
       "    </tr>\n",
       "  </tbody>\n",
       "</table>\n",
       "</div>"
      ],
      "text/plain": [
       "     AIRPORT   LATITUDE  LONGITUDE  AIRPORT_IS_LATEST\n",
       "1203     AUS  30.194444 -97.670000                  1\n",
       "1204     AUS  30.298056 -97.701389                  1"
      ]
     },
     "execution_count": 16,
     "metadata": {},
     "output_type": "execute_result"
    }
   ],
   "source": [
    "coord[coord.AIRPORT == 'AUS']"
   ]
  },
  {
   "cell_type": "code",
   "execution_count": 17,
   "id": "0a21db48",
   "metadata": {},
   "outputs": [],
   "source": [
    "coord = coord[coord.index != 1204]"
   ]
  },
  {
   "cell_type": "code",
   "execution_count": 18,
   "id": "3b675d8e",
   "metadata": {},
   "outputs": [
    {
     "data": {
      "text/html": [
       "<div>\n",
       "<style scoped>\n",
       "    .dataframe tbody tr th:only-of-type {\n",
       "        vertical-align: middle;\n",
       "    }\n",
       "\n",
       "    .dataframe tbody tr th {\n",
       "        vertical-align: top;\n",
       "    }\n",
       "\n",
       "    .dataframe thead th {\n",
       "        text-align: right;\n",
       "    }\n",
       "</style>\n",
       "<table border=\"1\" class=\"dataframe\">\n",
       "  <thead>\n",
       "    <tr style=\"text-align: right;\">\n",
       "      <th></th>\n",
       "      <th>AIRPORT</th>\n",
       "      <th>LATITUDE</th>\n",
       "      <th>LONGITUDE</th>\n",
       "      <th>AIRPORT_IS_LATEST</th>\n",
       "      <th>Passengers</th>\n",
       "    </tr>\n",
       "  </thead>\n",
       "  <tbody>\n",
       "    <tr>\n",
       "      <th>0</th>\n",
       "      <td>ABE</td>\n",
       "      <td>40.652500</td>\n",
       "      <td>-75.440278</td>\n",
       "      <td>1</td>\n",
       "      <td>71709.0</td>\n",
       "    </tr>\n",
       "    <tr>\n",
       "      <th>1</th>\n",
       "      <td>ABI</td>\n",
       "      <td>32.411389</td>\n",
       "      <td>-99.681944</td>\n",
       "      <td>1</td>\n",
       "      <td>13874.0</td>\n",
       "    </tr>\n",
       "    <tr>\n",
       "      <th>2</th>\n",
       "      <td>ABQ</td>\n",
       "      <td>35.038889</td>\n",
       "      <td>-106.608333</td>\n",
       "      <td>1</td>\n",
       "      <td>326124.0</td>\n",
       "    </tr>\n",
       "    <tr>\n",
       "      <th>3</th>\n",
       "      <td>ABR</td>\n",
       "      <td>45.446667</td>\n",
       "      <td>-98.422500</td>\n",
       "      <td>1</td>\n",
       "      <td>4832.0</td>\n",
       "    </tr>\n",
       "    <tr>\n",
       "      <th>4</th>\n",
       "      <td>ABY</td>\n",
       "      <td>31.535556</td>\n",
       "      <td>-84.194444</td>\n",
       "      <td>1</td>\n",
       "      <td>6270.0</td>\n",
       "    </tr>\n",
       "  </tbody>\n",
       "</table>\n",
       "</div>"
      ],
      "text/plain": [
       "  AIRPORT   LATITUDE   LONGITUDE  AIRPORT_IS_LATEST  Passengers\n",
       "0     ABE  40.652500  -75.440278                  1     71709.0\n",
       "1     ABI  32.411389  -99.681944                  1     13874.0\n",
       "2     ABQ  35.038889 -106.608333                  1    326124.0\n",
       "3     ABR  45.446667  -98.422500                  1      4832.0\n",
       "4     ABY  31.535556  -84.194444                  1      6270.0"
      ]
     },
     "execution_count": 18,
     "metadata": {},
     "output_type": "execute_result"
    }
   ],
   "source": [
    "coord_with_passengers = coord.merge(df_passengers, on='AIRPORT')\n",
    "coord_with_passengers.head()"
   ]
  },
  {
   "cell_type": "markdown",
   "id": "15903e57",
   "metadata": {},
   "source": [
    "Visualize all airports on the map."
   ]
  },
  {
   "cell_type": "code",
   "execution_count": 160,
   "id": "3b619ef4",
   "metadata": {
    "scrolled": false
   },
   "outputs": [
    {
     "data": {
      "application/vnd.plotly.v1+json": {
       "config": {
        "plotlyServerURL": "https://plot.ly"
       },
       "data": [
        {
         "hovertemplate": "LATITUDE=%{lat}<br>LONGITUDE=%{lon}<extra></extra>",
         "lat": [
          40.6525,
          32.41138889,
          35.03888889,
          45.44666667,
          31.53555556,
          41.25305556,
          31.61222222,
          40.97777778,
          39.4575,
          51.88361111,
          57.74972222,
          31.3275,
          33.37,
          42.05333333,
          58.67638889,
          42.74916667,
          42.55833333,
          37.435,
          46.0925,
          35.21944444,
          61.17416667,
          61.58138889,
          40.29638889,
          45.07805556,
          43.99194444,
          39.22194444,
          33.63666667,
          44.25805556,
          44.91388889,
          44.32055556,
          30.19444444,
          35.43611111,
          41.33833333,
          33.30777778,
          42.23444444,
          41.93916667,
          60.77861111,
          41.80305556,
          41.87416667,
          35.43388889,
          42.20833333,
          44.8075,
          44.44972222,
          33.56388889,
          37.37305556,
          45.80777778,
          46.77277778,
          47.51083333,
          36.53194444,
          37.78722222,
          48.79277778,
          38.54527778,
          40.47722222,
          36.12444444,
          43.56444444,
          42.36305556,
          29.95083333,
          31.25916667,
          18.49472222,
          46.40416667,
          40.78305556,
          25.90611111,
          71.28472222,
          45.95472222,
          30.53305556,
          44.47194444,
          42.94055556,
          34.20055556,
          39.17583333,
          45.77722222,
          33.93888889,
          40.915,
          55.20583333,
          37.70083333,
          42.8375,
          60.49166667,
          41.78027778,
          37.30305556,
          37.22527778,
          35.03527778,
          38.13972222,
          32.89861111,
          41.88472222,
          46.25083333,
          39.29777778,
          41.40944444,
          30.58805556,
          35.21361111,
          39.99694444,
          40.03861111,
          47.16777778,
          32.3375,
          38.7575,
          44.52027778,
          38.80583333,
          38.81777778,
          42.90583333,
          18.31305556,
          27.77222222,
          38.37611111,
          32.51638889,
          39.04888889,
          34.42666667,
          44.7775,
          41.15555556,
          29.18,
          32.84583333,
          39.90222222,
          42.40194444,
          38.85138889,
          37.76305556,
          39.83444444,
          39.86166667,
          32.89722222,
          31.32111111,
          46.80083333,
          59.04472222,
          46.84194444,
          37.15166667,
          29.37416667,
          30.4,
          41.53416667,
          42.2125,
          41.17833333,
          53.89888889,
          48.11666667,
          40.72694444,
          47.39888889,
          44.86583333,
          30.35833333,
          39.64277778,
          40.825,
          33.22111111,
          42.15972222,
          31.80722222,
          60.57333333,
          42.08305556,
          45.72277778,
          44.12444444,
          38.04083333,
          41.67666667,
          35.07277778,
          40.6925,
          24.55611111,
          64.81527778,
          46.92055556,
          36.77666667,
          34.99111111,
          48.31055556,
          35.14027778,
          26.07166667,
          34.18527778,
          40.45194444,
          42.96555556,
          42.55111111,
          43.58194444,
          35.33527778,
          40.97833333,
          44.34888889,
          37.9275,
          47.13861111,
          47.61916667,
          47.94722222,
          32.38388889,
          48.2125,
          39.1225,
          33.48277778,
          29.69,
          30.40722222,
          44.48472222,
          40.9675,
          31.06722222,
          42.88083333,
          36.10138889,
          34.89555556,
          58.42527778,
          47.48222222,
          33.44833333,
          38.53444444,
          13.48388889,
          40.48111111,
          39.70861111,
          32.22444444,
          47.38666667,
          46.60666667,
          58.09611111,
          21.31777778,
          20.79555556,
          32.6875,
          59.645,
          34.47805556,
          29.64583333,
          41.06694444,
          26.22722222,
          36.26138889,
          34.63722222,
          38.36861111,
          41.26361111,
          48.54305556,
          41.66944444,
          38.84222222,
          38.9475,
          43.1075,
          29.98444444,
          37.65,
          43.51361111,
          39.67861111,
          34.27111111,
          45.81833333,
          39.71722222,
          48.56555556,
          32.83416667,
          41.24166667,
          40.09333333,
          40.79611111,
          42.49138889,
          19.72027778,
          46.5275,
          43.60722222,
          32.31111111,
          30.49416667,
          40.64,
          20.96305556,
          37.15305556,
          46.92972222,
          58.35472222,
          40.31555556,
          19.73888889,
          62.06083333,
          55.35416667,
          42.77861111,
          41.31194444,
          36.08,
          34.56777778,
          33.9425,
          33.66361111,
          40.27305556,
          41.12611111,
          37.04388889,
          30.12611111,
          39.81388889,
          43.62611111,
          38.03666667,
          30.205,
          40.77722222,
          33.81805556,
          21.97611111,
          34.72944444,
          40.85083333,
          40.12222222,
          20.78555556,
          27.54416667,
          43.87916667,
          37.85833333,
          46.37444444,
          37.32527778,
          31.9425,
          18.25555556,
          44.2725,
          43.53305556,
          37.28472222,
          39.2975,
          40.20638889,
          32.69277778,
          28.42944444,
          43.15777778,
          40.19305556,
          41.78583333,
          32.3325,
          35.0425,
          26.17583333,
          42.375,
          32.30055556,
          39.64361111,
          39.14111111,
          42.93277778,
          25.79527778,
          42.94694444,
          43.16777778,
          21.15277778,
          35.6,
          44.22277778,
          28.10277778,
          41.44833333,
          32.51055556,
          30.69138889,
          48.25777778,
          46.34916667,
          36.58694444,
          34.74527778,
          43.14,
          46.91638889,
          44.88194444,
          44.93611111,
          29.99333333,
          38.50972222,
          20.00138889,
          41.39333333,
          37.755,
          33.67972222,
          34.82916667,
          37.72111111,
          41.195,
          20.89861111,
          44.68222222,
          35.39305556,
          48.09444444,
          41.30305556,
          64.51055556,
          34.05611111,
          41.97694444,
          36.89472222,
          42.26722222,
          43.41694444,
          66.88472222,
          37.73888889,
          47.90722222,
          37.06027778,
          44.65083333,
          26.68305556,
          45.69472222,
          45.58861111,
          36.92611111,
          26.91861111,
          35.63555556,
          37.13194444,
          39.87194444,
          33.43416667,
          40.66416667,
          31.46722222,
          27.90861111,
          42.90972222,
          44.38277778,
          40.49138889,
          39.345,
          45.57083333,
          30.47333333,
          -14.33,
          46.68888889,
          34.65472222,
          46.26472222,
          18.00888889,
          56.80138889,
          43.07805556,
          33.82972222,
          38.29,
          46.74166667,
          42.07222222,
          41.72222222,
          40.21916667,
          43.64555556,
          44.04527778,
          40.50888889,
          44.25416667,
          35.87777778,
          42.19527778,
          45.63083333,
          37.50527778,
          43.06416667,
          44.06027778,
          41.59416667,
          39.49916667,
          37.32555556,
          43.11916667,
          33.3,
          43.90833333,
          26.53611111,
          43.52972222,
          35.61722222,
          32.73361111,
          29.53388889,
          32.1275,
          34.42611111,
          41.70833333,
          35.23722222,
          38.34027778,
          70.19472222,
          40.85,
          37.89444444,
          38.17416667,
          55.31361111,
          47.70694444,
          47.45,
          28.77722222,
          37.61888889,
          37.24555556,
          37.03638889,
          38.26388889,
          44.76916667,
          32.44638889,
          57.04694444,
          37.36305556,
          31.35777778,
          18.43944444,
          40.78833333,
          44.38527778,
          38.79055556,
          38.69555556,
          34.9,
          33.67555556,
          57.16638889,
          34.26555556,
          18.33861111,
          39.84416667,
          15.12027778,
          33.98888889,
          27.39555556,
          17.74916667,
          45.54611111,
          38.74861111,
          38.50972222,
          18.33722222,
          17.70138889,
          43.50388889,
          42.40138889,
          41.50416667,
          36.16138889,
          43.11111111,
          37.74166667,
          37.95388889,
          30.39666667,
          41.58694444,
          27.97555556,
          36.47527778,
          40.27666667,
          36.19833333,
          34.26888889,
          32.11611111,
          44.74166667,
          48.06555556,
          42.48194444,
          33.45361111,
          32.35361111,
          35.81111111,
          39.94305556,
          63.88861111,
          35.38777778,
          28.85416667,
          61.13416667,
          40.43611111,
          30.78138889,
          30.48333333,
          18.13472222,
          56.48444444,
          44.68833333,
          36.28166667,
          48.25972222,
          59.50333333,
          46.56805556,
          32.65666667
         ],
         "legendgroup": "",
         "lon": [
          -75.44027778,
          -99.68194444,
          -106.60833333,
          -98.4225,
          -84.19444444,
          -70.06,
          -97.23027778,
          -124.10833333,
          -74.57722222,
          -176.6425,
          -152.49388889,
          -92.54861111,
          -81.96444444,
          -102.80361111,
          -156.64861111,
          -73.80194444,
          -92.40111111,
          -105.86777778,
          -118.28416667,
          -101.70583333,
          -149.99805556,
          -159.54527778,
          -78.32,
          -83.56027778,
          -76.01944444,
          -106.86833333,
          -84.42777778,
          -88.51916667,
          -97.15472222,
          -69.79722222,
          -97.67,
          -82.54194444,
          -75.72333333,
          -111.65555556,
          -85.55166667,
          -72.68444444,
          -161.83722222,
          -78.64,
          -103.59555556,
          -119.05777778,
          -75.97972222,
          -68.82805556,
          -68.36138889,
          -86.75222222,
          -118.36361111,
          -108.54361111,
          -100.74583333,
          -94.93472222,
          -93.20055556,
          -81.12416667,
          -122.5375,
          -89.83527778,
          -88.91583333,
          -86.67805556,
          -116.22277778,
          -71.00638889,
          -94.02055556,
          -81.46638889,
          -67.12944444,
          -94.13361111,
          -91.12555556,
          -97.42611111,
          -156.76861111,
          -112.4975,
          -91.15,
          -73.15333333,
          -78.73055556,
          -118.35861111,
          -76.66888889,
          -111.15027778,
          -81.11944444,
          -81.44361111,
          -162.72611111,
          -113.09888889,
          -103.09527778,
          -145.4775,
          -124.23666667,
          -108.62805556,
          -89.57083333,
          -85.20361111,
          -78.45222222,
          -80.04055556,
          -91.71083333,
          -84.4725,
          -80.2275,
          -81.85472222,
          -96.3625,
          -80.94916667,
          -82.89222222,
          -88.27666667,
          -88.48638889,
          -104.26333333,
          -109.75333333,
          -109.02388889,
          -104.70083333,
          -92.21777778,
          -106.46361111,
          -65.30388889,
          -97.5025,
          -81.59277778,
          -84.93888889,
          -84.66777778,
          -103.0775,
          -89.66666667,
          -104.81055556,
          -81.05805556,
          -96.85083333,
          -84.21944444,
          -90.70944444,
          -77.03777778,
          -99.96555556,
          -88.86555556,
          -104.67305556,
          -97.03777778,
          -85.44944444,
          -102.80333333,
          -158.50555556,
          -92.19333333,
          -107.75388889,
          -100.92722222,
          -86.47138889,
          -93.65777778,
          -83.35333333,
          -78.89861111,
          -166.545,
          -98.91,
          -99.00666667,
          -120.20694444,
          -91.48416667,
          -85.79555556,
          -106.91583333,
          -115.79138889,
          -92.81166667,
          -76.89166667,
          -106.37638889,
          -151.24472222,
          -80.17388889,
          -87.09361111,
          -123.21194444,
          -87.52861111,
          -70.95777778,
          -77.04305556,
          -74.16861111,
          -81.76,
          -147.85666667,
          -96.81583333,
          -119.71888889,
          -78.88027778,
          -114.25611111,
          -111.66916667,
          -80.14972222,
          -79.72388889,
          -105.01138889,
          -83.74472222,
          -94.19194444,
          -96.74194444,
          -94.36777778,
          -85.19527778,
          -105.53944444,
          -100.72444444,
          -104.80722222,
          -117.53527778,
          -97.17388889,
          -94.71138889,
          -106.61472222,
          -108.52666667,
          -90.98555556,
          -82.27166667,
          -89.07,
          -88.12972222,
          -98.30972222,
          -97.82888889,
          -85.52277778,
          -79.94111111,
          -82.21888889,
          -135.7075,
          -111.37027778,
          -88.59138889,
          -106.93166667,
          144.79722222,
          -107.21777778,
          -77.72638889,
          -80.6975,
          -92.83888889,
          -111.98333333,
          -135.40888889,
          -157.92027778,
          -156.01444444,
          -103.21722222,
          -151.48583333,
          -93.09611111,
          -95.27722222,
          -73.7075,
          -97.65527778,
          -93.15472222,
          -86.775,
          -82.56027778,
          -72.88777778,
          -109.76222222,
          -70.28027778,
          -99.27305556,
          -77.46,
          -78.94583333,
          -95.34138889,
          -97.43305556,
          -112.07083333,
          -75.60666667,
          -77.90277778,
          -88.11444444,
          -86.29472222,
          -93.40222222,
          -115.57888889,
          -76.92194444,
          -92.545,
          -73.10055556,
          -76.45861111,
          -155.04833333,
          -90.13138889,
          -110.73777778,
          -90.07583333,
          -81.68777778,
          -73.77861111,
          -156.67305556,
          -94.49888889,
          -98.67805556,
          -134.57833333,
          -78.83472222,
          -156.04555556,
          -163.30194444,
          -131.71111111,
          -84.58611111,
          -105.675,
          -115.15222222,
          -98.41666667,
          -118.40805556,
          -101.82055556,
          -79.41027778,
          -100.68361111,
          -100.96,
          -93.22333333,
          -82.92777778,
          -72.30416667,
          -84.60861111,
          -91.98777778,
          -73.8725,
          -118.15194444,
          -159.33888889,
          -92.22472222,
          -96.75916667,
          -76.29444444,
          -156.95138889,
          -99.46166667,
          -91.25666667,
          -80.39944444,
          -117.01527778,
          -79.20111111,
          -102.20194444,
          -67.14833333,
          -86.24694444,
          -84.07972222,
          -120.51388889,
          -94.71388889,
          -100.59194444,
          -83.64916667,
          -81.30888889,
          -93.33111111,
          -76.7625,
          -87.7525,
          -88.75194444,
          -89.97666667,
          -98.23861111,
          -122.87333333,
          -86.39388889,
          -79.9175,
          -96.67194444,
          -71.43583333,
          -80.29,
          -87.89694444,
          -86.23555556,
          -157.09638889,
          -88.91555556,
          -93.91944444,
          -80.64527778,
          -90.5075,
          -92.03611111,
          -88.24277778,
          -101.27805556,
          -87.39638889,
          -121.84305556,
          -87.61027778,
          -89.3375,
          -114.09055556,
          -93.22166667,
          -74.845,
          -90.25916667,
          -107.89416667,
          -155.66805556,
          -70.61388889,
          -89.01111111,
          -78.92833333,
          -77.61222222,
          -122.22111111,
          -112.01222222,
          -156.43055556,
          -75.46333333,
          -97.60083333,
          -105.575,
          -95.89416667,
          -165.44472222,
          -117.60111111,
          -87.90805556,
          -76.20111111,
          -71.87555556,
          -124.24694444,
          -162.59805556,
          -87.16694444,
          -122.28222222,
          -88.77305556,
          -73.46805556,
          -80.09555556,
          -118.84305556,
          -122.59694444,
          -111.44833333,
          -81.99083333,
          -77.38416667,
          -76.49305556,
          -75.24055556,
          -112.01166667,
          -89.69333333,
          -89.33694444,
          -82.68638889,
          -112.59583333,
          -100.28583333,
          -80.23277778,
          -81.43916667,
          -84.79666667,
          -87.18666667,
          -170.71027778,
          -68.04472222,
          -112.41916667,
          -119.11888889,
          -66.56444444,
          -132.94611111,
          -70.82333333,
          -116.50666667,
          -104.49805556,
          -117.11166667,
          -70.22083333,
          -71.42777778,
          -111.72333333,
          -70.30861111,
          -103.05722222,
          -122.29333333,
          -121.15055556,
          -78.7875,
          -89.09722222,
          -89.46666667,
          -77.31972222,
          -108.45972222,
          -69.09972222,
          -109.06527778,
          -119.76805556,
          -79.97555556,
          -77.67194444,
          -104.52944444,
          -92.5,
          -81.75527778,
          -72.94972222,
          -106.08944444,
          -117.18972222,
          -98.46916667,
          -81.20222222,
          -119.84138889,
          -86.31722222,
          -120.6425,
          -75.50944444,
          -148.46527778,
          -77.8475,
          -121.23861111,
          -85.73638889,
          -160.52138889,
          -104.1925,
          -122.31166667,
          -81.235,
          -122.37555556,
          -93.38861111,
          -113.51027778,
          -78.89638889,
          -106.98027778,
          -93.82611111,
          -135.36111111,
          -121.92861111,
          -100.49638889,
          -66.00222222,
          -111.97777778,
          -74.20611111,
          -97.65222222,
          -121.59083333,
          -120.45805556,
          -117.86833333,
          -170.2225,
          -110.00555556,
          -64.94083333,
          -89.67805556,
          145.73,
          -98.49194444,
          -82.55444444,
          -64.70527778,
          -94.05944444,
          -90.37,
          -122.81277778,
          -64.97333333,
          -64.80194444,
          -114.29555556,
          -96.38444444,
          -74.10472222,
          -97.08583333,
          -76.10638889,
          -92.14083333,
          -107.90888889,
          -84.35083333,
          -83.80777778,
          -82.53333333,
          -82.4075,
          -74.81333333,
          -95.88805556,
          -88.77,
          -110.94111111,
          -85.58194444,
          -96.185,
          -114.48777778,
          -93.99111111,
          -95.40305556,
          -83.99416667,
          -91.19444444,
          -160.79916667,
          -80.70916667,
          -96.91861111,
          -146.24472222,
          -109.51138889,
          -83.27611111,
          -86.52527778,
          -65.49361111,
          -132.36972222,
          -111.11777778,
          -94.30777778,
          -103.75055556,
          -139.66027778,
          -120.54416667,
          -114.60611111
         ],
         "marker": {
          "color": "#636efa"
         },
         "mode": "markers",
         "name": "",
         "showlegend": false,
         "subplot": "mapbox",
         "type": "scattermapbox"
        }
       ],
       "layout": {
        "legend": {
         "tracegroupgap": 0
        },
        "mapbox": {
         "accesstoken": "pk.eyJ1IjoiZWdvcjIyODI4MiIsImEiOiJja281eGVhdHcxeG1sMm9tdng2aHk4YzByIn0.CX0VdWcrzcxNS3EQX8JrDw",
         "center": {
          "lat": 39.10049876557773,
          "lon": -97.44893518526672
         },
         "domain": {
          "x": [
           0,
           1
          ],
          "y": [
           0,
           1
          ]
         },
         "zoom": 2
        },
        "margin": {
         "t": 60
        },
        "template": {
         "data": {
          "bar": [
           {
            "error_x": {
             "color": "#2a3f5f"
            },
            "error_y": {
             "color": "#2a3f5f"
            },
            "marker": {
             "line": {
              "color": "#E5ECF6",
              "width": 0.5
             },
             "pattern": {
              "fillmode": "overlay",
              "size": 10,
              "solidity": 0.2
             }
            },
            "type": "bar"
           }
          ],
          "barpolar": [
           {
            "marker": {
             "line": {
              "color": "#E5ECF6",
              "width": 0.5
             },
             "pattern": {
              "fillmode": "overlay",
              "size": 10,
              "solidity": 0.2
             }
            },
            "type": "barpolar"
           }
          ],
          "carpet": [
           {
            "aaxis": {
             "endlinecolor": "#2a3f5f",
             "gridcolor": "white",
             "linecolor": "white",
             "minorgridcolor": "white",
             "startlinecolor": "#2a3f5f"
            },
            "baxis": {
             "endlinecolor": "#2a3f5f",
             "gridcolor": "white",
             "linecolor": "white",
             "minorgridcolor": "white",
             "startlinecolor": "#2a3f5f"
            },
            "type": "carpet"
           }
          ],
          "choropleth": [
           {
            "colorbar": {
             "outlinewidth": 0,
             "ticks": ""
            },
            "type": "choropleth"
           }
          ],
          "contour": [
           {
            "colorbar": {
             "outlinewidth": 0,
             "ticks": ""
            },
            "colorscale": [
             [
              0,
              "#0d0887"
             ],
             [
              0.1111111111111111,
              "#46039f"
             ],
             [
              0.2222222222222222,
              "#7201a8"
             ],
             [
              0.3333333333333333,
              "#9c179e"
             ],
             [
              0.4444444444444444,
              "#bd3786"
             ],
             [
              0.5555555555555556,
              "#d8576b"
             ],
             [
              0.6666666666666666,
              "#ed7953"
             ],
             [
              0.7777777777777778,
              "#fb9f3a"
             ],
             [
              0.8888888888888888,
              "#fdca26"
             ],
             [
              1,
              "#f0f921"
             ]
            ],
            "type": "contour"
           }
          ],
          "contourcarpet": [
           {
            "colorbar": {
             "outlinewidth": 0,
             "ticks": ""
            },
            "type": "contourcarpet"
           }
          ],
          "heatmap": [
           {
            "colorbar": {
             "outlinewidth": 0,
             "ticks": ""
            },
            "colorscale": [
             [
              0,
              "#0d0887"
             ],
             [
              0.1111111111111111,
              "#46039f"
             ],
             [
              0.2222222222222222,
              "#7201a8"
             ],
             [
              0.3333333333333333,
              "#9c179e"
             ],
             [
              0.4444444444444444,
              "#bd3786"
             ],
             [
              0.5555555555555556,
              "#d8576b"
             ],
             [
              0.6666666666666666,
              "#ed7953"
             ],
             [
              0.7777777777777778,
              "#fb9f3a"
             ],
             [
              0.8888888888888888,
              "#fdca26"
             ],
             [
              1,
              "#f0f921"
             ]
            ],
            "type": "heatmap"
           }
          ],
          "heatmapgl": [
           {
            "colorbar": {
             "outlinewidth": 0,
             "ticks": ""
            },
            "colorscale": [
             [
              0,
              "#0d0887"
             ],
             [
              0.1111111111111111,
              "#46039f"
             ],
             [
              0.2222222222222222,
              "#7201a8"
             ],
             [
              0.3333333333333333,
              "#9c179e"
             ],
             [
              0.4444444444444444,
              "#bd3786"
             ],
             [
              0.5555555555555556,
              "#d8576b"
             ],
             [
              0.6666666666666666,
              "#ed7953"
             ],
             [
              0.7777777777777778,
              "#fb9f3a"
             ],
             [
              0.8888888888888888,
              "#fdca26"
             ],
             [
              1,
              "#f0f921"
             ]
            ],
            "type": "heatmapgl"
           }
          ],
          "histogram": [
           {
            "marker": {
             "pattern": {
              "fillmode": "overlay",
              "size": 10,
              "solidity": 0.2
             }
            },
            "type": "histogram"
           }
          ],
          "histogram2d": [
           {
            "colorbar": {
             "outlinewidth": 0,
             "ticks": ""
            },
            "colorscale": [
             [
              0,
              "#0d0887"
             ],
             [
              0.1111111111111111,
              "#46039f"
             ],
             [
              0.2222222222222222,
              "#7201a8"
             ],
             [
              0.3333333333333333,
              "#9c179e"
             ],
             [
              0.4444444444444444,
              "#bd3786"
             ],
             [
              0.5555555555555556,
              "#d8576b"
             ],
             [
              0.6666666666666666,
              "#ed7953"
             ],
             [
              0.7777777777777778,
              "#fb9f3a"
             ],
             [
              0.8888888888888888,
              "#fdca26"
             ],
             [
              1,
              "#f0f921"
             ]
            ],
            "type": "histogram2d"
           }
          ],
          "histogram2dcontour": [
           {
            "colorbar": {
             "outlinewidth": 0,
             "ticks": ""
            },
            "colorscale": [
             [
              0,
              "#0d0887"
             ],
             [
              0.1111111111111111,
              "#46039f"
             ],
             [
              0.2222222222222222,
              "#7201a8"
             ],
             [
              0.3333333333333333,
              "#9c179e"
             ],
             [
              0.4444444444444444,
              "#bd3786"
             ],
             [
              0.5555555555555556,
              "#d8576b"
             ],
             [
              0.6666666666666666,
              "#ed7953"
             ],
             [
              0.7777777777777778,
              "#fb9f3a"
             ],
             [
              0.8888888888888888,
              "#fdca26"
             ],
             [
              1,
              "#f0f921"
             ]
            ],
            "type": "histogram2dcontour"
           }
          ],
          "mesh3d": [
           {
            "colorbar": {
             "outlinewidth": 0,
             "ticks": ""
            },
            "type": "mesh3d"
           }
          ],
          "parcoords": [
           {
            "line": {
             "colorbar": {
              "outlinewidth": 0,
              "ticks": ""
             }
            },
            "type": "parcoords"
           }
          ],
          "pie": [
           {
            "automargin": true,
            "type": "pie"
           }
          ],
          "scatter": [
           {
            "marker": {
             "colorbar": {
              "outlinewidth": 0,
              "ticks": ""
             }
            },
            "type": "scatter"
           }
          ],
          "scatter3d": [
           {
            "line": {
             "colorbar": {
              "outlinewidth": 0,
              "ticks": ""
             }
            },
            "marker": {
             "colorbar": {
              "outlinewidth": 0,
              "ticks": ""
             }
            },
            "type": "scatter3d"
           }
          ],
          "scattercarpet": [
           {
            "marker": {
             "colorbar": {
              "outlinewidth": 0,
              "ticks": ""
             }
            },
            "type": "scattercarpet"
           }
          ],
          "scattergeo": [
           {
            "marker": {
             "colorbar": {
              "outlinewidth": 0,
              "ticks": ""
             }
            },
            "type": "scattergeo"
           }
          ],
          "scattergl": [
           {
            "marker": {
             "colorbar": {
              "outlinewidth": 0,
              "ticks": ""
             }
            },
            "type": "scattergl"
           }
          ],
          "scattermapbox": [
           {
            "marker": {
             "colorbar": {
              "outlinewidth": 0,
              "ticks": ""
             }
            },
            "type": "scattermapbox"
           }
          ],
          "scatterpolar": [
           {
            "marker": {
             "colorbar": {
              "outlinewidth": 0,
              "ticks": ""
             }
            },
            "type": "scatterpolar"
           }
          ],
          "scatterpolargl": [
           {
            "marker": {
             "colorbar": {
              "outlinewidth": 0,
              "ticks": ""
             }
            },
            "type": "scatterpolargl"
           }
          ],
          "scatterternary": [
           {
            "marker": {
             "colorbar": {
              "outlinewidth": 0,
              "ticks": ""
             }
            },
            "type": "scatterternary"
           }
          ],
          "surface": [
           {
            "colorbar": {
             "outlinewidth": 0,
             "ticks": ""
            },
            "colorscale": [
             [
              0,
              "#0d0887"
             ],
             [
              0.1111111111111111,
              "#46039f"
             ],
             [
              0.2222222222222222,
              "#7201a8"
             ],
             [
              0.3333333333333333,
              "#9c179e"
             ],
             [
              0.4444444444444444,
              "#bd3786"
             ],
             [
              0.5555555555555556,
              "#d8576b"
             ],
             [
              0.6666666666666666,
              "#ed7953"
             ],
             [
              0.7777777777777778,
              "#fb9f3a"
             ],
             [
              0.8888888888888888,
              "#fdca26"
             ],
             [
              1,
              "#f0f921"
             ]
            ],
            "type": "surface"
           }
          ],
          "table": [
           {
            "cells": {
             "fill": {
              "color": "#EBF0F8"
             },
             "line": {
              "color": "white"
             }
            },
            "header": {
             "fill": {
              "color": "#C8D4E3"
             },
             "line": {
              "color": "white"
             }
            },
            "type": "table"
           }
          ]
         },
         "layout": {
          "annotationdefaults": {
           "arrowcolor": "#2a3f5f",
           "arrowhead": 0,
           "arrowwidth": 1
          },
          "autotypenumbers": "strict",
          "coloraxis": {
           "colorbar": {
            "outlinewidth": 0,
            "ticks": ""
           }
          },
          "colorscale": {
           "diverging": [
            [
             0,
             "#8e0152"
            ],
            [
             0.1,
             "#c51b7d"
            ],
            [
             0.2,
             "#de77ae"
            ],
            [
             0.3,
             "#f1b6da"
            ],
            [
             0.4,
             "#fde0ef"
            ],
            [
             0.5,
             "#f7f7f7"
            ],
            [
             0.6,
             "#e6f5d0"
            ],
            [
             0.7,
             "#b8e186"
            ],
            [
             0.8,
             "#7fbc41"
            ],
            [
             0.9,
             "#4d9221"
            ],
            [
             1,
             "#276419"
            ]
           ],
           "sequential": [
            [
             0,
             "#0d0887"
            ],
            [
             0.1111111111111111,
             "#46039f"
            ],
            [
             0.2222222222222222,
             "#7201a8"
            ],
            [
             0.3333333333333333,
             "#9c179e"
            ],
            [
             0.4444444444444444,
             "#bd3786"
            ],
            [
             0.5555555555555556,
             "#d8576b"
            ],
            [
             0.6666666666666666,
             "#ed7953"
            ],
            [
             0.7777777777777778,
             "#fb9f3a"
            ],
            [
             0.8888888888888888,
             "#fdca26"
            ],
            [
             1,
             "#f0f921"
            ]
           ],
           "sequentialminus": [
            [
             0,
             "#0d0887"
            ],
            [
             0.1111111111111111,
             "#46039f"
            ],
            [
             0.2222222222222222,
             "#7201a8"
            ],
            [
             0.3333333333333333,
             "#9c179e"
            ],
            [
             0.4444444444444444,
             "#bd3786"
            ],
            [
             0.5555555555555556,
             "#d8576b"
            ],
            [
             0.6666666666666666,
             "#ed7953"
            ],
            [
             0.7777777777777778,
             "#fb9f3a"
            ],
            [
             0.8888888888888888,
             "#fdca26"
            ],
            [
             1,
             "#f0f921"
            ]
           ]
          },
          "colorway": [
           "#636efa",
           "#EF553B",
           "#00cc96",
           "#ab63fa",
           "#FFA15A",
           "#19d3f3",
           "#FF6692",
           "#B6E880",
           "#FF97FF",
           "#FECB52"
          ],
          "font": {
           "color": "#2a3f5f"
          },
          "geo": {
           "bgcolor": "white",
           "lakecolor": "white",
           "landcolor": "#E5ECF6",
           "showlakes": true,
           "showland": true,
           "subunitcolor": "white"
          },
          "hoverlabel": {
           "align": "left"
          },
          "hovermode": "closest",
          "mapbox": {
           "style": "light"
          },
          "paper_bgcolor": "white",
          "plot_bgcolor": "#E5ECF6",
          "polar": {
           "angularaxis": {
            "gridcolor": "white",
            "linecolor": "white",
            "ticks": ""
           },
           "bgcolor": "#E5ECF6",
           "radialaxis": {
            "gridcolor": "white",
            "linecolor": "white",
            "ticks": ""
           }
          },
          "scene": {
           "xaxis": {
            "backgroundcolor": "#E5ECF6",
            "gridcolor": "white",
            "gridwidth": 2,
            "linecolor": "white",
            "showbackground": true,
            "ticks": "",
            "zerolinecolor": "white"
           },
           "yaxis": {
            "backgroundcolor": "#E5ECF6",
            "gridcolor": "white",
            "gridwidth": 2,
            "linecolor": "white",
            "showbackground": true,
            "ticks": "",
            "zerolinecolor": "white"
           },
           "zaxis": {
            "backgroundcolor": "#E5ECF6",
            "gridcolor": "white",
            "gridwidth": 2,
            "linecolor": "white",
            "showbackground": true,
            "ticks": "",
            "zerolinecolor": "white"
           }
          },
          "shapedefaults": {
           "line": {
            "color": "#2a3f5f"
           }
          },
          "ternary": {
           "aaxis": {
            "gridcolor": "white",
            "linecolor": "white",
            "ticks": ""
           },
           "baxis": {
            "gridcolor": "white",
            "linecolor": "white",
            "ticks": ""
           },
           "bgcolor": "#E5ECF6",
           "caxis": {
            "gridcolor": "white",
            "linecolor": "white",
            "ticks": ""
           }
          },
          "title": {
           "x": 0.05
          },
          "xaxis": {
           "automargin": true,
           "gridcolor": "white",
           "linecolor": "white",
           "ticks": "",
           "title": {
            "standoff": 15
           },
           "zerolinecolor": "white",
           "zerolinewidth": 2
          },
          "yaxis": {
           "automargin": true,
           "gridcolor": "white",
           "linecolor": "white",
           "ticks": "",
           "title": {
            "standoff": 15
           },
           "zerolinecolor": "white",
           "zerolinewidth": 2
          }
         }
        }
       }
      },
      "text/html": [
       "<div>                            <div id=\"fdacd7b7-df6b-4312-b1a9-3716e367e683\" class=\"plotly-graph-div\" style=\"height:525px; width:100%;\"></div>            <script type=\"text/javascript\">                require([\"plotly\"], function(Plotly) {                    window.PLOTLYENV=window.PLOTLYENV || {};                                    if (document.getElementById(\"fdacd7b7-df6b-4312-b1a9-3716e367e683\")) {                    Plotly.newPlot(                        \"fdacd7b7-df6b-4312-b1a9-3716e367e683\",                        [{\"hovertemplate\":\"LATITUDE=%{lat}<br>LONGITUDE=%{lon}<extra></extra>\",\"lat\":[40.6525,32.41138889,35.03888889,45.44666667,31.53555556,41.25305556,31.61222222,40.97777778,39.4575,51.88361111,57.74972222,31.3275,33.37,42.05333333,58.67638889,42.74916667,42.55833333,37.435,46.0925,35.21944444,61.17416667,61.58138889,40.29638889,45.07805556,43.99194444,39.22194444,33.63666667,44.25805556,44.91388889,44.32055556,30.19444444,35.43611111,41.33833333,33.30777778,42.23444444,41.93916667,60.77861111,41.80305556,41.87416667,35.43388889,42.20833333,44.8075,44.44972222,33.56388889,37.37305556,45.80777778,46.77277778,47.51083333,36.53194444,37.78722222,48.79277778,38.54527778,40.47722222,36.12444444,43.56444444,42.36305556,29.95083333,31.25916667,18.49472222,46.40416667,40.78305556,25.90611111,71.28472222,45.95472222,30.53305556,44.47194444,42.94055556,34.20055556,39.17583333,45.77722222,33.93888889,40.915,55.20583333,37.70083333,42.8375,60.49166667,41.78027778,37.30305556,37.22527778,35.03527778,38.13972222,32.89861111,41.88472222,46.25083333,39.29777778,41.40944444,30.58805556,35.21361111,39.99694444,40.03861111,47.16777778,32.3375,38.7575,44.52027778,38.80583333,38.81777778,42.90583333,18.31305556,27.77222222,38.37611111,32.51638889,39.04888889,34.42666667,44.7775,41.15555556,29.18,32.84583333,39.90222222,42.40194444,38.85138889,37.76305556,39.83444444,39.86166667,32.89722222,31.32111111,46.80083333,59.04472222,46.84194444,37.15166667,29.37416667,30.4,41.53416667,42.2125,41.17833333,53.89888889,48.11666667,40.72694444,47.39888889,44.86583333,30.35833333,39.64277778,40.825,33.22111111,42.15972222,31.80722222,60.57333333,42.08305556,45.72277778,44.12444444,38.04083333,41.67666667,35.07277778,40.6925,24.55611111,64.81527778,46.92055556,36.77666667,34.99111111,48.31055556,35.14027778,26.07166667,34.18527778,40.45194444,42.96555556,42.55111111,43.58194444,35.33527778,40.97833333,44.34888889,37.9275,47.13861111,47.61916667,47.94722222,32.38388889,48.2125,39.1225,33.48277778,29.69,30.40722222,44.48472222,40.9675,31.06722222,42.88083333,36.10138889,34.89555556,58.42527778,47.48222222,33.44833333,38.53444444,13.48388889,40.48111111,39.70861111,32.22444444,47.38666667,46.60666667,58.09611111,21.31777778,20.79555556,32.6875,59.645,34.47805556,29.64583333,41.06694444,26.22722222,36.26138889,34.63722222,38.36861111,41.26361111,48.54305556,41.66944444,38.84222222,38.9475,43.1075,29.98444444,37.65,43.51361111,39.67861111,34.27111111,45.81833333,39.71722222,48.56555556,32.83416667,41.24166667,40.09333333,40.79611111,42.49138889,19.72027778,46.5275,43.60722222,32.31111111,30.49416667,40.64,20.96305556,37.15305556,46.92972222,58.35472222,40.31555556,19.73888889,62.06083333,55.35416667,42.77861111,41.31194444,36.08,34.56777778,33.9425,33.66361111,40.27305556,41.12611111,37.04388889,30.12611111,39.81388889,43.62611111,38.03666667,30.205,40.77722222,33.81805556,21.97611111,34.72944444,40.85083333,40.12222222,20.78555556,27.54416667,43.87916667,37.85833333,46.37444444,37.32527778,31.9425,18.25555556,44.2725,43.53305556,37.28472222,39.2975,40.20638889,32.69277778,28.42944444,43.15777778,40.19305556,41.78583333,32.3325,35.0425,26.17583333,42.375,32.30055556,39.64361111,39.14111111,42.93277778,25.79527778,42.94694444,43.16777778,21.15277778,35.6,44.22277778,28.10277778,41.44833333,32.51055556,30.69138889,48.25777778,46.34916667,36.58694444,34.74527778,43.14,46.91638889,44.88194444,44.93611111,29.99333333,38.50972222,20.00138889,41.39333333,37.755,33.67972222,34.82916667,37.72111111,41.195,20.89861111,44.68222222,35.39305556,48.09444444,41.30305556,64.51055556,34.05611111,41.97694444,36.89472222,42.26722222,43.41694444,66.88472222,37.73888889,47.90722222,37.06027778,44.65083333,26.68305556,45.69472222,45.58861111,36.92611111,26.91861111,35.63555556,37.13194444,39.87194444,33.43416667,40.66416667,31.46722222,27.90861111,42.90972222,44.38277778,40.49138889,39.345,45.57083333,30.47333333,-14.33,46.68888889,34.65472222,46.26472222,18.00888889,56.80138889,43.07805556,33.82972222,38.29,46.74166667,42.07222222,41.72222222,40.21916667,43.64555556,44.04527778,40.50888889,44.25416667,35.87777778,42.19527778,45.63083333,37.50527778,43.06416667,44.06027778,41.59416667,39.49916667,37.32555556,43.11916667,33.3,43.90833333,26.53611111,43.52972222,35.61722222,32.73361111,29.53388889,32.1275,34.42611111,41.70833333,35.23722222,38.34027778,70.19472222,40.85,37.89444444,38.17416667,55.31361111,47.70694444,47.45,28.77722222,37.61888889,37.24555556,37.03638889,38.26388889,44.76916667,32.44638889,57.04694444,37.36305556,31.35777778,18.43944444,40.78833333,44.38527778,38.79055556,38.69555556,34.9,33.67555556,57.16638889,34.26555556,18.33861111,39.84416667,15.12027778,33.98888889,27.39555556,17.74916667,45.54611111,38.74861111,38.50972222,18.33722222,17.70138889,43.50388889,42.40138889,41.50416667,36.16138889,43.11111111,37.74166667,37.95388889,30.39666667,41.58694444,27.97555556,36.47527778,40.27666667,36.19833333,34.26888889,32.11611111,44.74166667,48.06555556,42.48194444,33.45361111,32.35361111,35.81111111,39.94305556,63.88861111,35.38777778,28.85416667,61.13416667,40.43611111,30.78138889,30.48333333,18.13472222,56.48444444,44.68833333,36.28166667,48.25972222,59.50333333,46.56805556,32.65666667],\"legendgroup\":\"\",\"lon\":[-75.44027778,-99.68194444,-106.60833333,-98.4225,-84.19444444,-70.06,-97.23027778,-124.10833333,-74.57722222,-176.6425,-152.49388889,-92.54861111,-81.96444444,-102.80361111,-156.64861111,-73.80194444,-92.40111111,-105.86777778,-118.28416667,-101.70583333,-149.99805556,-159.54527778,-78.32,-83.56027778,-76.01944444,-106.86833333,-84.42777778,-88.51916667,-97.15472222,-69.79722222,-97.67,-82.54194444,-75.72333333,-111.65555556,-85.55166667,-72.68444444,-161.83722222,-78.64,-103.59555556,-119.05777778,-75.97972222,-68.82805556,-68.36138889,-86.75222222,-118.36361111,-108.54361111,-100.74583333,-94.93472222,-93.20055556,-81.12416667,-122.5375,-89.83527778,-88.91583333,-86.67805556,-116.22277778,-71.00638889,-94.02055556,-81.46638889,-67.12944444,-94.13361111,-91.12555556,-97.42611111,-156.76861111,-112.4975,-91.15,-73.15333333,-78.73055556,-118.35861111,-76.66888889,-111.15027778,-81.11944444,-81.44361111,-162.72611111,-113.09888889,-103.09527778,-145.4775,-124.23666667,-108.62805556,-89.57083333,-85.20361111,-78.45222222,-80.04055556,-91.71083333,-84.4725,-80.2275,-81.85472222,-96.3625,-80.94916667,-82.89222222,-88.27666667,-88.48638889,-104.26333333,-109.75333333,-109.02388889,-104.70083333,-92.21777778,-106.46361111,-65.30388889,-97.5025,-81.59277778,-84.93888889,-84.66777778,-103.0775,-89.66666667,-104.81055556,-81.05805556,-96.85083333,-84.21944444,-90.70944444,-77.03777778,-99.96555556,-88.86555556,-104.67305556,-97.03777778,-85.44944444,-102.80333333,-158.50555556,-92.19333333,-107.75388889,-100.92722222,-86.47138889,-93.65777778,-83.35333333,-78.89861111,-166.545,-98.91,-99.00666667,-120.20694444,-91.48416667,-85.79555556,-106.91583333,-115.79138889,-92.81166667,-76.89166667,-106.37638889,-151.24472222,-80.17388889,-87.09361111,-123.21194444,-87.52861111,-70.95777778,-77.04305556,-74.16861111,-81.76,-147.85666667,-96.81583333,-119.71888889,-78.88027778,-114.25611111,-111.66916667,-80.14972222,-79.72388889,-105.01138889,-83.74472222,-94.19194444,-96.74194444,-94.36777778,-85.19527778,-105.53944444,-100.72444444,-104.80722222,-117.53527778,-97.17388889,-94.71138889,-106.61472222,-108.52666667,-90.98555556,-82.27166667,-89.07,-88.12972222,-98.30972222,-97.82888889,-85.52277778,-79.94111111,-82.21888889,-135.7075,-111.37027778,-88.59138889,-106.93166667,144.79722222,-107.21777778,-77.72638889,-80.6975,-92.83888889,-111.98333333,-135.40888889,-157.92027778,-156.01444444,-103.21722222,-151.48583333,-93.09611111,-95.27722222,-73.7075,-97.65527778,-93.15472222,-86.775,-82.56027778,-72.88777778,-109.76222222,-70.28027778,-99.27305556,-77.46,-78.94583333,-95.34138889,-97.43305556,-112.07083333,-75.60666667,-77.90277778,-88.11444444,-86.29472222,-93.40222222,-115.57888889,-76.92194444,-92.545,-73.10055556,-76.45861111,-155.04833333,-90.13138889,-110.73777778,-90.07583333,-81.68777778,-73.77861111,-156.67305556,-94.49888889,-98.67805556,-134.57833333,-78.83472222,-156.04555556,-163.30194444,-131.71111111,-84.58611111,-105.675,-115.15222222,-98.41666667,-118.40805556,-101.82055556,-79.41027778,-100.68361111,-100.96,-93.22333333,-82.92777778,-72.30416667,-84.60861111,-91.98777778,-73.8725,-118.15194444,-159.33888889,-92.22472222,-96.75916667,-76.29444444,-156.95138889,-99.46166667,-91.25666667,-80.39944444,-117.01527778,-79.20111111,-102.20194444,-67.14833333,-86.24694444,-84.07972222,-120.51388889,-94.71388889,-100.59194444,-83.64916667,-81.30888889,-93.33111111,-76.7625,-87.7525,-88.75194444,-89.97666667,-98.23861111,-122.87333333,-86.39388889,-79.9175,-96.67194444,-71.43583333,-80.29,-87.89694444,-86.23555556,-157.09638889,-88.91555556,-93.91944444,-80.64527778,-90.5075,-92.03611111,-88.24277778,-101.27805556,-87.39638889,-121.84305556,-87.61027778,-89.3375,-114.09055556,-93.22166667,-74.845,-90.25916667,-107.89416667,-155.66805556,-70.61388889,-89.01111111,-78.92833333,-77.61222222,-122.22111111,-112.01222222,-156.43055556,-75.46333333,-97.60083333,-105.575,-95.89416667,-165.44472222,-117.60111111,-87.90805556,-76.20111111,-71.87555556,-124.24694444,-162.59805556,-87.16694444,-122.28222222,-88.77305556,-73.46805556,-80.09555556,-118.84305556,-122.59694444,-111.44833333,-81.99083333,-77.38416667,-76.49305556,-75.24055556,-112.01166667,-89.69333333,-89.33694444,-82.68638889,-112.59583333,-100.28583333,-80.23277778,-81.43916667,-84.79666667,-87.18666667,-170.71027778,-68.04472222,-112.41916667,-119.11888889,-66.56444444,-132.94611111,-70.82333333,-116.50666667,-104.49805556,-117.11166667,-70.22083333,-71.42777778,-111.72333333,-70.30861111,-103.05722222,-122.29333333,-121.15055556,-78.7875,-89.09722222,-89.46666667,-77.31972222,-108.45972222,-69.09972222,-109.06527778,-119.76805556,-79.97555556,-77.67194444,-104.52944444,-92.5,-81.75527778,-72.94972222,-106.08944444,-117.18972222,-98.46916667,-81.20222222,-119.84138889,-86.31722222,-120.6425,-75.50944444,-148.46527778,-77.8475,-121.23861111,-85.73638889,-160.52138889,-104.1925,-122.31166667,-81.235,-122.37555556,-93.38861111,-113.51027778,-78.89638889,-106.98027778,-93.82611111,-135.36111111,-121.92861111,-100.49638889,-66.00222222,-111.97777778,-74.20611111,-97.65222222,-121.59083333,-120.45805556,-117.86833333,-170.2225,-110.00555556,-64.94083333,-89.67805556,145.73,-98.49194444,-82.55444444,-64.70527778,-94.05944444,-90.37,-122.81277778,-64.97333333,-64.80194444,-114.29555556,-96.38444444,-74.10472222,-97.08583333,-76.10638889,-92.14083333,-107.90888889,-84.35083333,-83.80777778,-82.53333333,-82.4075,-74.81333333,-95.88805556,-88.77,-110.94111111,-85.58194444,-96.185,-114.48777778,-93.99111111,-95.40305556,-83.99416667,-91.19444444,-160.79916667,-80.70916667,-96.91861111,-146.24472222,-109.51138889,-83.27611111,-86.52527778,-65.49361111,-132.36972222,-111.11777778,-94.30777778,-103.75055556,-139.66027778,-120.54416667,-114.60611111],\"marker\":{\"color\":\"#636efa\"},\"mode\":\"markers\",\"name\":\"\",\"showlegend\":false,\"subplot\":\"mapbox\",\"type\":\"scattermapbox\"}],                        {\"template\":{\"data\":{\"bar\":[{\"error_x\":{\"color\":\"#2a3f5f\"},\"error_y\":{\"color\":\"#2a3f5f\"},\"marker\":{\"line\":{\"color\":\"#E5ECF6\",\"width\":0.5},\"pattern\":{\"fillmode\":\"overlay\",\"size\":10,\"solidity\":0.2}},\"type\":\"bar\"}],\"barpolar\":[{\"marker\":{\"line\":{\"color\":\"#E5ECF6\",\"width\":0.5},\"pattern\":{\"fillmode\":\"overlay\",\"size\":10,\"solidity\":0.2}},\"type\":\"barpolar\"}],\"carpet\":[{\"aaxis\":{\"endlinecolor\":\"#2a3f5f\",\"gridcolor\":\"white\",\"linecolor\":\"white\",\"minorgridcolor\":\"white\",\"startlinecolor\":\"#2a3f5f\"},\"baxis\":{\"endlinecolor\":\"#2a3f5f\",\"gridcolor\":\"white\",\"linecolor\":\"white\",\"minorgridcolor\":\"white\",\"startlinecolor\":\"#2a3f5f\"},\"type\":\"carpet\"}],\"choropleth\":[{\"colorbar\":{\"outlinewidth\":0,\"ticks\":\"\"},\"type\":\"choropleth\"}],\"contour\":[{\"colorbar\":{\"outlinewidth\":0,\"ticks\":\"\"},\"colorscale\":[[0.0,\"#0d0887\"],[0.1111111111111111,\"#46039f\"],[0.2222222222222222,\"#7201a8\"],[0.3333333333333333,\"#9c179e\"],[0.4444444444444444,\"#bd3786\"],[0.5555555555555556,\"#d8576b\"],[0.6666666666666666,\"#ed7953\"],[0.7777777777777778,\"#fb9f3a\"],[0.8888888888888888,\"#fdca26\"],[1.0,\"#f0f921\"]],\"type\":\"contour\"}],\"contourcarpet\":[{\"colorbar\":{\"outlinewidth\":0,\"ticks\":\"\"},\"type\":\"contourcarpet\"}],\"heatmap\":[{\"colorbar\":{\"outlinewidth\":0,\"ticks\":\"\"},\"colorscale\":[[0.0,\"#0d0887\"],[0.1111111111111111,\"#46039f\"],[0.2222222222222222,\"#7201a8\"],[0.3333333333333333,\"#9c179e\"],[0.4444444444444444,\"#bd3786\"],[0.5555555555555556,\"#d8576b\"],[0.6666666666666666,\"#ed7953\"],[0.7777777777777778,\"#fb9f3a\"],[0.8888888888888888,\"#fdca26\"],[1.0,\"#f0f921\"]],\"type\":\"heatmap\"}],\"heatmapgl\":[{\"colorbar\":{\"outlinewidth\":0,\"ticks\":\"\"},\"colorscale\":[[0.0,\"#0d0887\"],[0.1111111111111111,\"#46039f\"],[0.2222222222222222,\"#7201a8\"],[0.3333333333333333,\"#9c179e\"],[0.4444444444444444,\"#bd3786\"],[0.5555555555555556,\"#d8576b\"],[0.6666666666666666,\"#ed7953\"],[0.7777777777777778,\"#fb9f3a\"],[0.8888888888888888,\"#fdca26\"],[1.0,\"#f0f921\"]],\"type\":\"heatmapgl\"}],\"histogram\":[{\"marker\":{\"pattern\":{\"fillmode\":\"overlay\",\"size\":10,\"solidity\":0.2}},\"type\":\"histogram\"}],\"histogram2d\":[{\"colorbar\":{\"outlinewidth\":0,\"ticks\":\"\"},\"colorscale\":[[0.0,\"#0d0887\"],[0.1111111111111111,\"#46039f\"],[0.2222222222222222,\"#7201a8\"],[0.3333333333333333,\"#9c179e\"],[0.4444444444444444,\"#bd3786\"],[0.5555555555555556,\"#d8576b\"],[0.6666666666666666,\"#ed7953\"],[0.7777777777777778,\"#fb9f3a\"],[0.8888888888888888,\"#fdca26\"],[1.0,\"#f0f921\"]],\"type\":\"histogram2d\"}],\"histogram2dcontour\":[{\"colorbar\":{\"outlinewidth\":0,\"ticks\":\"\"},\"colorscale\":[[0.0,\"#0d0887\"],[0.1111111111111111,\"#46039f\"],[0.2222222222222222,\"#7201a8\"],[0.3333333333333333,\"#9c179e\"],[0.4444444444444444,\"#bd3786\"],[0.5555555555555556,\"#d8576b\"],[0.6666666666666666,\"#ed7953\"],[0.7777777777777778,\"#fb9f3a\"],[0.8888888888888888,\"#fdca26\"],[1.0,\"#f0f921\"]],\"type\":\"histogram2dcontour\"}],\"mesh3d\":[{\"colorbar\":{\"outlinewidth\":0,\"ticks\":\"\"},\"type\":\"mesh3d\"}],\"parcoords\":[{\"line\":{\"colorbar\":{\"outlinewidth\":0,\"ticks\":\"\"}},\"type\":\"parcoords\"}],\"pie\":[{\"automargin\":true,\"type\":\"pie\"}],\"scatter\":[{\"marker\":{\"colorbar\":{\"outlinewidth\":0,\"ticks\":\"\"}},\"type\":\"scatter\"}],\"scatter3d\":[{\"line\":{\"colorbar\":{\"outlinewidth\":0,\"ticks\":\"\"}},\"marker\":{\"colorbar\":{\"outlinewidth\":0,\"ticks\":\"\"}},\"type\":\"scatter3d\"}],\"scattercarpet\":[{\"marker\":{\"colorbar\":{\"outlinewidth\":0,\"ticks\":\"\"}},\"type\":\"scattercarpet\"}],\"scattergeo\":[{\"marker\":{\"colorbar\":{\"outlinewidth\":0,\"ticks\":\"\"}},\"type\":\"scattergeo\"}],\"scattergl\":[{\"marker\":{\"colorbar\":{\"outlinewidth\":0,\"ticks\":\"\"}},\"type\":\"scattergl\"}],\"scattermapbox\":[{\"marker\":{\"colorbar\":{\"outlinewidth\":0,\"ticks\":\"\"}},\"type\":\"scattermapbox\"}],\"scatterpolar\":[{\"marker\":{\"colorbar\":{\"outlinewidth\":0,\"ticks\":\"\"}},\"type\":\"scatterpolar\"}],\"scatterpolargl\":[{\"marker\":{\"colorbar\":{\"outlinewidth\":0,\"ticks\":\"\"}},\"type\":\"scatterpolargl\"}],\"scatterternary\":[{\"marker\":{\"colorbar\":{\"outlinewidth\":0,\"ticks\":\"\"}},\"type\":\"scatterternary\"}],\"surface\":[{\"colorbar\":{\"outlinewidth\":0,\"ticks\":\"\"},\"colorscale\":[[0.0,\"#0d0887\"],[0.1111111111111111,\"#46039f\"],[0.2222222222222222,\"#7201a8\"],[0.3333333333333333,\"#9c179e\"],[0.4444444444444444,\"#bd3786\"],[0.5555555555555556,\"#d8576b\"],[0.6666666666666666,\"#ed7953\"],[0.7777777777777778,\"#fb9f3a\"],[0.8888888888888888,\"#fdca26\"],[1.0,\"#f0f921\"]],\"type\":\"surface\"}],\"table\":[{\"cells\":{\"fill\":{\"color\":\"#EBF0F8\"},\"line\":{\"color\":\"white\"}},\"header\":{\"fill\":{\"color\":\"#C8D4E3\"},\"line\":{\"color\":\"white\"}},\"type\":\"table\"}]},\"layout\":{\"annotationdefaults\":{\"arrowcolor\":\"#2a3f5f\",\"arrowhead\":0,\"arrowwidth\":1},\"autotypenumbers\":\"strict\",\"coloraxis\":{\"colorbar\":{\"outlinewidth\":0,\"ticks\":\"\"}},\"colorscale\":{\"diverging\":[[0,\"#8e0152\"],[0.1,\"#c51b7d\"],[0.2,\"#de77ae\"],[0.3,\"#f1b6da\"],[0.4,\"#fde0ef\"],[0.5,\"#f7f7f7\"],[0.6,\"#e6f5d0\"],[0.7,\"#b8e186\"],[0.8,\"#7fbc41\"],[0.9,\"#4d9221\"],[1,\"#276419\"]],\"sequential\":[[0.0,\"#0d0887\"],[0.1111111111111111,\"#46039f\"],[0.2222222222222222,\"#7201a8\"],[0.3333333333333333,\"#9c179e\"],[0.4444444444444444,\"#bd3786\"],[0.5555555555555556,\"#d8576b\"],[0.6666666666666666,\"#ed7953\"],[0.7777777777777778,\"#fb9f3a\"],[0.8888888888888888,\"#fdca26\"],[1.0,\"#f0f921\"]],\"sequentialminus\":[[0.0,\"#0d0887\"],[0.1111111111111111,\"#46039f\"],[0.2222222222222222,\"#7201a8\"],[0.3333333333333333,\"#9c179e\"],[0.4444444444444444,\"#bd3786\"],[0.5555555555555556,\"#d8576b\"],[0.6666666666666666,\"#ed7953\"],[0.7777777777777778,\"#fb9f3a\"],[0.8888888888888888,\"#fdca26\"],[1.0,\"#f0f921\"]]},\"colorway\":[\"#636efa\",\"#EF553B\",\"#00cc96\",\"#ab63fa\",\"#FFA15A\",\"#19d3f3\",\"#FF6692\",\"#B6E880\",\"#FF97FF\",\"#FECB52\"],\"font\":{\"color\":\"#2a3f5f\"},\"geo\":{\"bgcolor\":\"white\",\"lakecolor\":\"white\",\"landcolor\":\"#E5ECF6\",\"showlakes\":true,\"showland\":true,\"subunitcolor\":\"white\"},\"hoverlabel\":{\"align\":\"left\"},\"hovermode\":\"closest\",\"mapbox\":{\"style\":\"light\"},\"paper_bgcolor\":\"white\",\"plot_bgcolor\":\"#E5ECF6\",\"polar\":{\"angularaxis\":{\"gridcolor\":\"white\",\"linecolor\":\"white\",\"ticks\":\"\"},\"bgcolor\":\"#E5ECF6\",\"radialaxis\":{\"gridcolor\":\"white\",\"linecolor\":\"white\",\"ticks\":\"\"}},\"scene\":{\"xaxis\":{\"backgroundcolor\":\"#E5ECF6\",\"gridcolor\":\"white\",\"gridwidth\":2,\"linecolor\":\"white\",\"showbackground\":true,\"ticks\":\"\",\"zerolinecolor\":\"white\"},\"yaxis\":{\"backgroundcolor\":\"#E5ECF6\",\"gridcolor\":\"white\",\"gridwidth\":2,\"linecolor\":\"white\",\"showbackground\":true,\"ticks\":\"\",\"zerolinecolor\":\"white\"},\"zaxis\":{\"backgroundcolor\":\"#E5ECF6\",\"gridcolor\":\"white\",\"gridwidth\":2,\"linecolor\":\"white\",\"showbackground\":true,\"ticks\":\"\",\"zerolinecolor\":\"white\"}},\"shapedefaults\":{\"line\":{\"color\":\"#2a3f5f\"}},\"ternary\":{\"aaxis\":{\"gridcolor\":\"white\",\"linecolor\":\"white\",\"ticks\":\"\"},\"baxis\":{\"gridcolor\":\"white\",\"linecolor\":\"white\",\"ticks\":\"\"},\"bgcolor\":\"#E5ECF6\",\"caxis\":{\"gridcolor\":\"white\",\"linecolor\":\"white\",\"ticks\":\"\"}},\"title\":{\"x\":0.05},\"xaxis\":{\"automargin\":true,\"gridcolor\":\"white\",\"linecolor\":\"white\",\"ticks\":\"\",\"title\":{\"standoff\":15},\"zerolinecolor\":\"white\",\"zerolinewidth\":2},\"yaxis\":{\"automargin\":true,\"gridcolor\":\"white\",\"linecolor\":\"white\",\"ticks\":\"\",\"title\":{\"standoff\":15},\"zerolinecolor\":\"white\",\"zerolinewidth\":2}}},\"mapbox\":{\"domain\":{\"x\":[0.0,1.0],\"y\":[0.0,1.0]},\"center\":{\"lat\":39.10049876557773,\"lon\":-97.44893518526672},\"accesstoken\":\"pk.eyJ1IjoiZWdvcjIyODI4MiIsImEiOiJja281eGVhdHcxeG1sMm9tdng2aHk4YzByIn0.CX0VdWcrzcxNS3EQX8JrDw\",\"zoom\":2},\"legend\":{\"tracegroupgap\":0},\"margin\":{\"t\":60}},                        {\"responsive\": true}                    ).then(function(){\n",
       "                            \n",
       "var gd = document.getElementById('fdacd7b7-df6b-4312-b1a9-3716e367e683');\n",
       "var x = new MutationObserver(function (mutations, observer) {{\n",
       "        var display = window.getComputedStyle(gd).display;\n",
       "        if (!display || display === 'none') {{\n",
       "            console.log([gd, 'removed!']);\n",
       "            Plotly.purge(gd);\n",
       "            observer.disconnect();\n",
       "        }}\n",
       "}});\n",
       "\n",
       "// Listen for the removal of the full notebook cells\n",
       "var notebookContainer = gd.closest('#notebook-container');\n",
       "if (notebookContainer) {{\n",
       "    x.observe(notebookContainer, {childList: true});\n",
       "}}\n",
       "\n",
       "// Listen for the clearing of the current output cell\n",
       "var outputEl = gd.closest('.output');\n",
       "if (outputEl) {{\n",
       "    x.observe(outputEl, {childList: true});\n",
       "}}\n",
       "\n",
       "                        })                };                });            </script>        </div>"
      ]
     },
     "metadata": {},
     "output_type": "display_data"
    }
   ],
   "source": [
    "# map_pic/1.png\n",
    "px.set_mapbox_access_token(MAPBOX_ACCESS_TOKEN)\n",
    "fig = px.scatter_mapbox(coord_with_passengers,\n",
    "                        lat=coord_with_passengers.LATITUDE,\n",
    "                        lon=coord_with_passengers.LONGITUDE,\n",
    "                        color_continuous_scale=px.colors.cyclical.IceFire, size_max=10, zoom=2)\n",
    "fig.show()"
   ]
  },
  {
   "cell_type": "markdown",
   "id": "f572a627",
   "metadata": {},
   "source": [
    "Below you can see the airports with the highest traffic."
   ]
  },
  {
   "cell_type": "code",
   "execution_count": 22,
   "id": "5d00557d",
   "metadata": {},
   "outputs": [
    {
     "data": {
      "application/vnd.plotly.v1+json": {
       "config": {
        "plotlyServerURL": "https://plot.ly"
       },
       "data": [
        {
         "hovertemplate": "Passengers=%{marker.size}<br>LATITUDE=%{lat}<br>LONGITUDE=%{lon}<extra></extra>",
         "lat": [
          40.6525,
          32.41138889,
          35.03888889,
          45.44666667,
          31.53555556,
          41.25305556,
          31.61222222,
          40.97777778,
          39.4575,
          51.88361111,
          57.74972222,
          31.3275,
          33.37,
          42.05333333,
          58.67638889,
          42.74916667,
          42.55833333,
          37.435,
          46.0925,
          35.21944444,
          61.17416667,
          61.58138889,
          40.29638889,
          45.07805556,
          43.99194444,
          39.22194444,
          33.63666667,
          44.25805556,
          44.91388889,
          44.32055556,
          30.19444444,
          35.43611111,
          41.33833333,
          33.30777778,
          42.23444444,
          41.93916667,
          60.77861111,
          41.80305556,
          41.87416667,
          35.43388889,
          42.20833333,
          44.8075,
          44.44972222,
          33.56388889,
          37.37305556,
          45.80777778,
          46.77277778,
          47.51083333,
          36.53194444,
          37.78722222,
          48.79277778,
          38.54527778,
          40.47722222,
          36.12444444,
          43.56444444,
          42.36305556,
          29.95083333,
          31.25916667,
          18.49472222,
          46.40416667,
          40.78305556,
          25.90611111,
          71.28472222,
          45.95472222,
          30.53305556,
          44.47194444,
          42.94055556,
          34.20055556,
          39.17583333,
          45.77722222,
          33.93888889,
          40.915,
          55.20583333,
          37.70083333,
          42.8375,
          60.49166667,
          41.78027778,
          37.30305556,
          37.22527778,
          35.03527778,
          38.13972222,
          32.89861111,
          41.88472222,
          46.25083333,
          39.29777778,
          41.40944444,
          30.58805556,
          35.21361111,
          39.99694444,
          40.03861111,
          47.16777778,
          32.3375,
          38.7575,
          44.52027778,
          38.80583333,
          38.81777778,
          42.90583333,
          18.31305556,
          27.77222222,
          38.37611111,
          32.51638889,
          39.04888889,
          34.42666667,
          44.7775,
          41.15555556,
          29.18,
          32.84583333,
          39.90222222,
          42.40194444,
          38.85138889,
          37.76305556,
          39.83444444,
          39.86166667,
          32.89722222,
          31.32111111,
          46.80083333,
          59.04472222,
          46.84194444,
          37.15166667,
          29.37416667,
          30.4,
          41.53416667,
          42.2125,
          41.17833333,
          53.89888889,
          48.11666667,
          40.72694444,
          47.39888889,
          44.86583333,
          30.35833333,
          39.64277778,
          40.825,
          33.22111111,
          42.15972222,
          31.80722222,
          60.57333333,
          42.08305556,
          45.72277778,
          44.12444444,
          38.04083333,
          41.67666667,
          35.07277778,
          40.6925,
          24.55611111,
          64.81527778,
          46.92055556,
          36.77666667,
          34.99111111,
          48.31055556,
          35.14027778,
          26.07166667,
          34.18527778,
          40.45194444,
          42.96555556,
          42.55111111,
          43.58194444,
          35.33527778,
          40.97833333,
          44.34888889,
          37.9275,
          47.13861111,
          47.61916667,
          47.94722222,
          32.38388889,
          48.2125,
          39.1225,
          33.48277778,
          29.69,
          30.40722222,
          44.48472222,
          40.9675,
          31.06722222,
          42.88083333,
          36.10138889,
          34.89555556,
          58.42527778,
          47.48222222,
          33.44833333,
          38.53444444,
          13.48388889,
          40.48111111,
          39.70861111,
          32.22444444,
          47.38666667,
          46.60666667,
          58.09611111,
          21.31777778,
          20.79555556,
          32.6875,
          59.645,
          34.47805556,
          29.64583333,
          41.06694444,
          26.22722222,
          36.26138889,
          34.63722222,
          38.36861111,
          41.26361111,
          48.54305556,
          41.66944444,
          38.84222222,
          38.9475,
          43.1075,
          29.98444444,
          37.65,
          43.51361111,
          39.67861111,
          34.27111111,
          45.81833333,
          39.71722222,
          48.56555556,
          32.83416667,
          41.24166667,
          40.09333333,
          40.79611111,
          42.49138889,
          19.72027778,
          46.5275,
          43.60722222,
          32.31111111,
          30.49416667,
          40.64,
          20.96305556,
          37.15305556,
          46.92972222,
          58.35472222,
          40.31555556,
          19.73888889,
          62.06083333,
          55.35416667,
          42.77861111,
          41.31194444,
          36.08,
          34.56777778,
          33.9425,
          33.66361111,
          40.27305556,
          41.12611111,
          37.04388889,
          30.12611111,
          39.81388889,
          43.62611111,
          38.03666667,
          30.205,
          40.77722222,
          33.81805556,
          21.97611111,
          34.72944444,
          40.85083333,
          40.12222222,
          20.78555556,
          27.54416667,
          43.87916667,
          37.85833333,
          46.37444444,
          37.32527778,
          31.9425,
          18.25555556,
          44.2725,
          43.53305556,
          37.28472222,
          39.2975,
          40.20638889,
          32.69277778,
          28.42944444,
          43.15777778,
          40.19305556,
          41.78583333,
          32.3325,
          35.0425,
          26.17583333,
          42.375,
          32.30055556,
          39.64361111,
          39.14111111,
          42.93277778,
          25.79527778,
          42.94694444,
          43.16777778,
          21.15277778,
          35.6,
          44.22277778,
          28.10277778,
          41.44833333,
          32.51055556,
          30.69138889,
          48.25777778,
          46.34916667,
          36.58694444,
          34.74527778,
          43.14,
          46.91638889,
          44.88194444,
          44.93611111,
          29.99333333,
          38.50972222,
          20.00138889,
          41.39333333,
          37.755,
          33.67972222,
          34.82916667,
          37.72111111,
          41.195,
          20.89861111,
          44.68222222,
          35.39305556,
          48.09444444,
          41.30305556,
          64.51055556,
          34.05611111,
          41.97694444,
          36.89472222,
          42.26722222,
          43.41694444,
          66.88472222,
          37.73888889,
          47.90722222,
          37.06027778,
          44.65083333,
          26.68305556,
          45.69472222,
          45.58861111,
          36.92611111,
          26.91861111,
          35.63555556,
          37.13194444,
          39.87194444,
          33.43416667,
          40.66416667,
          31.46722222,
          27.90861111,
          42.90972222,
          44.38277778,
          40.49138889,
          39.345,
          45.57083333,
          30.47333333,
          -14.33,
          46.68888889,
          34.65472222,
          46.26472222,
          18.00888889,
          56.80138889,
          43.07805556,
          33.82972222,
          38.29,
          46.74166667,
          42.07222222,
          41.72222222,
          40.21916667,
          43.64555556,
          44.04527778,
          40.50888889,
          44.25416667,
          35.87777778,
          42.19527778,
          45.63083333,
          37.50527778,
          43.06416667,
          44.06027778,
          41.59416667,
          39.49916667,
          37.32555556,
          43.11916667,
          33.3,
          43.90833333,
          26.53611111,
          43.52972222,
          35.61722222,
          32.73361111,
          29.53388889,
          32.1275,
          34.42611111,
          41.70833333,
          35.23722222,
          38.34027778,
          70.19472222,
          40.85,
          37.89444444,
          38.17416667,
          55.31361111,
          47.70694444,
          47.45,
          28.77722222,
          37.61888889,
          37.24555556,
          37.03638889,
          38.26388889,
          44.76916667,
          32.44638889,
          57.04694444,
          37.36305556,
          31.35777778,
          18.43944444,
          40.78833333,
          44.38527778,
          38.79055556,
          38.69555556,
          34.9,
          33.67555556,
          57.16638889,
          34.26555556,
          18.33861111,
          39.84416667,
          15.12027778,
          33.98888889,
          27.39555556,
          17.74916667,
          45.54611111,
          38.74861111,
          38.50972222,
          18.33722222,
          17.70138889,
          43.50388889,
          42.40138889,
          41.50416667,
          36.16138889,
          43.11111111,
          37.74166667,
          37.95388889,
          30.39666667,
          41.58694444,
          27.97555556,
          36.47527778,
          40.27666667,
          36.19833333,
          34.26888889,
          32.11611111,
          44.74166667,
          48.06555556,
          42.48194444,
          33.45361111,
          32.35361111,
          35.81111111,
          39.94305556,
          63.88861111,
          35.38777778,
          28.85416667,
          61.13416667,
          40.43611111,
          30.78138889,
          30.48333333,
          18.13472222,
          56.48444444,
          44.68833333,
          36.28166667,
          48.25972222,
          59.50333333,
          46.56805556,
          32.65666667
         ],
         "legendgroup": "",
         "lon": [
          -75.44027778,
          -99.68194444,
          -106.60833333,
          -98.4225,
          -84.19444444,
          -70.06,
          -97.23027778,
          -124.10833333,
          -74.57722222,
          -176.6425,
          -152.49388889,
          -92.54861111,
          -81.96444444,
          -102.80361111,
          -156.64861111,
          -73.80194444,
          -92.40111111,
          -105.86777778,
          -118.28416667,
          -101.70583333,
          -149.99805556,
          -159.54527778,
          -78.32,
          -83.56027778,
          -76.01944444,
          -106.86833333,
          -84.42777778,
          -88.51916667,
          -97.15472222,
          -69.79722222,
          -97.67,
          -82.54194444,
          -75.72333333,
          -111.65555556,
          -85.55166667,
          -72.68444444,
          -161.83722222,
          -78.64,
          -103.59555556,
          -119.05777778,
          -75.97972222,
          -68.82805556,
          -68.36138889,
          -86.75222222,
          -118.36361111,
          -108.54361111,
          -100.74583333,
          -94.93472222,
          -93.20055556,
          -81.12416667,
          -122.5375,
          -89.83527778,
          -88.91583333,
          -86.67805556,
          -116.22277778,
          -71.00638889,
          -94.02055556,
          -81.46638889,
          -67.12944444,
          -94.13361111,
          -91.12555556,
          -97.42611111,
          -156.76861111,
          -112.4975,
          -91.15,
          -73.15333333,
          -78.73055556,
          -118.35861111,
          -76.66888889,
          -111.15027778,
          -81.11944444,
          -81.44361111,
          -162.72611111,
          -113.09888889,
          -103.09527778,
          -145.4775,
          -124.23666667,
          -108.62805556,
          -89.57083333,
          -85.20361111,
          -78.45222222,
          -80.04055556,
          -91.71083333,
          -84.4725,
          -80.2275,
          -81.85472222,
          -96.3625,
          -80.94916667,
          -82.89222222,
          -88.27666667,
          -88.48638889,
          -104.26333333,
          -109.75333333,
          -109.02388889,
          -104.70083333,
          -92.21777778,
          -106.46361111,
          -65.30388889,
          -97.5025,
          -81.59277778,
          -84.93888889,
          -84.66777778,
          -103.0775,
          -89.66666667,
          -104.81055556,
          -81.05805556,
          -96.85083333,
          -84.21944444,
          -90.70944444,
          -77.03777778,
          -99.96555556,
          -88.86555556,
          -104.67305556,
          -97.03777778,
          -85.44944444,
          -102.80333333,
          -158.50555556,
          -92.19333333,
          -107.75388889,
          -100.92722222,
          -86.47138889,
          -93.65777778,
          -83.35333333,
          -78.89861111,
          -166.545,
          -98.91,
          -99.00666667,
          -120.20694444,
          -91.48416667,
          -85.79555556,
          -106.91583333,
          -115.79138889,
          -92.81166667,
          -76.89166667,
          -106.37638889,
          -151.24472222,
          -80.17388889,
          -87.09361111,
          -123.21194444,
          -87.52861111,
          -70.95777778,
          -77.04305556,
          -74.16861111,
          -81.76,
          -147.85666667,
          -96.81583333,
          -119.71888889,
          -78.88027778,
          -114.25611111,
          -111.66916667,
          -80.14972222,
          -79.72388889,
          -105.01138889,
          -83.74472222,
          -94.19194444,
          -96.74194444,
          -94.36777778,
          -85.19527778,
          -105.53944444,
          -100.72444444,
          -104.80722222,
          -117.53527778,
          -97.17388889,
          -94.71138889,
          -106.61472222,
          -108.52666667,
          -90.98555556,
          -82.27166667,
          -89.07,
          -88.12972222,
          -98.30972222,
          -97.82888889,
          -85.52277778,
          -79.94111111,
          -82.21888889,
          -135.7075,
          -111.37027778,
          -88.59138889,
          -106.93166667,
          144.79722222,
          -107.21777778,
          -77.72638889,
          -80.6975,
          -92.83888889,
          -111.98333333,
          -135.40888889,
          -157.92027778,
          -156.01444444,
          -103.21722222,
          -151.48583333,
          -93.09611111,
          -95.27722222,
          -73.7075,
          -97.65527778,
          -93.15472222,
          -86.775,
          -82.56027778,
          -72.88777778,
          -109.76222222,
          -70.28027778,
          -99.27305556,
          -77.46,
          -78.94583333,
          -95.34138889,
          -97.43305556,
          -112.07083333,
          -75.60666667,
          -77.90277778,
          -88.11444444,
          -86.29472222,
          -93.40222222,
          -115.57888889,
          -76.92194444,
          -92.545,
          -73.10055556,
          -76.45861111,
          -155.04833333,
          -90.13138889,
          -110.73777778,
          -90.07583333,
          -81.68777778,
          -73.77861111,
          -156.67305556,
          -94.49888889,
          -98.67805556,
          -134.57833333,
          -78.83472222,
          -156.04555556,
          -163.30194444,
          -131.71111111,
          -84.58611111,
          -105.675,
          -115.15222222,
          -98.41666667,
          -118.40805556,
          -101.82055556,
          -79.41027778,
          -100.68361111,
          -100.96,
          -93.22333333,
          -82.92777778,
          -72.30416667,
          -84.60861111,
          -91.98777778,
          -73.8725,
          -118.15194444,
          -159.33888889,
          -92.22472222,
          -96.75916667,
          -76.29444444,
          -156.95138889,
          -99.46166667,
          -91.25666667,
          -80.39944444,
          -117.01527778,
          -79.20111111,
          -102.20194444,
          -67.14833333,
          -86.24694444,
          -84.07972222,
          -120.51388889,
          -94.71388889,
          -100.59194444,
          -83.64916667,
          -81.30888889,
          -93.33111111,
          -76.7625,
          -87.7525,
          -88.75194444,
          -89.97666667,
          -98.23861111,
          -122.87333333,
          -86.39388889,
          -79.9175,
          -96.67194444,
          -71.43583333,
          -80.29,
          -87.89694444,
          -86.23555556,
          -157.09638889,
          -88.91555556,
          -93.91944444,
          -80.64527778,
          -90.5075,
          -92.03611111,
          -88.24277778,
          -101.27805556,
          -87.39638889,
          -121.84305556,
          -87.61027778,
          -89.3375,
          -114.09055556,
          -93.22166667,
          -74.845,
          -90.25916667,
          -107.89416667,
          -155.66805556,
          -70.61388889,
          -89.01111111,
          -78.92833333,
          -77.61222222,
          -122.22111111,
          -112.01222222,
          -156.43055556,
          -75.46333333,
          -97.60083333,
          -105.575,
          -95.89416667,
          -165.44472222,
          -117.60111111,
          -87.90805556,
          -76.20111111,
          -71.87555556,
          -124.24694444,
          -162.59805556,
          -87.16694444,
          -122.28222222,
          -88.77305556,
          -73.46805556,
          -80.09555556,
          -118.84305556,
          -122.59694444,
          -111.44833333,
          -81.99083333,
          -77.38416667,
          -76.49305556,
          -75.24055556,
          -112.01166667,
          -89.69333333,
          -89.33694444,
          -82.68638889,
          -112.59583333,
          -100.28583333,
          -80.23277778,
          -81.43916667,
          -84.79666667,
          -87.18666667,
          -170.71027778,
          -68.04472222,
          -112.41916667,
          -119.11888889,
          -66.56444444,
          -132.94611111,
          -70.82333333,
          -116.50666667,
          -104.49805556,
          -117.11166667,
          -70.22083333,
          -71.42777778,
          -111.72333333,
          -70.30861111,
          -103.05722222,
          -122.29333333,
          -121.15055556,
          -78.7875,
          -89.09722222,
          -89.46666667,
          -77.31972222,
          -108.45972222,
          -69.09972222,
          -109.06527778,
          -119.76805556,
          -79.97555556,
          -77.67194444,
          -104.52944444,
          -92.5,
          -81.75527778,
          -72.94972222,
          -106.08944444,
          -117.18972222,
          -98.46916667,
          -81.20222222,
          -119.84138889,
          -86.31722222,
          -120.6425,
          -75.50944444,
          -148.46527778,
          -77.8475,
          -121.23861111,
          -85.73638889,
          -160.52138889,
          -104.1925,
          -122.31166667,
          -81.235,
          -122.37555556,
          -93.38861111,
          -113.51027778,
          -78.89638889,
          -106.98027778,
          -93.82611111,
          -135.36111111,
          -121.92861111,
          -100.49638889,
          -66.00222222,
          -111.97777778,
          -74.20611111,
          -97.65222222,
          -121.59083333,
          -120.45805556,
          -117.86833333,
          -170.2225,
          -110.00555556,
          -64.94083333,
          -89.67805556,
          145.73,
          -98.49194444,
          -82.55444444,
          -64.70527778,
          -94.05944444,
          -90.37,
          -122.81277778,
          -64.97333333,
          -64.80194444,
          -114.29555556,
          -96.38444444,
          -74.10472222,
          -97.08583333,
          -76.10638889,
          -92.14083333,
          -107.90888889,
          -84.35083333,
          -83.80777778,
          -82.53333333,
          -82.4075,
          -74.81333333,
          -95.88805556,
          -88.77,
          -110.94111111,
          -85.58194444,
          -96.185,
          -114.48777778,
          -93.99111111,
          -95.40305556,
          -83.99416667,
          -91.19444444,
          -160.79916667,
          -80.70916667,
          -96.91861111,
          -146.24472222,
          -109.51138889,
          -83.27611111,
          -86.52527778,
          -65.49361111,
          -132.36972222,
          -111.11777778,
          -94.30777778,
          -103.75055556,
          -139.66027778,
          -120.54416667,
          -114.60611111
         ],
         "marker": {
          "color": "#636efa",
          "size": [
           71709,
           13874,
           326124,
           4832,
           6270,
           20232,
           9069,
           17390,
           77171,
           447,
           12493,
           18331,
           47996,
           127,
           3598,
           188743,
           2562,
           1720,
           7762,
           57683,
           392125,
           1,
           120,
           2713,
           4157,
           49519,
           6379751,
           67045,
           1956,
           356,
           1254024,
           141547,
           30668,
           150172,
           15451,
           438769,
           11594,
           156,
           2138,
           25821,
           2065,
           57744,
           691,
           206063,
           304,
           70189,
           40874,
           5851,
           2014,
           440,
           31628,
           31807,
           31290,
           1469199,
           344069,
           1891070,
           4270,
           7001,
           47118,
           4343,
           1,
           20477,
           5230,
           3536,
           53415,
           74941,
           279223,
           373051,
           1701582,
           191824,
           81116,
           38875,
           376,
           2855,
           99,
           2991,
           1,
           218,
           1427,
           71223,
           41252,
           396206,
           101453,
           3909,
           6410,
           678806,
           12354,
           3791277,
           538439,
           10700,
           3656,
           180,
           3752,
           7607,
           186826,
           15024,
           13655,
           159,
           54232,
           28631,
           9317,
           582545,
           380,
           18758,
           808,
           54973,
           1281903,
           96349,
           3610,
           1312029,
           1406,
           1513,
           5379062,
           5090122,
           7140,
           3588,
           3529,
           22080,
           38675,
           3830,
           4,
           201642,
           2133467,
           215,
           369,
           1020,
           4191,
           9174,
           3407,
           158054,
           41035,
           3585,
           92,
           15239,
           269868,
           468,
           13149,
           3368,
           108886,
           31059,
           1,
           15242,
           2120299,
           146953,
           84620,
           77010,
           161195,
           36702,
           82746,
           23790,
           2190246,
           4622,
           666,
           46802,
           902,
           94180,
           8821,
           64750,
           4533,
           5069,
           55,
           306502,
           13369,
           4386,
           77,
           48593,
           210,
           38578,
           41680,
           50292,
           10263,
           25130,
           276608,
           119509,
           167258,
           1071,
           27247,
           6791,
           7938,
           15155,
           30387,
           4541,
           38811,
           2762,
           14173,
           1,
           1133627,
           1,
           2430,
           228,
           165,
           993085,
           106863,
           58213,
           114,
           87545,
           18553,
           6192,
           74,
           1602,
           1974,
           988795,
           8622,
           2228917,
           118629,
           42145,
           2424,
           88680,
           3256,
           661020,
           1841,
           217,
           845,
           262,
           111735,
           11282,
           72586,
           337,
           100434,
           88571,
           473011,
           1671589,
           59,
           4174,
           1761,
           51080,
           1235,
           283262,
           2,
           21103,
           17938,
           2968,
           3662309,
           8060,
           3789485,
           78236,
           23904,
           2398,
           1123,
           10307,
           29299,
           445,
           89945,
           38903,
           1559501,
           210138,
           212531,
           157575,
           17339,
           123,
           90,
           16078,
           17280,
           1607,
           6795,
           13277,
           95881,
           204,
           315,
           13262,
           205,
           717987,
           157,
           14,
           3645512,
           1125,
           98591,
           1468513,
           1849,
           339760,
           73802,
           83300,
           24552,
           333,
           11359,
           94432,
           1941734,
           434131,
           2156,
           152,
           31,
           16,
           35124,
           46953,
           15374,
           45299,
           24886,
           11113,
           37640,
           114,
           135420,
           75788,
           2286902,
           170,
           768622,
           37990,
           4,
           11330,
           580,
           309328,
           31687,
           755601,
           4657,
           579955,
           1771,
           310498,
           22,
           344810,
           5627,
           430360,
           4478254,
           318698,
           2686,
           2897,
           5508,
           2241,
           22934,
           2115,
           7899,
           521852,
           79,
           1084407,
           400,
           156560,
           6542,
           16817,
           1799774,
           3560294,
           46415,
           2011,
           200326,
           4891,
           2591,
           585392,
           315,
           6417,
           225097,
           345,
           2181,
           2622,
           64019,
           6738,
           3992,
           7929,
           201083,
           1671,
           10267,
           471,
           228118,
           22537,
           168775,
           67113,
           10782,
           80215,
           807584,
           20095,
           5624,
           304320,
           2618,
           395,
           2946,
           336451,
           45409,
           146330,
           8759,
           19102,
           1007491,
           368,
           18794,
           1515716,
           623728,
           266574,
           87813,
           65915,
           39331,
           12090,
           4505,
           22416,
           13514,
           295688,
           11,
           161,
           3234382,
           234377,
           1910957,
           91892,
           29536,
           2211,
           4096,
           47737,
           15412,
           678468,
           11184,
           868921,
           2041425,
           224,
           2759,
           897385,
           5286,
           745980,
           5,
           152,
           4,
           11757,
           2767,
           5730,
           316175,
           2,
           3304,
           953201,
           42317,
           136851,
           36054,
           18821,
           4442,
           13153,
           3687,
           161973,
           920,
           558,
           61261,
           15966,
           1712605,
           30291,
           49260,
           219035,
           309,
           258576,
           58786,
           117,
           7331,
           5445,
           8134,
           187118,
           721,
           2,
           27376,
           1106,
           51,
           1559,
           7440,
           194576,
           426,
           2401,
           2598,
           110395,
           9347,
           2163,
           8515,
           17879
          ],
          "sizemode": "area",
          "sizeref": 10207.6016
         },
         "mode": "markers",
         "name": "",
         "showlegend": false,
         "subplot": "mapbox",
         "type": "scattermapbox"
        }
       ],
       "layout": {
        "legend": {
         "itemsizing": "constant",
         "tracegroupgap": 0
        },
        "mapbox": {
         "accesstoken": "pk.eyJ1IjoiZWdvcjIyODI4MiIsImEiOiJja281eGVhdHcxeG1sMm9tdng2aHk4YzByIn0.CX0VdWcrzcxNS3EQX8JrDw",
         "center": {
          "lat": 39.10049876557773,
          "lon": -97.44893518526672
         },
         "domain": {
          "x": [
           0,
           1
          ],
          "y": [
           0,
           1
          ]
         },
         "zoom": 2
        },
        "margin": {
         "t": 60
        },
        "template": {
         "data": {
          "bar": [
           {
            "error_x": {
             "color": "#2a3f5f"
            },
            "error_y": {
             "color": "#2a3f5f"
            },
            "marker": {
             "line": {
              "color": "#E5ECF6",
              "width": 0.5
             },
             "pattern": {
              "fillmode": "overlay",
              "size": 10,
              "solidity": 0.2
             }
            },
            "type": "bar"
           }
          ],
          "barpolar": [
           {
            "marker": {
             "line": {
              "color": "#E5ECF6",
              "width": 0.5
             },
             "pattern": {
              "fillmode": "overlay",
              "size": 10,
              "solidity": 0.2
             }
            },
            "type": "barpolar"
           }
          ],
          "carpet": [
           {
            "aaxis": {
             "endlinecolor": "#2a3f5f",
             "gridcolor": "white",
             "linecolor": "white",
             "minorgridcolor": "white",
             "startlinecolor": "#2a3f5f"
            },
            "baxis": {
             "endlinecolor": "#2a3f5f",
             "gridcolor": "white",
             "linecolor": "white",
             "minorgridcolor": "white",
             "startlinecolor": "#2a3f5f"
            },
            "type": "carpet"
           }
          ],
          "choropleth": [
           {
            "colorbar": {
             "outlinewidth": 0,
             "ticks": ""
            },
            "type": "choropleth"
           }
          ],
          "contour": [
           {
            "colorbar": {
             "outlinewidth": 0,
             "ticks": ""
            },
            "colorscale": [
             [
              0,
              "#0d0887"
             ],
             [
              0.1111111111111111,
              "#46039f"
             ],
             [
              0.2222222222222222,
              "#7201a8"
             ],
             [
              0.3333333333333333,
              "#9c179e"
             ],
             [
              0.4444444444444444,
              "#bd3786"
             ],
             [
              0.5555555555555556,
              "#d8576b"
             ],
             [
              0.6666666666666666,
              "#ed7953"
             ],
             [
              0.7777777777777778,
              "#fb9f3a"
             ],
             [
              0.8888888888888888,
              "#fdca26"
             ],
             [
              1,
              "#f0f921"
             ]
            ],
            "type": "contour"
           }
          ],
          "contourcarpet": [
           {
            "colorbar": {
             "outlinewidth": 0,
             "ticks": ""
            },
            "type": "contourcarpet"
           }
          ],
          "heatmap": [
           {
            "colorbar": {
             "outlinewidth": 0,
             "ticks": ""
            },
            "colorscale": [
             [
              0,
              "#0d0887"
             ],
             [
              0.1111111111111111,
              "#46039f"
             ],
             [
              0.2222222222222222,
              "#7201a8"
             ],
             [
              0.3333333333333333,
              "#9c179e"
             ],
             [
              0.4444444444444444,
              "#bd3786"
             ],
             [
              0.5555555555555556,
              "#d8576b"
             ],
             [
              0.6666666666666666,
              "#ed7953"
             ],
             [
              0.7777777777777778,
              "#fb9f3a"
             ],
             [
              0.8888888888888888,
              "#fdca26"
             ],
             [
              1,
              "#f0f921"
             ]
            ],
            "type": "heatmap"
           }
          ],
          "heatmapgl": [
           {
            "colorbar": {
             "outlinewidth": 0,
             "ticks": ""
            },
            "colorscale": [
             [
              0,
              "#0d0887"
             ],
             [
              0.1111111111111111,
              "#46039f"
             ],
             [
              0.2222222222222222,
              "#7201a8"
             ],
             [
              0.3333333333333333,
              "#9c179e"
             ],
             [
              0.4444444444444444,
              "#bd3786"
             ],
             [
              0.5555555555555556,
              "#d8576b"
             ],
             [
              0.6666666666666666,
              "#ed7953"
             ],
             [
              0.7777777777777778,
              "#fb9f3a"
             ],
             [
              0.8888888888888888,
              "#fdca26"
             ],
             [
              1,
              "#f0f921"
             ]
            ],
            "type": "heatmapgl"
           }
          ],
          "histogram": [
           {
            "marker": {
             "pattern": {
              "fillmode": "overlay",
              "size": 10,
              "solidity": 0.2
             }
            },
            "type": "histogram"
           }
          ],
          "histogram2d": [
           {
            "colorbar": {
             "outlinewidth": 0,
             "ticks": ""
            },
            "colorscale": [
             [
              0,
              "#0d0887"
             ],
             [
              0.1111111111111111,
              "#46039f"
             ],
             [
              0.2222222222222222,
              "#7201a8"
             ],
             [
              0.3333333333333333,
              "#9c179e"
             ],
             [
              0.4444444444444444,
              "#bd3786"
             ],
             [
              0.5555555555555556,
              "#d8576b"
             ],
             [
              0.6666666666666666,
              "#ed7953"
             ],
             [
              0.7777777777777778,
              "#fb9f3a"
             ],
             [
              0.8888888888888888,
              "#fdca26"
             ],
             [
              1,
              "#f0f921"
             ]
            ],
            "type": "histogram2d"
           }
          ],
          "histogram2dcontour": [
           {
            "colorbar": {
             "outlinewidth": 0,
             "ticks": ""
            },
            "colorscale": [
             [
              0,
              "#0d0887"
             ],
             [
              0.1111111111111111,
              "#46039f"
             ],
             [
              0.2222222222222222,
              "#7201a8"
             ],
             [
              0.3333333333333333,
              "#9c179e"
             ],
             [
              0.4444444444444444,
              "#bd3786"
             ],
             [
              0.5555555555555556,
              "#d8576b"
             ],
             [
              0.6666666666666666,
              "#ed7953"
             ],
             [
              0.7777777777777778,
              "#fb9f3a"
             ],
             [
              0.8888888888888888,
              "#fdca26"
             ],
             [
              1,
              "#f0f921"
             ]
            ],
            "type": "histogram2dcontour"
           }
          ],
          "mesh3d": [
           {
            "colorbar": {
             "outlinewidth": 0,
             "ticks": ""
            },
            "type": "mesh3d"
           }
          ],
          "parcoords": [
           {
            "line": {
             "colorbar": {
              "outlinewidth": 0,
              "ticks": ""
             }
            },
            "type": "parcoords"
           }
          ],
          "pie": [
           {
            "automargin": true,
            "type": "pie"
           }
          ],
          "scatter": [
           {
            "marker": {
             "colorbar": {
              "outlinewidth": 0,
              "ticks": ""
             }
            },
            "type": "scatter"
           }
          ],
          "scatter3d": [
           {
            "line": {
             "colorbar": {
              "outlinewidth": 0,
              "ticks": ""
             }
            },
            "marker": {
             "colorbar": {
              "outlinewidth": 0,
              "ticks": ""
             }
            },
            "type": "scatter3d"
           }
          ],
          "scattercarpet": [
           {
            "marker": {
             "colorbar": {
              "outlinewidth": 0,
              "ticks": ""
             }
            },
            "type": "scattercarpet"
           }
          ],
          "scattergeo": [
           {
            "marker": {
             "colorbar": {
              "outlinewidth": 0,
              "ticks": ""
             }
            },
            "type": "scattergeo"
           }
          ],
          "scattergl": [
           {
            "marker": {
             "colorbar": {
              "outlinewidth": 0,
              "ticks": ""
             }
            },
            "type": "scattergl"
           }
          ],
          "scattermapbox": [
           {
            "marker": {
             "colorbar": {
              "outlinewidth": 0,
              "ticks": ""
             }
            },
            "type": "scattermapbox"
           }
          ],
          "scatterpolar": [
           {
            "marker": {
             "colorbar": {
              "outlinewidth": 0,
              "ticks": ""
             }
            },
            "type": "scatterpolar"
           }
          ],
          "scatterpolargl": [
           {
            "marker": {
             "colorbar": {
              "outlinewidth": 0,
              "ticks": ""
             }
            },
            "type": "scatterpolargl"
           }
          ],
          "scatterternary": [
           {
            "marker": {
             "colorbar": {
              "outlinewidth": 0,
              "ticks": ""
             }
            },
            "type": "scatterternary"
           }
          ],
          "surface": [
           {
            "colorbar": {
             "outlinewidth": 0,
             "ticks": ""
            },
            "colorscale": [
             [
              0,
              "#0d0887"
             ],
             [
              0.1111111111111111,
              "#46039f"
             ],
             [
              0.2222222222222222,
              "#7201a8"
             ],
             [
              0.3333333333333333,
              "#9c179e"
             ],
             [
              0.4444444444444444,
              "#bd3786"
             ],
             [
              0.5555555555555556,
              "#d8576b"
             ],
             [
              0.6666666666666666,
              "#ed7953"
             ],
             [
              0.7777777777777778,
              "#fb9f3a"
             ],
             [
              0.8888888888888888,
              "#fdca26"
             ],
             [
              1,
              "#f0f921"
             ]
            ],
            "type": "surface"
           }
          ],
          "table": [
           {
            "cells": {
             "fill": {
              "color": "#EBF0F8"
             },
             "line": {
              "color": "white"
             }
            },
            "header": {
             "fill": {
              "color": "#C8D4E3"
             },
             "line": {
              "color": "white"
             }
            },
            "type": "table"
           }
          ]
         },
         "layout": {
          "annotationdefaults": {
           "arrowcolor": "#2a3f5f",
           "arrowhead": 0,
           "arrowwidth": 1
          },
          "autotypenumbers": "strict",
          "coloraxis": {
           "colorbar": {
            "outlinewidth": 0,
            "ticks": ""
           }
          },
          "colorscale": {
           "diverging": [
            [
             0,
             "#8e0152"
            ],
            [
             0.1,
             "#c51b7d"
            ],
            [
             0.2,
             "#de77ae"
            ],
            [
             0.3,
             "#f1b6da"
            ],
            [
             0.4,
             "#fde0ef"
            ],
            [
             0.5,
             "#f7f7f7"
            ],
            [
             0.6,
             "#e6f5d0"
            ],
            [
             0.7,
             "#b8e186"
            ],
            [
             0.8,
             "#7fbc41"
            ],
            [
             0.9,
             "#4d9221"
            ],
            [
             1,
             "#276419"
            ]
           ],
           "sequential": [
            [
             0,
             "#0d0887"
            ],
            [
             0.1111111111111111,
             "#46039f"
            ],
            [
             0.2222222222222222,
             "#7201a8"
            ],
            [
             0.3333333333333333,
             "#9c179e"
            ],
            [
             0.4444444444444444,
             "#bd3786"
            ],
            [
             0.5555555555555556,
             "#d8576b"
            ],
            [
             0.6666666666666666,
             "#ed7953"
            ],
            [
             0.7777777777777778,
             "#fb9f3a"
            ],
            [
             0.8888888888888888,
             "#fdca26"
            ],
            [
             1,
             "#f0f921"
            ]
           ],
           "sequentialminus": [
            [
             0,
             "#0d0887"
            ],
            [
             0.1111111111111111,
             "#46039f"
            ],
            [
             0.2222222222222222,
             "#7201a8"
            ],
            [
             0.3333333333333333,
             "#9c179e"
            ],
            [
             0.4444444444444444,
             "#bd3786"
            ],
            [
             0.5555555555555556,
             "#d8576b"
            ],
            [
             0.6666666666666666,
             "#ed7953"
            ],
            [
             0.7777777777777778,
             "#fb9f3a"
            ],
            [
             0.8888888888888888,
             "#fdca26"
            ],
            [
             1,
             "#f0f921"
            ]
           ]
          },
          "colorway": [
           "#636efa",
           "#EF553B",
           "#00cc96",
           "#ab63fa",
           "#FFA15A",
           "#19d3f3",
           "#FF6692",
           "#B6E880",
           "#FF97FF",
           "#FECB52"
          ],
          "font": {
           "color": "#2a3f5f"
          },
          "geo": {
           "bgcolor": "white",
           "lakecolor": "white",
           "landcolor": "#E5ECF6",
           "showlakes": true,
           "showland": true,
           "subunitcolor": "white"
          },
          "hoverlabel": {
           "align": "left"
          },
          "hovermode": "closest",
          "mapbox": {
           "style": "light"
          },
          "paper_bgcolor": "white",
          "plot_bgcolor": "#E5ECF6",
          "polar": {
           "angularaxis": {
            "gridcolor": "white",
            "linecolor": "white",
            "ticks": ""
           },
           "bgcolor": "#E5ECF6",
           "radialaxis": {
            "gridcolor": "white",
            "linecolor": "white",
            "ticks": ""
           }
          },
          "scene": {
           "xaxis": {
            "backgroundcolor": "#E5ECF6",
            "gridcolor": "white",
            "gridwidth": 2,
            "linecolor": "white",
            "showbackground": true,
            "ticks": "",
            "zerolinecolor": "white"
           },
           "yaxis": {
            "backgroundcolor": "#E5ECF6",
            "gridcolor": "white",
            "gridwidth": 2,
            "linecolor": "white",
            "showbackground": true,
            "ticks": "",
            "zerolinecolor": "white"
           },
           "zaxis": {
            "backgroundcolor": "#E5ECF6",
            "gridcolor": "white",
            "gridwidth": 2,
            "linecolor": "white",
            "showbackground": true,
            "ticks": "",
            "zerolinecolor": "white"
           }
          },
          "shapedefaults": {
           "line": {
            "color": "#2a3f5f"
           }
          },
          "ternary": {
           "aaxis": {
            "gridcolor": "white",
            "linecolor": "white",
            "ticks": ""
           },
           "baxis": {
            "gridcolor": "white",
            "linecolor": "white",
            "ticks": ""
           },
           "bgcolor": "#E5ECF6",
           "caxis": {
            "gridcolor": "white",
            "linecolor": "white",
            "ticks": ""
           }
          },
          "title": {
           "x": 0.05
          },
          "xaxis": {
           "automargin": true,
           "gridcolor": "white",
           "linecolor": "white",
           "ticks": "",
           "title": {
            "standoff": 15
           },
           "zerolinecolor": "white",
           "zerolinewidth": 2
          },
          "yaxis": {
           "automargin": true,
           "gridcolor": "white",
           "linecolor": "white",
           "ticks": "",
           "title": {
            "standoff": 15
           },
           "zerolinecolor": "white",
           "zerolinewidth": 2
          }
         }
        }
       }
      },
      "text/html": [
       "<div>                            <div id=\"527356c3-f8cd-4b4f-9cf9-5eb79b63d52e\" class=\"plotly-graph-div\" style=\"height:525px; width:100%;\"></div>            <script type=\"text/javascript\">                require([\"plotly\"], function(Plotly) {                    window.PLOTLYENV=window.PLOTLYENV || {};                                    if (document.getElementById(\"527356c3-f8cd-4b4f-9cf9-5eb79b63d52e\")) {                    Plotly.newPlot(                        \"527356c3-f8cd-4b4f-9cf9-5eb79b63d52e\",                        [{\"hovertemplate\":\"Passengers=%{marker.size}<br>LATITUDE=%{lat}<br>LONGITUDE=%{lon}<extra></extra>\",\"lat\":[40.6525,32.41138889,35.03888889,45.44666667,31.53555556,41.25305556,31.61222222,40.97777778,39.4575,51.88361111,57.74972222,31.3275,33.37,42.05333333,58.67638889,42.74916667,42.55833333,37.435,46.0925,35.21944444,61.17416667,61.58138889,40.29638889,45.07805556,43.99194444,39.22194444,33.63666667,44.25805556,44.91388889,44.32055556,30.19444444,35.43611111,41.33833333,33.30777778,42.23444444,41.93916667,60.77861111,41.80305556,41.87416667,35.43388889,42.20833333,44.8075,44.44972222,33.56388889,37.37305556,45.80777778,46.77277778,47.51083333,36.53194444,37.78722222,48.79277778,38.54527778,40.47722222,36.12444444,43.56444444,42.36305556,29.95083333,31.25916667,18.49472222,46.40416667,40.78305556,25.90611111,71.28472222,45.95472222,30.53305556,44.47194444,42.94055556,34.20055556,39.17583333,45.77722222,33.93888889,40.915,55.20583333,37.70083333,42.8375,60.49166667,41.78027778,37.30305556,37.22527778,35.03527778,38.13972222,32.89861111,41.88472222,46.25083333,39.29777778,41.40944444,30.58805556,35.21361111,39.99694444,40.03861111,47.16777778,32.3375,38.7575,44.52027778,38.80583333,38.81777778,42.90583333,18.31305556,27.77222222,38.37611111,32.51638889,39.04888889,34.42666667,44.7775,41.15555556,29.18,32.84583333,39.90222222,42.40194444,38.85138889,37.76305556,39.83444444,39.86166667,32.89722222,31.32111111,46.80083333,59.04472222,46.84194444,37.15166667,29.37416667,30.4,41.53416667,42.2125,41.17833333,53.89888889,48.11666667,40.72694444,47.39888889,44.86583333,30.35833333,39.64277778,40.825,33.22111111,42.15972222,31.80722222,60.57333333,42.08305556,45.72277778,44.12444444,38.04083333,41.67666667,35.07277778,40.6925,24.55611111,64.81527778,46.92055556,36.77666667,34.99111111,48.31055556,35.14027778,26.07166667,34.18527778,40.45194444,42.96555556,42.55111111,43.58194444,35.33527778,40.97833333,44.34888889,37.9275,47.13861111,47.61916667,47.94722222,32.38388889,48.2125,39.1225,33.48277778,29.69,30.40722222,44.48472222,40.9675,31.06722222,42.88083333,36.10138889,34.89555556,58.42527778,47.48222222,33.44833333,38.53444444,13.48388889,40.48111111,39.70861111,32.22444444,47.38666667,46.60666667,58.09611111,21.31777778,20.79555556,32.6875,59.645,34.47805556,29.64583333,41.06694444,26.22722222,36.26138889,34.63722222,38.36861111,41.26361111,48.54305556,41.66944444,38.84222222,38.9475,43.1075,29.98444444,37.65,43.51361111,39.67861111,34.27111111,45.81833333,39.71722222,48.56555556,32.83416667,41.24166667,40.09333333,40.79611111,42.49138889,19.72027778,46.5275,43.60722222,32.31111111,30.49416667,40.64,20.96305556,37.15305556,46.92972222,58.35472222,40.31555556,19.73888889,62.06083333,55.35416667,42.77861111,41.31194444,36.08,34.56777778,33.9425,33.66361111,40.27305556,41.12611111,37.04388889,30.12611111,39.81388889,43.62611111,38.03666667,30.205,40.77722222,33.81805556,21.97611111,34.72944444,40.85083333,40.12222222,20.78555556,27.54416667,43.87916667,37.85833333,46.37444444,37.32527778,31.9425,18.25555556,44.2725,43.53305556,37.28472222,39.2975,40.20638889,32.69277778,28.42944444,43.15777778,40.19305556,41.78583333,32.3325,35.0425,26.17583333,42.375,32.30055556,39.64361111,39.14111111,42.93277778,25.79527778,42.94694444,43.16777778,21.15277778,35.6,44.22277778,28.10277778,41.44833333,32.51055556,30.69138889,48.25777778,46.34916667,36.58694444,34.74527778,43.14,46.91638889,44.88194444,44.93611111,29.99333333,38.50972222,20.00138889,41.39333333,37.755,33.67972222,34.82916667,37.72111111,41.195,20.89861111,44.68222222,35.39305556,48.09444444,41.30305556,64.51055556,34.05611111,41.97694444,36.89472222,42.26722222,43.41694444,66.88472222,37.73888889,47.90722222,37.06027778,44.65083333,26.68305556,45.69472222,45.58861111,36.92611111,26.91861111,35.63555556,37.13194444,39.87194444,33.43416667,40.66416667,31.46722222,27.90861111,42.90972222,44.38277778,40.49138889,39.345,45.57083333,30.47333333,-14.33,46.68888889,34.65472222,46.26472222,18.00888889,56.80138889,43.07805556,33.82972222,38.29,46.74166667,42.07222222,41.72222222,40.21916667,43.64555556,44.04527778,40.50888889,44.25416667,35.87777778,42.19527778,45.63083333,37.50527778,43.06416667,44.06027778,41.59416667,39.49916667,37.32555556,43.11916667,33.3,43.90833333,26.53611111,43.52972222,35.61722222,32.73361111,29.53388889,32.1275,34.42611111,41.70833333,35.23722222,38.34027778,70.19472222,40.85,37.89444444,38.17416667,55.31361111,47.70694444,47.45,28.77722222,37.61888889,37.24555556,37.03638889,38.26388889,44.76916667,32.44638889,57.04694444,37.36305556,31.35777778,18.43944444,40.78833333,44.38527778,38.79055556,38.69555556,34.9,33.67555556,57.16638889,34.26555556,18.33861111,39.84416667,15.12027778,33.98888889,27.39555556,17.74916667,45.54611111,38.74861111,38.50972222,18.33722222,17.70138889,43.50388889,42.40138889,41.50416667,36.16138889,43.11111111,37.74166667,37.95388889,30.39666667,41.58694444,27.97555556,36.47527778,40.27666667,36.19833333,34.26888889,32.11611111,44.74166667,48.06555556,42.48194444,33.45361111,32.35361111,35.81111111,39.94305556,63.88861111,35.38777778,28.85416667,61.13416667,40.43611111,30.78138889,30.48333333,18.13472222,56.48444444,44.68833333,36.28166667,48.25972222,59.50333333,46.56805556,32.65666667],\"legendgroup\":\"\",\"lon\":[-75.44027778,-99.68194444,-106.60833333,-98.4225,-84.19444444,-70.06,-97.23027778,-124.10833333,-74.57722222,-176.6425,-152.49388889,-92.54861111,-81.96444444,-102.80361111,-156.64861111,-73.80194444,-92.40111111,-105.86777778,-118.28416667,-101.70583333,-149.99805556,-159.54527778,-78.32,-83.56027778,-76.01944444,-106.86833333,-84.42777778,-88.51916667,-97.15472222,-69.79722222,-97.67,-82.54194444,-75.72333333,-111.65555556,-85.55166667,-72.68444444,-161.83722222,-78.64,-103.59555556,-119.05777778,-75.97972222,-68.82805556,-68.36138889,-86.75222222,-118.36361111,-108.54361111,-100.74583333,-94.93472222,-93.20055556,-81.12416667,-122.5375,-89.83527778,-88.91583333,-86.67805556,-116.22277778,-71.00638889,-94.02055556,-81.46638889,-67.12944444,-94.13361111,-91.12555556,-97.42611111,-156.76861111,-112.4975,-91.15,-73.15333333,-78.73055556,-118.35861111,-76.66888889,-111.15027778,-81.11944444,-81.44361111,-162.72611111,-113.09888889,-103.09527778,-145.4775,-124.23666667,-108.62805556,-89.57083333,-85.20361111,-78.45222222,-80.04055556,-91.71083333,-84.4725,-80.2275,-81.85472222,-96.3625,-80.94916667,-82.89222222,-88.27666667,-88.48638889,-104.26333333,-109.75333333,-109.02388889,-104.70083333,-92.21777778,-106.46361111,-65.30388889,-97.5025,-81.59277778,-84.93888889,-84.66777778,-103.0775,-89.66666667,-104.81055556,-81.05805556,-96.85083333,-84.21944444,-90.70944444,-77.03777778,-99.96555556,-88.86555556,-104.67305556,-97.03777778,-85.44944444,-102.80333333,-158.50555556,-92.19333333,-107.75388889,-100.92722222,-86.47138889,-93.65777778,-83.35333333,-78.89861111,-166.545,-98.91,-99.00666667,-120.20694444,-91.48416667,-85.79555556,-106.91583333,-115.79138889,-92.81166667,-76.89166667,-106.37638889,-151.24472222,-80.17388889,-87.09361111,-123.21194444,-87.52861111,-70.95777778,-77.04305556,-74.16861111,-81.76,-147.85666667,-96.81583333,-119.71888889,-78.88027778,-114.25611111,-111.66916667,-80.14972222,-79.72388889,-105.01138889,-83.74472222,-94.19194444,-96.74194444,-94.36777778,-85.19527778,-105.53944444,-100.72444444,-104.80722222,-117.53527778,-97.17388889,-94.71138889,-106.61472222,-108.52666667,-90.98555556,-82.27166667,-89.07,-88.12972222,-98.30972222,-97.82888889,-85.52277778,-79.94111111,-82.21888889,-135.7075,-111.37027778,-88.59138889,-106.93166667,144.79722222,-107.21777778,-77.72638889,-80.6975,-92.83888889,-111.98333333,-135.40888889,-157.92027778,-156.01444444,-103.21722222,-151.48583333,-93.09611111,-95.27722222,-73.7075,-97.65527778,-93.15472222,-86.775,-82.56027778,-72.88777778,-109.76222222,-70.28027778,-99.27305556,-77.46,-78.94583333,-95.34138889,-97.43305556,-112.07083333,-75.60666667,-77.90277778,-88.11444444,-86.29472222,-93.40222222,-115.57888889,-76.92194444,-92.545,-73.10055556,-76.45861111,-155.04833333,-90.13138889,-110.73777778,-90.07583333,-81.68777778,-73.77861111,-156.67305556,-94.49888889,-98.67805556,-134.57833333,-78.83472222,-156.04555556,-163.30194444,-131.71111111,-84.58611111,-105.675,-115.15222222,-98.41666667,-118.40805556,-101.82055556,-79.41027778,-100.68361111,-100.96,-93.22333333,-82.92777778,-72.30416667,-84.60861111,-91.98777778,-73.8725,-118.15194444,-159.33888889,-92.22472222,-96.75916667,-76.29444444,-156.95138889,-99.46166667,-91.25666667,-80.39944444,-117.01527778,-79.20111111,-102.20194444,-67.14833333,-86.24694444,-84.07972222,-120.51388889,-94.71388889,-100.59194444,-83.64916667,-81.30888889,-93.33111111,-76.7625,-87.7525,-88.75194444,-89.97666667,-98.23861111,-122.87333333,-86.39388889,-79.9175,-96.67194444,-71.43583333,-80.29,-87.89694444,-86.23555556,-157.09638889,-88.91555556,-93.91944444,-80.64527778,-90.5075,-92.03611111,-88.24277778,-101.27805556,-87.39638889,-121.84305556,-87.61027778,-89.3375,-114.09055556,-93.22166667,-74.845,-90.25916667,-107.89416667,-155.66805556,-70.61388889,-89.01111111,-78.92833333,-77.61222222,-122.22111111,-112.01222222,-156.43055556,-75.46333333,-97.60083333,-105.575,-95.89416667,-165.44472222,-117.60111111,-87.90805556,-76.20111111,-71.87555556,-124.24694444,-162.59805556,-87.16694444,-122.28222222,-88.77305556,-73.46805556,-80.09555556,-118.84305556,-122.59694444,-111.44833333,-81.99083333,-77.38416667,-76.49305556,-75.24055556,-112.01166667,-89.69333333,-89.33694444,-82.68638889,-112.59583333,-100.28583333,-80.23277778,-81.43916667,-84.79666667,-87.18666667,-170.71027778,-68.04472222,-112.41916667,-119.11888889,-66.56444444,-132.94611111,-70.82333333,-116.50666667,-104.49805556,-117.11166667,-70.22083333,-71.42777778,-111.72333333,-70.30861111,-103.05722222,-122.29333333,-121.15055556,-78.7875,-89.09722222,-89.46666667,-77.31972222,-108.45972222,-69.09972222,-109.06527778,-119.76805556,-79.97555556,-77.67194444,-104.52944444,-92.5,-81.75527778,-72.94972222,-106.08944444,-117.18972222,-98.46916667,-81.20222222,-119.84138889,-86.31722222,-120.6425,-75.50944444,-148.46527778,-77.8475,-121.23861111,-85.73638889,-160.52138889,-104.1925,-122.31166667,-81.235,-122.37555556,-93.38861111,-113.51027778,-78.89638889,-106.98027778,-93.82611111,-135.36111111,-121.92861111,-100.49638889,-66.00222222,-111.97777778,-74.20611111,-97.65222222,-121.59083333,-120.45805556,-117.86833333,-170.2225,-110.00555556,-64.94083333,-89.67805556,145.73,-98.49194444,-82.55444444,-64.70527778,-94.05944444,-90.37,-122.81277778,-64.97333333,-64.80194444,-114.29555556,-96.38444444,-74.10472222,-97.08583333,-76.10638889,-92.14083333,-107.90888889,-84.35083333,-83.80777778,-82.53333333,-82.4075,-74.81333333,-95.88805556,-88.77,-110.94111111,-85.58194444,-96.185,-114.48777778,-93.99111111,-95.40305556,-83.99416667,-91.19444444,-160.79916667,-80.70916667,-96.91861111,-146.24472222,-109.51138889,-83.27611111,-86.52527778,-65.49361111,-132.36972222,-111.11777778,-94.30777778,-103.75055556,-139.66027778,-120.54416667,-114.60611111],\"marker\":{\"color\":\"#636efa\",\"size\":[71709.0,13874.0,326124.0,4832.0,6270.0,20232.0,9069.0,17390.0,77171.0,447.0,12493.0,18331.0,47996.0,127.0,3598.0,188743.0,2562.0,1720.0,7762.0,57683.0,392125.0,1.0,120.0,2713.0,4157.0,49519.0,6379751.0,67045.0,1956.0,356.0,1254024.0,141547.0,30668.0,150172.0,15451.0,438769.0,11594.0,156.0,2138.0,25821.0,2065.0,57744.0,691.0,206063.0,304.0,70189.0,40874.0,5851.0,2014.0,440.0,31628.0,31807.0,31290.0,1469199.0,344069.0,1891070.0,4270.0,7001.0,47118.0,4343.0,1.0,20477.0,5230.0,3536.0,53415.0,74941.0,279223.0,373051.0,1701582.0,191824.0,81116.0,38875.0,376.0,2855.0,99.0,2991.0,1.0,218.0,1427.0,71223.0,41252.0,396206.0,101453.0,3909.0,6410.0,678806.0,12354.0,3791277.0,538439.0,10700.0,3656.0,180.0,3752.0,7607.0,186826.0,15024.0,13655.0,159.0,54232.0,28631.0,9317.0,582545.0,380.0,18758.0,808.0,54973.0,1281903.0,96349.0,3610.0,1312029.0,1406.0,1513.0,5379062.0,5090122.0,7140.0,3588.0,3529.0,22080.0,38675.0,3830.0,4.0,201642.0,2133467.0,215.0,369.0,1020.0,4191.0,9174.0,3407.0,158054.0,41035.0,3585.0,92.0,15239.0,269868.0,468.0,13149.0,3368.0,108886.0,31059.0,1.0,15242.0,2120299.0,146953.0,84620.0,77010.0,161195.0,36702.0,82746.0,23790.0,2190246.0,4622.0,666.0,46802.0,902.0,94180.0,8821.0,64750.0,4533.0,5069.0,55.0,306502.0,13369.0,4386.0,77.0,48593.0,210.0,38578.0,41680.0,50292.0,10263.0,25130.0,276608.0,119509.0,167258.0,1071.0,27247.0,6791.0,7938.0,15155.0,30387.0,4541.0,38811.0,2762.0,14173.0,1.0,1133627.0,1.0,2430.0,228.0,165.0,993085.0,106863.0,58213.0,114.0,87545.0,18553.0,6192.0,74.0,1602.0,1974.0,988795.0,8622.0,2228917.0,118629.0,42145.0,2424.0,88680.0,3256.0,661020.0,1841.0,217.0,845.0,262.0,111735.0,11282.0,72586.0,337.0,100434.0,88571.0,473011.0,1671589.0,59.0,4174.0,1761.0,51080.0,1235.0,283262.0,2.0,21103.0,17938.0,2968.0,3662309.0,8060.0,3789485.0,78236.0,23904.0,2398.0,1123.0,10307.0,29299.0,445.0,89945.0,38903.0,1559501.0,210138.0,212531.0,157575.0,17339.0,123.0,90.0,16078.0,17280.0,1607.0,6795.0,13277.0,95881.0,204.0,315.0,13262.0,205.0,717987.0,157.0,14.0,3645512.0,1125.0,98591.0,1468513.0,1849.0,339760.0,73802.0,83300.0,24552.0,333.0,11359.0,94432.0,1941734.0,434131.0,2156.0,152.0,31.0,16.0,35124.0,46953.0,15374.0,45299.0,24886.0,11113.0,37640.0,114.0,135420.0,75788.0,2286902.0,170.0,768622.0,37990.0,4.0,11330.0,580.0,309328.0,31687.0,755601.0,4657.0,579955.0,1771.0,310498.0,22.0,344810.0,5627.0,430360.0,4478254.0,318698.0,2686.0,2897.0,5508.0,2241.0,22934.0,2115.0,7899.0,521852.0,79.0,1084407.0,400.0,156560.0,6542.0,16817.0,1799774.0,3560294.0,46415.0,2011.0,200326.0,4891.0,2591.0,585392.0,315.0,6417.0,225097.0,345.0,2181.0,2622.0,64019.0,6738.0,3992.0,7929.0,201083.0,1671.0,10267.0,471.0,228118.0,22537.0,168775.0,67113.0,10782.0,80215.0,807584.0,20095.0,5624.0,304320.0,2618.0,395.0,2946.0,336451.0,45409.0,146330.0,8759.0,19102.0,1007491.0,368.0,18794.0,1515716.0,623728.0,266574.0,87813.0,65915.0,39331.0,12090.0,4505.0,22416.0,13514.0,295688.0,11.0,161.0,3234382.0,234377.0,1910957.0,91892.0,29536.0,2211.0,4096.0,47737.0,15412.0,678468.0,11184.0,868921.0,2041425.0,224.0,2759.0,897385.0,5286.0,745980.0,5.0,152.0,4.0,11757.0,2767.0,5730.0,316175.0,2.0,3304.0,953201.0,42317.0,136851.0,36054.0,18821.0,4442.0,13153.0,3687.0,161973.0,920.0,558.0,61261.0,15966.0,1712605.0,30291.0,49260.0,219035.0,309.0,258576.0,58786.0,117.0,7331.0,5445.0,8134.0,187118.0,721.0,2.0,27376.0,1106.0,51.0,1559.0,7440.0,194576.0,426.0,2401.0,2598.0,110395.0,9347.0,2163.0,8515.0,17879.0],\"sizemode\":\"area\",\"sizeref\":10207.6016},\"mode\":\"markers\",\"name\":\"\",\"showlegend\":false,\"subplot\":\"mapbox\",\"type\":\"scattermapbox\"}],                        {\"template\":{\"data\":{\"bar\":[{\"error_x\":{\"color\":\"#2a3f5f\"},\"error_y\":{\"color\":\"#2a3f5f\"},\"marker\":{\"line\":{\"color\":\"#E5ECF6\",\"width\":0.5},\"pattern\":{\"fillmode\":\"overlay\",\"size\":10,\"solidity\":0.2}},\"type\":\"bar\"}],\"barpolar\":[{\"marker\":{\"line\":{\"color\":\"#E5ECF6\",\"width\":0.5},\"pattern\":{\"fillmode\":\"overlay\",\"size\":10,\"solidity\":0.2}},\"type\":\"barpolar\"}],\"carpet\":[{\"aaxis\":{\"endlinecolor\":\"#2a3f5f\",\"gridcolor\":\"white\",\"linecolor\":\"white\",\"minorgridcolor\":\"white\",\"startlinecolor\":\"#2a3f5f\"},\"baxis\":{\"endlinecolor\":\"#2a3f5f\",\"gridcolor\":\"white\",\"linecolor\":\"white\",\"minorgridcolor\":\"white\",\"startlinecolor\":\"#2a3f5f\"},\"type\":\"carpet\"}],\"choropleth\":[{\"colorbar\":{\"outlinewidth\":0,\"ticks\":\"\"},\"type\":\"choropleth\"}],\"contour\":[{\"colorbar\":{\"outlinewidth\":0,\"ticks\":\"\"},\"colorscale\":[[0.0,\"#0d0887\"],[0.1111111111111111,\"#46039f\"],[0.2222222222222222,\"#7201a8\"],[0.3333333333333333,\"#9c179e\"],[0.4444444444444444,\"#bd3786\"],[0.5555555555555556,\"#d8576b\"],[0.6666666666666666,\"#ed7953\"],[0.7777777777777778,\"#fb9f3a\"],[0.8888888888888888,\"#fdca26\"],[1.0,\"#f0f921\"]],\"type\":\"contour\"}],\"contourcarpet\":[{\"colorbar\":{\"outlinewidth\":0,\"ticks\":\"\"},\"type\":\"contourcarpet\"}],\"heatmap\":[{\"colorbar\":{\"outlinewidth\":0,\"ticks\":\"\"},\"colorscale\":[[0.0,\"#0d0887\"],[0.1111111111111111,\"#46039f\"],[0.2222222222222222,\"#7201a8\"],[0.3333333333333333,\"#9c179e\"],[0.4444444444444444,\"#bd3786\"],[0.5555555555555556,\"#d8576b\"],[0.6666666666666666,\"#ed7953\"],[0.7777777777777778,\"#fb9f3a\"],[0.8888888888888888,\"#fdca26\"],[1.0,\"#f0f921\"]],\"type\":\"heatmap\"}],\"heatmapgl\":[{\"colorbar\":{\"outlinewidth\":0,\"ticks\":\"\"},\"colorscale\":[[0.0,\"#0d0887\"],[0.1111111111111111,\"#46039f\"],[0.2222222222222222,\"#7201a8\"],[0.3333333333333333,\"#9c179e\"],[0.4444444444444444,\"#bd3786\"],[0.5555555555555556,\"#d8576b\"],[0.6666666666666666,\"#ed7953\"],[0.7777777777777778,\"#fb9f3a\"],[0.8888888888888888,\"#fdca26\"],[1.0,\"#f0f921\"]],\"type\":\"heatmapgl\"}],\"histogram\":[{\"marker\":{\"pattern\":{\"fillmode\":\"overlay\",\"size\":10,\"solidity\":0.2}},\"type\":\"histogram\"}],\"histogram2d\":[{\"colorbar\":{\"outlinewidth\":0,\"ticks\":\"\"},\"colorscale\":[[0.0,\"#0d0887\"],[0.1111111111111111,\"#46039f\"],[0.2222222222222222,\"#7201a8\"],[0.3333333333333333,\"#9c179e\"],[0.4444444444444444,\"#bd3786\"],[0.5555555555555556,\"#d8576b\"],[0.6666666666666666,\"#ed7953\"],[0.7777777777777778,\"#fb9f3a\"],[0.8888888888888888,\"#fdca26\"],[1.0,\"#f0f921\"]],\"type\":\"histogram2d\"}],\"histogram2dcontour\":[{\"colorbar\":{\"outlinewidth\":0,\"ticks\":\"\"},\"colorscale\":[[0.0,\"#0d0887\"],[0.1111111111111111,\"#46039f\"],[0.2222222222222222,\"#7201a8\"],[0.3333333333333333,\"#9c179e\"],[0.4444444444444444,\"#bd3786\"],[0.5555555555555556,\"#d8576b\"],[0.6666666666666666,\"#ed7953\"],[0.7777777777777778,\"#fb9f3a\"],[0.8888888888888888,\"#fdca26\"],[1.0,\"#f0f921\"]],\"type\":\"histogram2dcontour\"}],\"mesh3d\":[{\"colorbar\":{\"outlinewidth\":0,\"ticks\":\"\"},\"type\":\"mesh3d\"}],\"parcoords\":[{\"line\":{\"colorbar\":{\"outlinewidth\":0,\"ticks\":\"\"}},\"type\":\"parcoords\"}],\"pie\":[{\"automargin\":true,\"type\":\"pie\"}],\"scatter\":[{\"marker\":{\"colorbar\":{\"outlinewidth\":0,\"ticks\":\"\"}},\"type\":\"scatter\"}],\"scatter3d\":[{\"line\":{\"colorbar\":{\"outlinewidth\":0,\"ticks\":\"\"}},\"marker\":{\"colorbar\":{\"outlinewidth\":0,\"ticks\":\"\"}},\"type\":\"scatter3d\"}],\"scattercarpet\":[{\"marker\":{\"colorbar\":{\"outlinewidth\":0,\"ticks\":\"\"}},\"type\":\"scattercarpet\"}],\"scattergeo\":[{\"marker\":{\"colorbar\":{\"outlinewidth\":0,\"ticks\":\"\"}},\"type\":\"scattergeo\"}],\"scattergl\":[{\"marker\":{\"colorbar\":{\"outlinewidth\":0,\"ticks\":\"\"}},\"type\":\"scattergl\"}],\"scattermapbox\":[{\"marker\":{\"colorbar\":{\"outlinewidth\":0,\"ticks\":\"\"}},\"type\":\"scattermapbox\"}],\"scatterpolar\":[{\"marker\":{\"colorbar\":{\"outlinewidth\":0,\"ticks\":\"\"}},\"type\":\"scatterpolar\"}],\"scatterpolargl\":[{\"marker\":{\"colorbar\":{\"outlinewidth\":0,\"ticks\":\"\"}},\"type\":\"scatterpolargl\"}],\"scatterternary\":[{\"marker\":{\"colorbar\":{\"outlinewidth\":0,\"ticks\":\"\"}},\"type\":\"scatterternary\"}],\"surface\":[{\"colorbar\":{\"outlinewidth\":0,\"ticks\":\"\"},\"colorscale\":[[0.0,\"#0d0887\"],[0.1111111111111111,\"#46039f\"],[0.2222222222222222,\"#7201a8\"],[0.3333333333333333,\"#9c179e\"],[0.4444444444444444,\"#bd3786\"],[0.5555555555555556,\"#d8576b\"],[0.6666666666666666,\"#ed7953\"],[0.7777777777777778,\"#fb9f3a\"],[0.8888888888888888,\"#fdca26\"],[1.0,\"#f0f921\"]],\"type\":\"surface\"}],\"table\":[{\"cells\":{\"fill\":{\"color\":\"#EBF0F8\"},\"line\":{\"color\":\"white\"}},\"header\":{\"fill\":{\"color\":\"#C8D4E3\"},\"line\":{\"color\":\"white\"}},\"type\":\"table\"}]},\"layout\":{\"annotationdefaults\":{\"arrowcolor\":\"#2a3f5f\",\"arrowhead\":0,\"arrowwidth\":1},\"autotypenumbers\":\"strict\",\"coloraxis\":{\"colorbar\":{\"outlinewidth\":0,\"ticks\":\"\"}},\"colorscale\":{\"diverging\":[[0,\"#8e0152\"],[0.1,\"#c51b7d\"],[0.2,\"#de77ae\"],[0.3,\"#f1b6da\"],[0.4,\"#fde0ef\"],[0.5,\"#f7f7f7\"],[0.6,\"#e6f5d0\"],[0.7,\"#b8e186\"],[0.8,\"#7fbc41\"],[0.9,\"#4d9221\"],[1,\"#276419\"]],\"sequential\":[[0.0,\"#0d0887\"],[0.1111111111111111,\"#46039f\"],[0.2222222222222222,\"#7201a8\"],[0.3333333333333333,\"#9c179e\"],[0.4444444444444444,\"#bd3786\"],[0.5555555555555556,\"#d8576b\"],[0.6666666666666666,\"#ed7953\"],[0.7777777777777778,\"#fb9f3a\"],[0.8888888888888888,\"#fdca26\"],[1.0,\"#f0f921\"]],\"sequentialminus\":[[0.0,\"#0d0887\"],[0.1111111111111111,\"#46039f\"],[0.2222222222222222,\"#7201a8\"],[0.3333333333333333,\"#9c179e\"],[0.4444444444444444,\"#bd3786\"],[0.5555555555555556,\"#d8576b\"],[0.6666666666666666,\"#ed7953\"],[0.7777777777777778,\"#fb9f3a\"],[0.8888888888888888,\"#fdca26\"],[1.0,\"#f0f921\"]]},\"colorway\":[\"#636efa\",\"#EF553B\",\"#00cc96\",\"#ab63fa\",\"#FFA15A\",\"#19d3f3\",\"#FF6692\",\"#B6E880\",\"#FF97FF\",\"#FECB52\"],\"font\":{\"color\":\"#2a3f5f\"},\"geo\":{\"bgcolor\":\"white\",\"lakecolor\":\"white\",\"landcolor\":\"#E5ECF6\",\"showlakes\":true,\"showland\":true,\"subunitcolor\":\"white\"},\"hoverlabel\":{\"align\":\"left\"},\"hovermode\":\"closest\",\"mapbox\":{\"style\":\"light\"},\"paper_bgcolor\":\"white\",\"plot_bgcolor\":\"#E5ECF6\",\"polar\":{\"angularaxis\":{\"gridcolor\":\"white\",\"linecolor\":\"white\",\"ticks\":\"\"},\"bgcolor\":\"#E5ECF6\",\"radialaxis\":{\"gridcolor\":\"white\",\"linecolor\":\"white\",\"ticks\":\"\"}},\"scene\":{\"xaxis\":{\"backgroundcolor\":\"#E5ECF6\",\"gridcolor\":\"white\",\"gridwidth\":2,\"linecolor\":\"white\",\"showbackground\":true,\"ticks\":\"\",\"zerolinecolor\":\"white\"},\"yaxis\":{\"backgroundcolor\":\"#E5ECF6\",\"gridcolor\":\"white\",\"gridwidth\":2,\"linecolor\":\"white\",\"showbackground\":true,\"ticks\":\"\",\"zerolinecolor\":\"white\"},\"zaxis\":{\"backgroundcolor\":\"#E5ECF6\",\"gridcolor\":\"white\",\"gridwidth\":2,\"linecolor\":\"white\",\"showbackground\":true,\"ticks\":\"\",\"zerolinecolor\":\"white\"}},\"shapedefaults\":{\"line\":{\"color\":\"#2a3f5f\"}},\"ternary\":{\"aaxis\":{\"gridcolor\":\"white\",\"linecolor\":\"white\",\"ticks\":\"\"},\"baxis\":{\"gridcolor\":\"white\",\"linecolor\":\"white\",\"ticks\":\"\"},\"bgcolor\":\"#E5ECF6\",\"caxis\":{\"gridcolor\":\"white\",\"linecolor\":\"white\",\"ticks\":\"\"}},\"title\":{\"x\":0.05},\"xaxis\":{\"automargin\":true,\"gridcolor\":\"white\",\"linecolor\":\"white\",\"ticks\":\"\",\"title\":{\"standoff\":15},\"zerolinecolor\":\"white\",\"zerolinewidth\":2},\"yaxis\":{\"automargin\":true,\"gridcolor\":\"white\",\"linecolor\":\"white\",\"ticks\":\"\",\"title\":{\"standoff\":15},\"zerolinecolor\":\"white\",\"zerolinewidth\":2}}},\"mapbox\":{\"domain\":{\"x\":[0.0,1.0],\"y\":[0.0,1.0]},\"center\":{\"lat\":39.10049876557773,\"lon\":-97.44893518526672},\"accesstoken\":\"pk.eyJ1IjoiZWdvcjIyODI4MiIsImEiOiJja281eGVhdHcxeG1sMm9tdng2aHk4YzByIn0.CX0VdWcrzcxNS3EQX8JrDw\",\"zoom\":2},\"legend\":{\"tracegroupgap\":0,\"itemsizing\":\"constant\"},\"margin\":{\"t\":60}},                        {\"responsive\": true}                    ).then(function(){\n",
       "                            \n",
       "var gd = document.getElementById('527356c3-f8cd-4b4f-9cf9-5eb79b63d52e');\n",
       "var x = new MutationObserver(function (mutations, observer) {{\n",
       "        var display = window.getComputedStyle(gd).display;\n",
       "        if (!display || display === 'none') {{\n",
       "            console.log([gd, 'removed!']);\n",
       "            Plotly.purge(gd);\n",
       "            observer.disconnect();\n",
       "        }}\n",
       "}});\n",
       "\n",
       "// Listen for the removal of the full notebook cells\n",
       "var notebookContainer = gd.closest('#notebook-container');\n",
       "if (notebookContainer) {{\n",
       "    x.observe(notebookContainer, {childList: true});\n",
       "}}\n",
       "\n",
       "// Listen for the clearing of the current output cell\n",
       "var outputEl = gd.closest('.output');\n",
       "if (outputEl) {{\n",
       "    x.observe(outputEl, {childList: true});\n",
       "}}\n",
       "\n",
       "                        })                };                });            </script>        </div>"
      ]
     },
     "metadata": {},
     "output_type": "display_data"
    }
   ],
   "source": [
    "# map_pic/2.png\n",
    "px.set_mapbox_access_token(MAPBOX_ACCESS_TOKEN)\n",
    "fig = px.scatter_mapbox(coord_with_passengers,\n",
    "                        lat=coord_with_passengers.LATITUDE,\n",
    "                        lon=coord_with_passengers.LONGITUDE,\n",
    "                        size=\"Passengers\",\n",
    "                        color_continuous_scale=px.colors.cyclical.IceFire, size_max=25, zoom=2)\n",
    "fig.show()"
   ]
  },
  {
   "cell_type": "markdown",
   "id": "7c964309",
   "metadata": {},
   "source": [
    "## Network Analysis"
   ]
  },
  {
   "cell_type": "markdown",
   "id": "54aaa358",
   "metadata": {},
   "source": [
    "Count the degree of each node."
   ]
  },
  {
   "cell_type": "code",
   "execution_count": 76,
   "id": "f81c050e",
   "metadata": {},
   "outputs": [
    {
     "data": {
      "text/html": [
       "<div>\n",
       "<style scoped>\n",
       "    .dataframe tbody tr th:only-of-type {\n",
       "        vertical-align: middle;\n",
       "    }\n",
       "\n",
       "    .dataframe tbody tr th {\n",
       "        vertical-align: top;\n",
       "    }\n",
       "\n",
       "    .dataframe thead th {\n",
       "        text-align: right;\n",
       "    }\n",
       "</style>\n",
       "<table border=\"1\" class=\"dataframe\">\n",
       "  <thead>\n",
       "    <tr style=\"text-align: right;\">\n",
       "      <th></th>\n",
       "      <th>Airport</th>\n",
       "      <th>kin</th>\n",
       "      <th>kout</th>\n",
       "    </tr>\n",
       "  </thead>\n",
       "  <tbody>\n",
       "    <tr>\n",
       "      <th>0</th>\n",
       "      <td>ABE</td>\n",
       "      <td>47</td>\n",
       "      <td>51</td>\n",
       "    </tr>\n",
       "    <tr>\n",
       "      <th>1</th>\n",
       "      <td>ABI</td>\n",
       "      <td>12</td>\n",
       "      <td>15</td>\n",
       "    </tr>\n",
       "    <tr>\n",
       "      <th>2</th>\n",
       "      <td>ABQ</td>\n",
       "      <td>107</td>\n",
       "      <td>106</td>\n",
       "    </tr>\n",
       "    <tr>\n",
       "      <th>3</th>\n",
       "      <td>ABR</td>\n",
       "      <td>7</td>\n",
       "      <td>3</td>\n",
       "    </tr>\n",
       "    <tr>\n",
       "      <th>4</th>\n",
       "      <td>ABY</td>\n",
       "      <td>12</td>\n",
       "      <td>7</td>\n",
       "    </tr>\n",
       "  </tbody>\n",
       "</table>\n",
       "</div>"
      ],
      "text/plain": [
       "  Airport  kin  kout\n",
       "0     ABE   47    51\n",
       "1     ABI   12    15\n",
       "2     ABQ  107   106\n",
       "3     ABR    7     3\n",
       "4     ABY   12     7"
      ]
     },
     "execution_count": 76,
     "metadata": {},
     "output_type": "execute_result"
    }
   ],
   "source": [
    "in_ = df.groupby(['Origin']).count().reset_index()[['Origin', 'Passengers']]\n",
    "out_ = df.groupby(['Dest']).count().reset_index()[['Dest', 'Passengers']]\n",
    "stata = in_.merge(out_, left_on='Origin', right_on='Dest')\n",
    "stata.drop(columns=['Dest'], inplace=True)\n",
    "stata.rename(columns={'Origin': 'Airport', 'Passengers_x': 'kin', 'Passengers_y': 'kout'}, inplace=True)\n",
    "stata.head()"
   ]
  },
  {
   "cell_type": "code",
   "execution_count": 77,
   "id": "0ea9b3ca",
   "metadata": {},
   "outputs": [
    {
     "data": {
      "text/html": [
       "<div>\n",
       "<style scoped>\n",
       "    .dataframe tbody tr th:only-of-type {\n",
       "        vertical-align: middle;\n",
       "    }\n",
       "\n",
       "    .dataframe tbody tr th {\n",
       "        vertical-align: top;\n",
       "    }\n",
       "\n",
       "    .dataframe thead th {\n",
       "        text-align: right;\n",
       "    }\n",
       "</style>\n",
       "<table border=\"1\" class=\"dataframe\">\n",
       "  <thead>\n",
       "    <tr style=\"text-align: right;\">\n",
       "      <th></th>\n",
       "      <th>kin</th>\n",
       "      <th>kout</th>\n",
       "    </tr>\n",
       "  </thead>\n",
       "  <tbody>\n",
       "    <tr>\n",
       "      <th>count</th>\n",
       "      <td>444.00000</td>\n",
       "      <td>444.000000</td>\n",
       "    </tr>\n",
       "    <tr>\n",
       "      <th>mean</th>\n",
       "      <td>37.88964</td>\n",
       "      <td>37.885135</td>\n",
       "    </tr>\n",
       "    <tr>\n",
       "      <th>std</th>\n",
       "      <td>45.73808</td>\n",
       "      <td>46.039171</td>\n",
       "    </tr>\n",
       "    <tr>\n",
       "      <th>min</th>\n",
       "      <td>1.00000</td>\n",
       "      <td>1.000000</td>\n",
       "    </tr>\n",
       "    <tr>\n",
       "      <th>25%</th>\n",
       "      <td>5.00000</td>\n",
       "      <td>5.000000</td>\n",
       "    </tr>\n",
       "    <tr>\n",
       "      <th>50%</th>\n",
       "      <td>15.00000</td>\n",
       "      <td>15.000000</td>\n",
       "    </tr>\n",
       "    <tr>\n",
       "      <th>75%</th>\n",
       "      <td>58.00000</td>\n",
       "      <td>54.250000</td>\n",
       "    </tr>\n",
       "    <tr>\n",
       "      <th>max</th>\n",
       "      <td>212.00000</td>\n",
       "      <td>212.000000</td>\n",
       "    </tr>\n",
       "  </tbody>\n",
       "</table>\n",
       "</div>"
      ],
      "text/plain": [
       "             kin        kout\n",
       "count  444.00000  444.000000\n",
       "mean    37.88964   37.885135\n",
       "std     45.73808   46.039171\n",
       "min      1.00000    1.000000\n",
       "25%      5.00000    5.000000\n",
       "50%     15.00000   15.000000\n",
       "75%     58.00000   54.250000\n",
       "max    212.00000  212.000000"
      ]
     },
     "execution_count": 77,
     "metadata": {},
     "output_type": "execute_result"
    }
   ],
   "source": [
    "stata.describe()"
   ]
  },
  {
   "cell_type": "code",
   "execution_count": 26,
   "id": "50b48d15",
   "metadata": {},
   "outputs": [
    {
     "data": {
      "image/png": "[encoded data removed]",
      "text/plain": [
       "<Figure size 576x576 with 1 Axes>"
      ]
     },
     "metadata": {
      "image/png": {
       "height": 481,
       "width": 499
      }
     },
     "output_type": "display_data"
    }
   ],
   "source": [
    "fig, ax = plt.subplots()\n",
    "fig.set_size_inches(8, 8)\n",
    "\n",
    "ax.scatter(stata.kout, stata.kin, s=2)\n",
    "\n",
    "lims = [\n",
    "    np.min([ax.get_xlim(), ax.get_ylim()]),  # min of both axes\n",
    "    np.max([ax.get_xlim(), ax.get_ylim()]),  # max of both axes\n",
    "]\n",
    "ax.plot(lims, lims, 'k-', alpha=0.5, zorder=0)\n",
    "\n",
    "plt.xlabel('k_out', fontsize=12)\n",
    "plt.ylabel('k_in', fontsize=12)\n",
    "\n",
    "fig.show()"
   ]
  },
  {
   "cell_type": "code",
   "execution_count": 83,
   "id": "fad82aa5",
   "metadata": {},
   "outputs": [
    {
     "name": "stdout",
     "output_type": "stream",
     "text": [
      "Pearson correlation (k_in & k_out): 0.996\n"
     ]
    }
   ],
   "source": [
    "print(f\"Pearson correlation (k_in & k_out): {round(pearsonr(stata.kout, stata.kin)[0], 3)}\")"
   ]
  },
  {
   "cell_type": "markdown",
   "id": "255d54ed",
   "metadata": {},
   "source": [
    "We can see a strong correlation."
   ]
  },
  {
   "cell_type": "code",
   "execution_count": 84,
   "id": "d5450d01",
   "metadata": {},
   "outputs": [],
   "source": [
    "kin_dist = collections.Counter(stata.kin)\n",
    "kin_dist = collections.OrderedDict(sorted(kin_dist.items()))"
   ]
  },
  {
   "cell_type": "code",
   "execution_count": 85,
   "id": "952cc2aa",
   "metadata": {},
   "outputs": [],
   "source": [
    "kout_dist = collections.Counter(stata.kout)\n",
    "kout_dist = collections.OrderedDict(sorted(kout_dist.items()))"
   ]
  },
  {
   "cell_type": "markdown",
   "id": "dc706f36",
   "metadata": {},
   "source": [
    "Now plot the degree distribution, the relative frequency of each value of kin/kout:"
   ]
  },
  {
   "cell_type": "code",
   "execution_count": 86,
   "id": "a9f8ca44",
   "metadata": {},
   "outputs": [
    {
     "data": {
      "image/png": "[encoded data removed]",
      "text/plain": [
       "<Figure size 864x576 with 1 Axes>"
      ]
     },
     "metadata": {
      "image/png": {
       "height": 486,
       "width": 722
      }
     },
     "output_type": "display_data"
    }
   ],
   "source": [
    "fig, ax = plt.subplots()\n",
    "fig.set_size_inches(12, 8)\n",
    "\n",
    "ax.plot(kin_dist.keys(), kin_dist.values(), color='#0e36c7', label='k_in')\n",
    "ax.plot(kout_dist.keys(), kout_dist.values(), color='#1edbe8', label='k_out')\n",
    "\n",
    "plt.xlabel('k', fontsize=12)\n",
    "plt.ylabel('P(k)', fontsize=12)\n",
    "\n",
    "plt.legend()\n",
    "\n",
    "plt.xscale(\"log\")\n",
    "plt.yscale(\"log\")\n",
    "\n",
    "fig.show()"
   ]
  },
  {
   "cell_type": "markdown",
   "id": "d867817a",
   "metadata": {},
   "source": [
    "## Baseline method"
   ]
  },
  {
   "cell_type": "markdown",
   "id": "efb63b84",
   "metadata": {},
   "source": [
    "Let's try to predict the Origin-Destination Matrix Prediction. In the initial method, we will not use machine learning, but simply try to predict based on the available data. Let's divide airports into train and sample test. And for a test sample, let's try to predict the flow. It's like we're adding new airports and we want to know the flow for them.\n",
    "For each airport from the test sample, we will find the nearest airports from the train and watch the flow between the nearest airports found for Origin and Dest from the train. We average the found flows and get predictions"
   ]
  },
  {
   "cell_type": "code",
   "execution_count": 30,
   "id": "54cd9dc3",
   "metadata": {},
   "outputs": [],
   "source": [
    "airports = list(df.Origin.unique())"
   ]
  },
  {
   "cell_type": "code",
   "execution_count": 31,
   "id": "1ca3db82",
   "metadata": {},
   "outputs": [],
   "source": [
    "train_airports = np.random.choice(airports, size=int(0.9*len(airports)), replace=False)\n",
    "test_airports = [x for x in airports if x not in train_airports]"
   ]
  },
  {
   "cell_type": "code",
   "execution_count": 32,
   "id": "51202e5b",
   "metadata": {},
   "outputs": [],
   "source": [
    "train_df = df[(df.Origin.isin(train_airports)) & (df.Dest.isin(train_airports))]\n",
    "test_df = df[(df.Origin.isin(test_airports)) | (df.Dest.isin(test_airports))]"
   ]
  },
  {
   "cell_type": "code",
   "execution_count": 33,
   "id": "f520ec37",
   "metadata": {},
   "outputs": [],
   "source": [
    "def validate_point(p):\n",
    "    lat, lon = p\n",
    "\n",
    "def distance_haversine(p1, p2):\n",
    "    R = 6371 \n",
    "    lat1, lon1 = p1\n",
    "    lat2, lon2 = p2\n",
    "    for p in [p1, p2]:\n",
    "        validate_point(p)\n",
    "        \n",
    "    lat1, lon1, lat2, lon2 = map(radians, [lat1, lon1, lat2, lon2])\n",
    "    \n",
    "    dlon = lon2 - lon1\n",
    "    dlat = lat2 - lat1\n",
    "\n",
    "    a = sin(dlat/2)**2 + cos(lat1) * cos(lat2) * sin(dlon/2)**2\n",
    "    c = 2 * asin(sqrt(a))\n",
    "    d = R * c\n",
    "    return d"
   ]
  },
  {
   "cell_type": "code",
   "execution_count": 34,
   "id": "85bcd7e7",
   "metadata": {},
   "outputs": [],
   "source": [
    "def search_neighbor(point, coord, train_airports, test_airports):\n",
    "    if point not in test_airports:\n",
    "        neighbors = [point]\n",
    "    else:\n",
    "        distance = {}\n",
    "        p1 = coord.loc[coord['AIRPORT'] == point].LATITUDE.item(), \\\n",
    "              coord.loc[coord['AIRPORT'] == point].LONGITUDE.item()\n",
    "        for airport in train_airports:\n",
    "            p2 = coord.loc[coord['AIRPORT'] == airport].LATITUDE.item(), \\\n",
    "                  coord.loc[coord['AIRPORT'] == airport].LONGITUDE.item()\n",
    "            distance[airport] = distance_haversine(p1, p2)\n",
    "        distance = {k: v for k, v in sorted(distance.items(), key=lambda item: item[1])}    \n",
    "        neighbors = list(distance.keys())\n",
    "    return neighbors"
   ]
  },
  {
   "cell_type": "code",
   "execution_count": 35,
   "id": "7634071c",
   "metadata": {},
   "outputs": [
    {
     "name": "stderr",
     "output_type": "stream",
     "text": [
      "100%|███████████████████████████████████████| 2745/2745 [07:19<00:00,  6.24it/s]\n"
     ]
    }
   ],
   "source": [
    "MAX_NEIGHBORS_CNT = 5\n",
    "passengers_pred_list = []\n",
    "for idx in tqdm(range(test_df.shape[0])):\n",
    "    raw = test_df.iloc[idx]\n",
    "    origin_neighbors = search_neighbor(raw.Origin, coord, train_airports, test_airports)\n",
    "    dest_neighbors = search_neighbor(raw.Dest, coord, train_airports, test_airports)\n",
    "    \n",
    "    if (len(origin_neighbors) != 1) and (len(dest_neighbors) != 1):\n",
    "        od_choosen = train_df[(train_df.Origin.isin(origin_neighbors[:MAX_NEIGHBORS_CNT])) \\\n",
    "                              & (train_df.Dest.isin(dest_neighbors[:MAX_NEIGHBORS_CNT]))]\n",
    "    elif (len(origin_neighbors) == 1) and (len(dest_neighbors) != 1):\n",
    "        od_choosen = train_df[(train_df.Origin.isin(origin_neighbors)) \\\n",
    "                              & (train_df.Dest.isin(dest_neighbors[:MAX_NEIGHBORS_CNT]))]\n",
    "    else:\n",
    "        od_choosen = train_df[(train_df.Origin.isin(origin_neighbors[:MAX_NEIGHBORS_CNT])) \\\n",
    "                              & (train_df.Dest.isin(dest_neighbors))]\n",
    "        \n",
    "    if od_choosen.shape[0] == 0:\n",
    "        passengers_pred = np.nan \n",
    "    else:\n",
    "        passengers_pred = od_choosen.Passengers.mean()\n",
    "    \n",
    "    passengers_pred_list.append(passengers_pred)"
   ]
  },
  {
   "cell_type": "code",
   "execution_count": 37,
   "id": "13d6ac00",
   "metadata": {},
   "outputs": [],
   "source": [
    "df_res_baseline = copy.deepcopy(test_df)"
   ]
  },
  {
   "cell_type": "code",
   "execution_count": 38,
   "id": "73df7126",
   "metadata": {},
   "outputs": [],
   "source": [
    "df_res_baseline['Passengers_pred'] = [x for x in passengers_pred_list]"
   ]
  },
  {
   "cell_type": "markdown",
   "id": "68bcdf4b",
   "metadata": {},
   "source": [
    "It is clear that not for all airports from test there will be neighbors between which there is a flow. For them, we will simply average the predictions received."
   ]
  },
  {
   "cell_type": "code",
   "execution_count": 39,
   "id": "9f3cc1f0",
   "metadata": {},
   "outputs": [],
   "source": [
    "df_res_baseline = df_res_baseline.fillna(df_res_baseline.Passengers_pred.mean())"
   ]
  },
  {
   "cell_type": "code",
   "execution_count": 40,
   "id": "8a6871cb",
   "metadata": {},
   "outputs": [
    {
     "data": {
      "text/plain": [
       "4177.52434210632"
      ]
     },
     "execution_count": 40,
     "metadata": {},
     "output_type": "execute_result"
    }
   ],
   "source": [
    "mean_absolute_error(df_res_baseline.Passengers, df_res_baseline.Passengers_pred)"
   ]
  },
  {
   "cell_type": "code",
   "execution_count": 41,
   "id": "3368830a",
   "metadata": {},
   "outputs": [],
   "source": [
    "df_res_baseline['diff_'] = [abs(x-y) for x,y in zip(df_res_baseline.Passengers, \\\n",
    "                                                    df_res_baseline.Passengers_pred)]"
   ]
  },
  {
   "cell_type": "code",
   "execution_count": 42,
   "id": "58bd91eb",
   "metadata": {},
   "outputs": [
    {
     "data": {
      "text/html": [
       "<div>\n",
       "<style scoped>\n",
       "    .dataframe tbody tr th:only-of-type {\n",
       "        vertical-align: middle;\n",
       "    }\n",
       "\n",
       "    .dataframe tbody tr th {\n",
       "        vertical-align: top;\n",
       "    }\n",
       "\n",
       "    .dataframe thead th {\n",
       "        text-align: right;\n",
       "    }\n",
       "</style>\n",
       "<table border=\"1\" class=\"dataframe\">\n",
       "  <thead>\n",
       "    <tr style=\"text-align: right;\">\n",
       "      <th></th>\n",
       "      <th>diff_</th>\n",
       "      <th>Passengers</th>\n",
       "    </tr>\n",
       "  </thead>\n",
       "  <tbody>\n",
       "    <tr>\n",
       "      <th>count</th>\n",
       "      <td>2745.000000</td>\n",
       "      <td>2745.000000</td>\n",
       "    </tr>\n",
       "    <tr>\n",
       "      <th>mean</th>\n",
       "      <td>4177.524342</td>\n",
       "      <td>3551.583607</td>\n",
       "    </tr>\n",
       "    <tr>\n",
       "      <th>std</th>\n",
       "      <td>8078.198348</td>\n",
       "      <td>9532.822200</td>\n",
       "    </tr>\n",
       "    <tr>\n",
       "      <th>min</th>\n",
       "      <td>0.000000</td>\n",
       "      <td>1.000000</td>\n",
       "    </tr>\n",
       "    <tr>\n",
       "      <th>25%</th>\n",
       "      <td>83.000000</td>\n",
       "      <td>2.000000</td>\n",
       "    </tr>\n",
       "    <tr>\n",
       "      <th>50%</th>\n",
       "      <td>1926.000000</td>\n",
       "      <td>60.000000</td>\n",
       "    </tr>\n",
       "    <tr>\n",
       "      <th>75%</th>\n",
       "      <td>3105.433995</td>\n",
       "      <td>2227.000000</td>\n",
       "    </tr>\n",
       "    <tr>\n",
       "      <th>max</th>\n",
       "      <td>87150.500000</td>\n",
       "      <td>87764.000000</td>\n",
       "    </tr>\n",
       "  </tbody>\n",
       "</table>\n",
       "</div>"
      ],
      "text/plain": [
       "              diff_    Passengers\n",
       "count   2745.000000   2745.000000\n",
       "mean    4177.524342   3551.583607\n",
       "std     8078.198348   9532.822200\n",
       "min        0.000000      1.000000\n",
       "25%       83.000000      2.000000\n",
       "50%     1926.000000     60.000000\n",
       "75%     3105.433995   2227.000000\n",
       "max    87150.500000  87764.000000"
      ]
     },
     "execution_count": 42,
     "metadata": {},
     "output_type": "execute_result"
    }
   ],
   "source": [
    "df_res_baseline[['diff_', 'Passengers']].describe()"
   ]
  },
  {
   "cell_type": "markdown",
   "id": "00fbc017",
   "metadata": {},
   "source": [
    "The results on metrics turned out to be not very good, to put it mildly, but if you look at the distribution, you can see something good."
   ]
  },
  {
   "cell_type": "code",
   "execution_count": 43,
   "id": "a7201c11",
   "metadata": {},
   "outputs": [
    {
     "data": {
      "image/png": "[encoded data removed]",
      "text/plain": [
       "<Figure size 864x576 with 4 Axes>"
      ]
     },
     "metadata": {
      "image/png": {
       "height": 483,
       "width": 724
      }
     },
     "output_type": "display_data"
    }
   ],
   "source": [
    "fig, ax = plt.subplots(2, 2)\n",
    "fig.set_size_inches(12, 8)\n",
    "\n",
    "df_res_baseline.Passengers.hist(ax=ax[0,0])\n",
    "ax[0,0].set_title('Real distribution of test sample', fontsize=16)\n",
    "\n",
    "df_res_baseline.Passengers_pred.hist(ax=ax[0,1])\n",
    "ax[0,1].set_title('Prediction distribution of test sample', fontsize=16)\n",
    "\n",
    "df_res_baseline[df_res_baseline.Passengers < 10000].Passengers.hist(ax=ax[1,0])\n",
    "ax[1,0].set_title('Real distribution of test sample (<10000)', fontsize=16)\n",
    "\n",
    "df_res_baseline[df_res_baseline.Passengers_pred < 10000].Passengers_pred.hist(ax=ax[1,1])\n",
    "ax[1,1].set_title('Prediction distribution of test sample (<10000)', fontsize=16)\n",
    "\n",
    "fig.show()"
   ]
  },
  {
   "cell_type": "markdown",
   "id": "4c9d87b8",
   "metadata": {},
   "source": [
    "It can be seen that the distributions practically coincide. If you look in more detail at up to 10,000 passengers, you can see obvious discrepancies, for example, a bright peak for predictions of up to 4,000 passengers. But it looks good for baseline."
   ]
  },
  {
   "cell_type": "markdown",
   "id": "7ece80c8",
   "metadata": {},
   "source": [
    "Then there were attempts to predict the Origin-Destination Matrix Production using neural networks, but they were unsuccessful. Therefore, it was decided to simplify the task a little."
   ]
  },
  {
   "cell_type": "markdown",
   "id": "c4f59881",
   "metadata": {},
   "source": [
    "### Label prediction by random walk"
   ]
  },
  {
   "cell_type": "markdown",
   "id": "6ba7834a",
   "metadata": {},
   "source": [
    "Let's look at the map again, but on a color scale. With the growth of the flow, not only the size, but also the color of the node changes."
   ]
  },
  {
   "cell_type": "code",
   "execution_count": 161,
   "id": "1d9b3c00",
   "metadata": {},
   "outputs": [
    {
     "data": {
      "application/vnd.plotly.v1+json": {
       "config": {
        "plotlyServerURL": "https://plot.ly"
       },
       "data": [
        {
         "hovertemplate": "Passengers=%{marker.color}<br>LATITUDE=%{lat}<br>LONGITUDE=%{lon}<extra></extra>",
         "lat": [
          40.6525,
          32.41138889,
          35.03888889,
          45.44666667,
          31.53555556,
          41.25305556,
          31.61222222,
          40.97777778,
          39.4575,
          51.88361111,
          57.74972222,
          31.3275,
          33.37,
          42.05333333,
          58.67638889,
          42.74916667,
          42.55833333,
          37.435,
          46.0925,
          35.21944444,
          61.17416667,
          61.58138889,
          40.29638889,
          45.07805556,
          43.99194444,
          39.22194444,
          33.63666667,
          44.25805556,
          44.91388889,
          44.32055556,
          30.19444444,
          35.43611111,
          41.33833333,
          33.30777778,
          42.23444444,
          41.93916667,
          60.77861111,
          41.80305556,
          41.87416667,
          35.43388889,
          42.20833333,
          44.8075,
          44.44972222,
          33.56388889,
          37.37305556,
          45.80777778,
          46.77277778,
          47.51083333,
          36.53194444,
          37.78722222,
          48.79277778,
          38.54527778,
          40.47722222,
          36.12444444,
          43.56444444,
          42.36305556,
          29.95083333,
          31.25916667,
          18.49472222,
          46.40416667,
          40.78305556,
          25.90611111,
          71.28472222,
          45.95472222,
          30.53305556,
          44.47194444,
          42.94055556,
          34.20055556,
          39.17583333,
          45.77722222,
          33.93888889,
          40.915,
          55.20583333,
          37.70083333,
          42.8375,
          60.49166667,
          41.78027778,
          37.30305556,
          37.22527778,
          35.03527778,
          38.13972222,
          32.89861111,
          41.88472222,
          46.25083333,
          39.29777778,
          41.40944444,
          30.58805556,
          35.21361111,
          39.99694444,
          40.03861111,
          47.16777778,
          32.3375,
          38.7575,
          44.52027778,
          38.80583333,
          38.81777778,
          42.90583333,
          18.31305556,
          27.77222222,
          38.37611111,
          32.51638889,
          39.04888889,
          34.42666667,
          44.7775,
          41.15555556,
          29.18,
          32.84583333,
          39.90222222,
          42.40194444,
          38.85138889,
          37.76305556,
          39.83444444,
          39.86166667,
          32.89722222,
          31.32111111,
          46.80083333,
          59.04472222,
          46.84194444,
          37.15166667,
          29.37416667,
          30.4,
          41.53416667,
          42.2125,
          41.17833333,
          53.89888889,
          48.11666667,
          40.72694444,
          47.39888889,
          44.86583333,
          30.35833333,
          39.64277778,
          40.825,
          33.22111111,
          42.15972222,
          31.80722222,
          60.57333333,
          42.08305556,
          45.72277778,
          44.12444444,
          38.04083333,
          41.67666667,
          35.07277778,
          40.6925,
          24.55611111,
          64.81527778,
          46.92055556,
          36.77666667,
          34.99111111,
          48.31055556,
          35.14027778,
          26.07166667,
          34.18527778,
          40.45194444,
          42.96555556,
          42.55111111,
          43.58194444,
          35.33527778,
          40.97833333,
          44.34888889,
          37.9275,
          47.13861111,
          47.61916667,
          47.94722222,
          32.38388889,
          48.2125,
          39.1225,
          33.48277778,
          29.69,
          30.40722222,
          44.48472222,
          40.9675,
          31.06722222,
          42.88083333,
          36.10138889,
          34.89555556,
          58.42527778,
          47.48222222,
          33.44833333,
          38.53444444,
          13.48388889,
          40.48111111,
          39.70861111,
          32.22444444,
          47.38666667,
          46.60666667,
          58.09611111,
          21.31777778,
          20.79555556,
          32.6875,
          59.645,
          34.47805556,
          29.64583333,
          41.06694444,
          26.22722222,
          36.26138889,
          34.63722222,
          38.36861111,
          41.26361111,
          48.54305556,
          41.66944444,
          38.84222222,
          38.9475,
          43.1075,
          29.98444444,
          37.65,
          43.51361111,
          39.67861111,
          34.27111111,
          45.81833333,
          39.71722222,
          48.56555556,
          32.83416667,
          41.24166667,
          40.09333333,
          40.79611111,
          42.49138889,
          19.72027778,
          46.5275,
          43.60722222,
          32.31111111,
          30.49416667,
          40.64,
          20.96305556,
          37.15305556,
          46.92972222,
          58.35472222,
          40.31555556,
          19.73888889,
          62.06083333,
          55.35416667,
          42.77861111,
          41.31194444,
          36.08,
          34.56777778,
          33.9425,
          33.66361111,
          40.27305556,
          41.12611111,
          37.04388889,
          30.12611111,
          39.81388889,
          43.62611111,
          38.03666667,
          30.205,
          40.77722222,
          33.81805556,
          21.97611111,
          34.72944444,
          40.85083333,
          40.12222222,
          20.78555556,
          27.54416667,
          43.87916667,
          37.85833333,
          46.37444444,
          37.32527778,
          31.9425,
          18.25555556,
          44.2725,
          43.53305556,
          37.28472222,
          39.2975,
          40.20638889,
          32.69277778,
          28.42944444,
          43.15777778,
          40.19305556,
          41.78583333,
          32.3325,
          35.0425,
          26.17583333,
          42.375,
          32.30055556,
          39.64361111,
          39.14111111,
          42.93277778,
          25.79527778,
          42.94694444,
          43.16777778,
          21.15277778,
          35.6,
          44.22277778,
          28.10277778,
          41.44833333,
          32.51055556,
          30.69138889,
          48.25777778,
          46.34916667,
          36.58694444,
          34.74527778,
          43.14,
          46.91638889,
          44.88194444,
          44.93611111,
          29.99333333,
          38.50972222,
          20.00138889,
          41.39333333,
          37.755,
          33.67972222,
          34.82916667,
          37.72111111,
          41.195,
          20.89861111,
          44.68222222,
          35.39305556,
          48.09444444,
          41.30305556,
          64.51055556,
          34.05611111,
          41.97694444,
          36.89472222,
          42.26722222,
          43.41694444,
          66.88472222,
          37.73888889,
          47.90722222,
          37.06027778,
          44.65083333,
          26.68305556,
          45.69472222,
          45.58861111,
          36.92611111,
          26.91861111,
          35.63555556,
          37.13194444,
          39.87194444,
          33.43416667,
          40.66416667,
          31.46722222,
          27.90861111,
          42.90972222,
          44.38277778,
          40.49138889,
          39.345,
          45.57083333,
          30.47333333,
          -14.33,
          46.68888889,
          34.65472222,
          46.26472222,
          18.00888889,
          56.80138889,
          43.07805556,
          33.82972222,
          38.29,
          46.74166667,
          42.07222222,
          41.72222222,
          40.21916667,
          43.64555556,
          44.04527778,
          40.50888889,
          44.25416667,
          35.87777778,
          42.19527778,
          45.63083333,
          37.50527778,
          43.06416667,
          44.06027778,
          41.59416667,
          39.49916667,
          37.32555556,
          43.11916667,
          33.3,
          43.90833333,
          26.53611111,
          43.52972222,
          35.61722222,
          32.73361111,
          29.53388889,
          32.1275,
          34.42611111,
          41.70833333,
          35.23722222,
          38.34027778,
          70.19472222,
          40.85,
          37.89444444,
          38.17416667,
          55.31361111,
          47.70694444,
          47.45,
          28.77722222,
          37.61888889,
          37.24555556,
          37.03638889,
          38.26388889,
          44.76916667,
          32.44638889,
          57.04694444,
          37.36305556,
          31.35777778,
          18.43944444,
          40.78833333,
          44.38527778,
          38.79055556,
          38.69555556,
          34.9,
          33.67555556,
          57.16638889,
          34.26555556,
          18.33861111,
          39.84416667,
          15.12027778,
          33.98888889,
          27.39555556,
          17.74916667,
          45.54611111,
          38.74861111,
          38.50972222,
          18.33722222,
          17.70138889,
          43.50388889,
          42.40138889,
          41.50416667,
          36.16138889,
          43.11111111,
          37.74166667,
          37.95388889,
          30.39666667,
          41.58694444,
          27.97555556,
          36.47527778,
          40.27666667,
          36.19833333,
          34.26888889,
          32.11611111,
          44.74166667,
          48.06555556,
          42.48194444,
          33.45361111,
          32.35361111,
          35.81111111,
          39.94305556,
          63.88861111,
          35.38777778,
          28.85416667,
          61.13416667,
          40.43611111,
          30.78138889,
          30.48333333,
          18.13472222,
          56.48444444,
          44.68833333,
          36.28166667,
          48.25972222,
          59.50333333,
          46.56805556,
          32.65666667
         ],
         "legendgroup": "",
         "lon": [
          -75.44027778,
          -99.68194444,
          -106.60833333,
          -98.4225,
          -84.19444444,
          -70.06,
          -97.23027778,
          -124.10833333,
          -74.57722222,
          -176.6425,
          -152.49388889,
          -92.54861111,
          -81.96444444,
          -102.80361111,
          -156.64861111,
          -73.80194444,
          -92.40111111,
          -105.86777778,
          -118.28416667,
          -101.70583333,
          -149.99805556,
          -159.54527778,
          -78.32,
          -83.56027778,
          -76.01944444,
          -106.86833333,
          -84.42777778,
          -88.51916667,
          -97.15472222,
          -69.79722222,
          -97.67,
          -82.54194444,
          -75.72333333,
          -111.65555556,
          -85.55166667,
          -72.68444444,
          -161.83722222,
          -78.64,
          -103.59555556,
          -119.05777778,
          -75.97972222,
          -68.82805556,
          -68.36138889,
          -86.75222222,
          -118.36361111,
          -108.54361111,
          -100.74583333,
          -94.93472222,
          -93.20055556,
          -81.12416667,
          -122.5375,
          -89.83527778,
          -88.91583333,
          -86.67805556,
          -116.22277778,
          -71.00638889,
          -94.02055556,
          -81.46638889,
          -67.12944444,
          -94.13361111,
          -91.12555556,
          -97.42611111,
          -156.76861111,
          -112.4975,
          -91.15,
          -73.15333333,
          -78.73055556,
          -118.35861111,
          -76.66888889,
          -111.15027778,
          -81.11944444,
          -81.44361111,
          -162.72611111,
          -113.09888889,
          -103.09527778,
          -145.4775,
          -124.23666667,
          -108.62805556,
          -89.57083333,
          -85.20361111,
          -78.45222222,
          -80.04055556,
          -91.71083333,
          -84.4725,
          -80.2275,
          -81.85472222,
          -96.3625,
          -80.94916667,
          -82.89222222,
          -88.27666667,
          -88.48638889,
          -104.26333333,
          -109.75333333,
          -109.02388889,
          -104.70083333,
          -92.21777778,
          -106.46361111,
          -65.30388889,
          -97.5025,
          -81.59277778,
          -84.93888889,
          -84.66777778,
          -103.0775,
          -89.66666667,
          -104.81055556,
          -81.05805556,
          -96.85083333,
          -84.21944444,
          -90.70944444,
          -77.03777778,
          -99.96555556,
          -88.86555556,
          -104.67305556,
          -97.03777778,
          -85.44944444,
          -102.80333333,
          -158.50555556,
          -92.19333333,
          -107.75388889,
          -100.92722222,
          -86.47138889,
          -93.65777778,
          -83.35333333,
          -78.89861111,
          -166.545,
          -98.91,
          -99.00666667,
          -120.20694444,
          -91.48416667,
          -85.79555556,
          -106.91583333,
          -115.79138889,
          -92.81166667,
          -76.89166667,
          -106.37638889,
          -151.24472222,
          -80.17388889,
          -87.09361111,
          -123.21194444,
          -87.52861111,
          -70.95777778,
          -77.04305556,
          -74.16861111,
          -81.76,
          -147.85666667,
          -96.81583333,
          -119.71888889,
          -78.88027778,
          -114.25611111,
          -111.66916667,
          -80.14972222,
          -79.72388889,
          -105.01138889,
          -83.74472222,
          -94.19194444,
          -96.74194444,
          -94.36777778,
          -85.19527778,
          -105.53944444,
          -100.72444444,
          -104.80722222,
          -117.53527778,
          -97.17388889,
          -94.71138889,
          -106.61472222,
          -108.52666667,
          -90.98555556,
          -82.27166667,
          -89.07,
          -88.12972222,
          -98.30972222,
          -97.82888889,
          -85.52277778,
          -79.94111111,
          -82.21888889,
          -135.7075,
          -111.37027778,
          -88.59138889,
          -106.93166667,
          144.79722222,
          -107.21777778,
          -77.72638889,
          -80.6975,
          -92.83888889,
          -111.98333333,
          -135.40888889,
          -157.92027778,
          -156.01444444,
          -103.21722222,
          -151.48583333,
          -93.09611111,
          -95.27722222,
          -73.7075,
          -97.65527778,
          -93.15472222,
          -86.775,
          -82.56027778,
          -72.88777778,
          -109.76222222,
          -70.28027778,
          -99.27305556,
          -77.46,
          -78.94583333,
          -95.34138889,
          -97.43305556,
          -112.07083333,
          -75.60666667,
          -77.90277778,
          -88.11444444,
          -86.29472222,
          -93.40222222,
          -115.57888889,
          -76.92194444,
          -92.545,
          -73.10055556,
          -76.45861111,
          -155.04833333,
          -90.13138889,
          -110.73777778,
          -90.07583333,
          -81.68777778,
          -73.77861111,
          -156.67305556,
          -94.49888889,
          -98.67805556,
          -134.57833333,
          -78.83472222,
          -156.04555556,
          -163.30194444,
          -131.71111111,
          -84.58611111,
          -105.675,
          -115.15222222,
          -98.41666667,
          -118.40805556,
          -101.82055556,
          -79.41027778,
          -100.68361111,
          -100.96,
          -93.22333333,
          -82.92777778,
          -72.30416667,
          -84.60861111,
          -91.98777778,
          -73.8725,
          -118.15194444,
          -159.33888889,
          -92.22472222,
          -96.75916667,
          -76.29444444,
          -156.95138889,
          -99.46166667,
          -91.25666667,
          -80.39944444,
          -117.01527778,
          -79.20111111,
          -102.20194444,
          -67.14833333,
          -86.24694444,
          -84.07972222,
          -120.51388889,
          -94.71388889,
          -100.59194444,
          -83.64916667,
          -81.30888889,
          -93.33111111,
          -76.7625,
          -87.7525,
          -88.75194444,
          -89.97666667,
          -98.23861111,
          -122.87333333,
          -86.39388889,
          -79.9175,
          -96.67194444,
          -71.43583333,
          -80.29,
          -87.89694444,
          -86.23555556,
          -157.09638889,
          -88.91555556,
          -93.91944444,
          -80.64527778,
          -90.5075,
          -92.03611111,
          -88.24277778,
          -101.27805556,
          -87.39638889,
          -121.84305556,
          -87.61027778,
          -89.3375,
          -114.09055556,
          -93.22166667,
          -74.845,
          -90.25916667,
          -107.89416667,
          -155.66805556,
          -70.61388889,
          -89.01111111,
          -78.92833333,
          -77.61222222,
          -122.22111111,
          -112.01222222,
          -156.43055556,
          -75.46333333,
          -97.60083333,
          -105.575,
          -95.89416667,
          -165.44472222,
          -117.60111111,
          -87.90805556,
          -76.20111111,
          -71.87555556,
          -124.24694444,
          -162.59805556,
          -87.16694444,
          -122.28222222,
          -88.77305556,
          -73.46805556,
          -80.09555556,
          -118.84305556,
          -122.59694444,
          -111.44833333,
          -81.99083333,
          -77.38416667,
          -76.49305556,
          -75.24055556,
          -112.01166667,
          -89.69333333,
          -89.33694444,
          -82.68638889,
          -112.59583333,
          -100.28583333,
          -80.23277778,
          -81.43916667,
          -84.79666667,
          -87.18666667,
          -170.71027778,
          -68.04472222,
          -112.41916667,
          -119.11888889,
          -66.56444444,
          -132.94611111,
          -70.82333333,
          -116.50666667,
          -104.49805556,
          -117.11166667,
          -70.22083333,
          -71.42777778,
          -111.72333333,
          -70.30861111,
          -103.05722222,
          -122.29333333,
          -121.15055556,
          -78.7875,
          -89.09722222,
          -89.46666667,
          -77.31972222,
          -108.45972222,
          -69.09972222,
          -109.06527778,
          -119.76805556,
          -79.97555556,
          -77.67194444,
          -104.52944444,
          -92.5,
          -81.75527778,
          -72.94972222,
          -106.08944444,
          -117.18972222,
          -98.46916667,
          -81.20222222,
          -119.84138889,
          -86.31722222,
          -120.6425,
          -75.50944444,
          -148.46527778,
          -77.8475,
          -121.23861111,
          -85.73638889,
          -160.52138889,
          -104.1925,
          -122.31166667,
          -81.235,
          -122.37555556,
          -93.38861111,
          -113.51027778,
          -78.89638889,
          -106.98027778,
          -93.82611111,
          -135.36111111,
          -121.92861111,
          -100.49638889,
          -66.00222222,
          -111.97777778,
          -74.20611111,
          -97.65222222,
          -121.59083333,
          -120.45805556,
          -117.86833333,
          -170.2225,
          -110.00555556,
          -64.94083333,
          -89.67805556,
          145.73,
          -98.49194444,
          -82.55444444,
          -64.70527778,
          -94.05944444,
          -90.37,
          -122.81277778,
          -64.97333333,
          -64.80194444,
          -114.29555556,
          -96.38444444,
          -74.10472222,
          -97.08583333,
          -76.10638889,
          -92.14083333,
          -107.90888889,
          -84.35083333,
          -83.80777778,
          -82.53333333,
          -82.4075,
          -74.81333333,
          -95.88805556,
          -88.77,
          -110.94111111,
          -85.58194444,
          -96.185,
          -114.48777778,
          -93.99111111,
          -95.40305556,
          -83.99416667,
          -91.19444444,
          -160.79916667,
          -80.70916667,
          -96.91861111,
          -146.24472222,
          -109.51138889,
          -83.27611111,
          -86.52527778,
          -65.49361111,
          -132.36972222,
          -111.11777778,
          -94.30777778,
          -103.75055556,
          -139.66027778,
          -120.54416667,
          -114.60611111
         ],
         "marker": {
          "color": [
           71709,
           13874,
           326124,
           4832,
           6270,
           20232,
           9069,
           17390,
           77171,
           447,
           12493,
           18331,
           47996,
           127,
           3598,
           188743,
           2562,
           1720,
           7762,
           57683,
           392125,
           1,
           120,
           2713,
           4157,
           49519,
           6379751,
           67045,
           1956,
           356,
           1254024,
           141547,
           30668,
           150172,
           15451,
           438769,
           11594,
           156,
           2138,
           25821,
           2065,
           57744,
           691,
           206063,
           304,
           70189,
           40874,
           5851,
           2014,
           440,
           31628,
           31807,
           31290,
           1469199,
           344069,
           1891070,
           4270,
           7001,
           47118,
           4343,
           1,
           20477,
           5230,
           3536,
           53415,
           74941,
           279223,
           373051,
           1701582,
           191824,
           81116,
           38875,
           376,
           2855,
           99,
           2991,
           1,
           218,
           1427,
           71223,
           41252,
           396206,
           101453,
           3909,
           6410,
           678806,
           12354,
           3791277,
           538439,
           10700,
           3656,
           180,
           3752,
           7607,
           186826,
           15024,
           13655,
           159,
           54232,
           28631,
           9317,
           582545,
           380,
           18758,
           808,
           54973,
           1281903,
           96349,
           3610,
           1312029,
           1406,
           1513,
           5379062,
           5090122,
           7140,
           3588,
           3529,
           22080,
           38675,
           3830,
           4,
           201642,
           2133467,
           215,
           369,
           1020,
           4191,
           9174,
           3407,
           158054,
           41035,
           3585,
           92,
           15239,
           269868,
           468,
           13149,
           3368,
           108886,
           31059,
           1,
           15242,
           2120299,
           146953,
           84620,
           77010,
           161195,
           36702,
           82746,
           23790,
           2190246,
           4622,
           666,
           46802,
           902,
           94180,
           8821,
           64750,
           4533,
           5069,
           55,
           306502,
           13369,
           4386,
           77,
           48593,
           210,
           38578,
           41680,
           50292,
           10263,
           25130,
           276608,
           119509,
           167258,
           1071,
           27247,
           6791,
           7938,
           15155,
           30387,
           4541,
           38811,
           2762,
           14173,
           1,
           1133627,
           1,
           2430,
           228,
           165,
           993085,
           106863,
           58213,
           114,
           87545,
           18553,
           6192,
           74,
           1602,
           1974,
           988795,
           8622,
           2228917,
           118629,
           42145,
           2424,
           88680,
           3256,
           661020,
           1841,
           217,
           845,
           262,
           111735,
           11282,
           72586,
           337,
           100434,
           88571,
           473011,
           1671589,
           59,
           4174,
           1761,
           51080,
           1235,
           283262,
           2,
           21103,
           17938,
           2968,
           3662309,
           8060,
           3789485,
           78236,
           23904,
           2398,
           1123,
           10307,
           29299,
           445,
           89945,
           38903,
           1559501,
           210138,
           212531,
           157575,
           17339,
           123,
           90,
           16078,
           17280,
           1607,
           6795,
           13277,
           95881,
           204,
           315,
           13262,
           205,
           717987,
           157,
           14,
           3645512,
           1125,
           98591,
           1468513,
           1849,
           339760,
           73802,
           83300,
           24552,
           333,
           11359,
           94432,
           1941734,
           434131,
           2156,
           152,
           31,
           16,
           35124,
           46953,
           15374,
           45299,
           24886,
           11113,
           37640,
           114,
           135420,
           75788,
           2286902,
           170,
           768622,
           37990,
           4,
           11330,
           580,
           309328,
           31687,
           755601,
           4657,
           579955,
           1771,
           310498,
           22,
           344810,
           5627,
           430360,
           4478254,
           318698,
           2686,
           2897,
           5508,
           2241,
           22934,
           2115,
           7899,
           521852,
           79,
           1084407,
           400,
           156560,
           6542,
           16817,
           1799774,
           3560294,
           46415,
           2011,
           200326,
           4891,
           2591,
           585392,
           315,
           6417,
           225097,
           345,
           2181,
           2622,
           64019,
           6738,
           3992,
           7929,
           201083,
           1671,
           10267,
           471,
           228118,
           22537,
           168775,
           67113,
           10782,
           80215,
           807584,
           20095,
           5624,
           304320,
           2618,
           395,
           2946,
           336451,
           45409,
           146330,
           8759,
           19102,
           1007491,
           368,
           18794,
           1515716,
           623728,
           266574,
           87813,
           65915,
           39331,
           12090,
           4505,
           22416,
           13514,
           295688,
           11,
           161,
           3234382,
           234377,
           1910957,
           91892,
           29536,
           2211,
           4096,
           47737,
           15412,
           678468,
           11184,
           868921,
           2041425,
           224,
           2759,
           897385,
           5286,
           745980,
           5,
           152,
           4,
           11757,
           2767,
           5730,
           316175,
           2,
           3304,
           953201,
           42317,
           136851,
           36054,
           18821,
           4442,
           13153,
           3687,
           161973,
           920,
           558,
           61261,
           15966,
           1712605,
           30291,
           49260,
           219035,
           309,
           258576,
           58786,
           117,
           7331,
           5445,
           8134,
           187118,
           721,
           2,
           27376,
           1106,
           51,
           1559,
           7440,
           194576,
           426,
           2401,
           2598,
           110395,
           9347,
           2163,
           8515,
           17879
          ],
          "coloraxis": "coloraxis",
          "size": [
           71709,
           13874,
           326124,
           4832,
           6270,
           20232,
           9069,
           17390,
           77171,
           447,
           12493,
           18331,
           47996,
           127,
           3598,
           188743,
           2562,
           1720,
           7762,
           57683,
           392125,
           1,
           120,
           2713,
           4157,
           49519,
           6379751,
           67045,
           1956,
           356,
           1254024,
           141547,
           30668,
           150172,
           15451,
           438769,
           11594,
           156,
           2138,
           25821,
           2065,
           57744,
           691,
           206063,
           304,
           70189,
           40874,
           5851,
           2014,
           440,
           31628,
           31807,
           31290,
           1469199,
           344069,
           1891070,
           4270,
           7001,
           47118,
           4343,
           1,
           20477,
           5230,
           3536,
           53415,
           74941,
           279223,
           373051,
           1701582,
           191824,
           81116,
           38875,
           376,
           2855,
           99,
           2991,
           1,
           218,
           1427,
           71223,
           41252,
           396206,
           101453,
           3909,
           6410,
           678806,
           12354,
           3791277,
           538439,
           10700,
           3656,
           180,
           3752,
           7607,
           186826,
           15024,
           13655,
           159,
           54232,
           28631,
           9317,
           582545,
           380,
           18758,
           808,
           54973,
           1281903,
           96349,
           3610,
           1312029,
           1406,
           1513,
           5379062,
           5090122,
           7140,
           3588,
           3529,
           22080,
           38675,
           3830,
           4,
           201642,
           2133467,
           215,
           369,
           1020,
           4191,
           9174,
           3407,
           158054,
           41035,
           3585,
           92,
           15239,
           269868,
           468,
           13149,
           3368,
           108886,
           31059,
           1,
           15242,
           2120299,
           146953,
           84620,
           77010,
           161195,
           36702,
           82746,
           23790,
           2190246,
           4622,
           666,
           46802,
           902,
           94180,
           8821,
           64750,
           4533,
           5069,
           55,
           306502,
           13369,
           4386,
           77,
           48593,
           210,
           38578,
           41680,
           50292,
           10263,
           25130,
           276608,
           119509,
           167258,
           1071,
           27247,
           6791,
           7938,
           15155,
           30387,
           4541,
           38811,
           2762,
           14173,
           1,
           1133627,
           1,
           2430,
           228,
           165,
           993085,
           106863,
           58213,
           114,
           87545,
           18553,
           6192,
           74,
           1602,
           1974,
           988795,
           8622,
           2228917,
           118629,
           42145,
           2424,
           88680,
           3256,
           661020,
           1841,
           217,
           845,
           262,
           111735,
           11282,
           72586,
           337,
           100434,
           88571,
           473011,
           1671589,
           59,
           4174,
           1761,
           51080,
           1235,
           283262,
           2,
           21103,
           17938,
           2968,
           3662309,
           8060,
           3789485,
           78236,
           23904,
           2398,
           1123,
           10307,
           29299,
           445,
           89945,
           38903,
           1559501,
           210138,
           212531,
           157575,
           17339,
           123,
           90,
           16078,
           17280,
           1607,
           6795,
           13277,
           95881,
           204,
           315,
           13262,
           205,
           717987,
           157,
           14,
           3645512,
           1125,
           98591,
           1468513,
           1849,
           339760,
           73802,
           83300,
           24552,
           333,
           11359,
           94432,
           1941734,
           434131,
           2156,
           152,
           31,
           16,
           35124,
           46953,
           15374,
           45299,
           24886,
           11113,
           37640,
           114,
           135420,
           75788,
           2286902,
           170,
           768622,
           37990,
           4,
           11330,
           580,
           309328,
           31687,
           755601,
           4657,
           579955,
           1771,
           310498,
           22,
           344810,
           5627,
           430360,
           4478254,
           318698,
           2686,
           2897,
           5508,
           2241,
           22934,
           2115,
           7899,
           521852,
           79,
           1084407,
           400,
           156560,
           6542,
           16817,
           1799774,
           3560294,
           46415,
           2011,
           200326,
           4891,
           2591,
           585392,
           315,
           6417,
           225097,
           345,
           2181,
           2622,
           64019,
           6738,
           3992,
           7929,
           201083,
           1671,
           10267,
           471,
           228118,
           22537,
           168775,
           67113,
           10782,
           80215,
           807584,
           20095,
           5624,
           304320,
           2618,
           395,
           2946,
           336451,
           45409,
           146330,
           8759,
           19102,
           1007491,
           368,
           18794,
           1515716,
           623728,
           266574,
           87813,
           65915,
           39331,
           12090,
           4505,
           22416,
           13514,
           295688,
           11,
           161,
           3234382,
           234377,
           1910957,
           91892,
           29536,
           2211,
           4096,
           47737,
           15412,
           678468,
           11184,
           868921,
           2041425,
           224,
           2759,
           897385,
           5286,
           745980,
           5,
           152,
           4,
           11757,
           2767,
           5730,
           316175,
           2,
           3304,
           953201,
           42317,
           136851,
           36054,
           18821,
           4442,
           13153,
           3687,
           161973,
           920,
           558,
           61261,
           15966,
           1712605,
           30291,
           49260,
           219035,
           309,
           258576,
           58786,
           117,
           7331,
           5445,
           8134,
           187118,
           721,
           2,
           27376,
           1106,
           51,
           1559,
           7440,
           194576,
           426,
           2401,
           2598,
           110395,
           9347,
           2163,
           8515,
           17879
          ],
          "sizemode": "area",
          "sizeref": 28354.448888888888
         },
         "mode": "markers",
         "name": "",
         "showlegend": false,
         "subplot": "mapbox",
         "type": "scattermapbox"
        }
       ],
       "layout": {
        "coloraxis": {
         "colorbar": {
          "title": {
           "text": "Passengers"
          }
         },
         "colorscale": [
          [
           0,
           "#0d0887"
          ],
          [
           0.1111111111111111,
           "#46039f"
          ],
          [
           0.2222222222222222,
           "#7201a8"
          ],
          [
           0.3333333333333333,
           "#9c179e"
          ],
          [
           0.4444444444444444,
           "#bd3786"
          ],
          [
           0.5555555555555556,
           "#d8576b"
          ],
          [
           0.6666666666666666,
           "#ed7953"
          ],
          [
           0.7777777777777778,
           "#fb9f3a"
          ],
          [
           0.8888888888888888,
           "#fdca26"
          ],
          [
           1,
           "#f0f921"
          ]
         ]
        },
        "legend": {
         "itemsizing": "constant",
         "tracegroupgap": 0
        },
        "mapbox": {
         "accesstoken": "pk.eyJ1IjoiZWdvcjIyODI4MiIsImEiOiJja281eGVhdHcxeG1sMm9tdng2aHk4YzByIn0.CX0VdWcrzcxNS3EQX8JrDw",
         "center": {
          "lat": 39.10049876557773,
          "lon": -97.44893518526672
         },
         "domain": {
          "x": [
           0,
           1
          ],
          "y": [
           0,
           1
          ]
         },
         "zoom": 2
        },
        "margin": {
         "t": 60
        },
        "template": {
         "data": {
          "bar": [
           {
            "error_x": {
             "color": "#2a3f5f"
            },
            "error_y": {
             "color": "#2a3f5f"
            },
            "marker": {
             "line": {
              "color": "#E5ECF6",
              "width": 0.5
             },
             "pattern": {
              "fillmode": "overlay",
              "size": 10,
              "solidity": 0.2
             }
            },
            "type": "bar"
           }
          ],
          "barpolar": [
           {
            "marker": {
             "line": {
              "color": "#E5ECF6",
              "width": 0.5
             },
             "pattern": {
              "fillmode": "overlay",
              "size": 10,
              "solidity": 0.2
             }
            },
            "type": "barpolar"
           }
          ],
          "carpet": [
           {
            "aaxis": {
             "endlinecolor": "#2a3f5f",
             "gridcolor": "white",
             "linecolor": "white",
             "minorgridcolor": "white",
             "startlinecolor": "#2a3f5f"
            },
            "baxis": {
             "endlinecolor": "#2a3f5f",
             "gridcolor": "white",
             "linecolor": "white",
             "minorgridcolor": "white",
             "startlinecolor": "#2a3f5f"
            },
            "type": "carpet"
           }
          ],
          "choropleth": [
           {
            "colorbar": {
             "outlinewidth": 0,
             "ticks": ""
            },
            "type": "choropleth"
           }
          ],
          "contour": [
           {
            "colorbar": {
             "outlinewidth": 0,
             "ticks": ""
            },
            "colorscale": [
             [
              0,
              "#0d0887"
             ],
             [
              0.1111111111111111,
              "#46039f"
             ],
             [
              0.2222222222222222,
              "#7201a8"
             ],
             [
              0.3333333333333333,
              "#9c179e"
             ],
             [
              0.4444444444444444,
              "#bd3786"
             ],
             [
              0.5555555555555556,
              "#d8576b"
             ],
             [
              0.6666666666666666,
              "#ed7953"
             ],
             [
              0.7777777777777778,
              "#fb9f3a"
             ],
             [
              0.8888888888888888,
              "#fdca26"
             ],
             [
              1,
              "#f0f921"
             ]
            ],
            "type": "contour"
           }
          ],
          "contourcarpet": [
           {
            "colorbar": {
             "outlinewidth": 0,
             "ticks": ""
            },
            "type": "contourcarpet"
           }
          ],
          "heatmap": [
           {
            "colorbar": {
             "outlinewidth": 0,
             "ticks": ""
            },
            "colorscale": [
             [
              0,
              "#0d0887"
             ],
             [
              0.1111111111111111,
              "#46039f"
             ],
             [
              0.2222222222222222,
              "#7201a8"
             ],
             [
              0.3333333333333333,
              "#9c179e"
             ],
             [
              0.4444444444444444,
              "#bd3786"
             ],
             [
              0.5555555555555556,
              "#d8576b"
             ],
             [
              0.6666666666666666,
              "#ed7953"
             ],
             [
              0.7777777777777778,
              "#fb9f3a"
             ],
             [
              0.8888888888888888,
              "#fdca26"
             ],
             [
              1,
              "#f0f921"
             ]
            ],
            "type": "heatmap"
           }
          ],
          "heatmapgl": [
           {
            "colorbar": {
             "outlinewidth": 0,
             "ticks": ""
            },
            "colorscale": [
             [
              0,
              "#0d0887"
             ],
             [
              0.1111111111111111,
              "#46039f"
             ],
             [
              0.2222222222222222,
              "#7201a8"
             ],
             [
              0.3333333333333333,
              "#9c179e"
             ],
             [
              0.4444444444444444,
              "#bd3786"
             ],
             [
              0.5555555555555556,
              "#d8576b"
             ],
             [
              0.6666666666666666,
              "#ed7953"
             ],
             [
              0.7777777777777778,
              "#fb9f3a"
             ],
             [
              0.8888888888888888,
              "#fdca26"
             ],
             [
              1,
              "#f0f921"
             ]
            ],
            "type": "heatmapgl"
           }
          ],
          "histogram": [
           {
            "marker": {
             "pattern": {
              "fillmode": "overlay",
              "size": 10,
              "solidity": 0.2
             }
            },
            "type": "histogram"
           }
          ],
          "histogram2d": [
           {
            "colorbar": {
             "outlinewidth": 0,
             "ticks": ""
            },
            "colorscale": [
             [
              0,
              "#0d0887"
             ],
             [
              0.1111111111111111,
              "#46039f"
             ],
             [
              0.2222222222222222,
              "#7201a8"
             ],
             [
              0.3333333333333333,
              "#9c179e"
             ],
             [
              0.4444444444444444,
              "#bd3786"
             ],
             [
              0.5555555555555556,
              "#d8576b"
             ],
             [
              0.6666666666666666,
              "#ed7953"
             ],
             [
              0.7777777777777778,
              "#fb9f3a"
             ],
             [
              0.8888888888888888,
              "#fdca26"
             ],
             [
              1,
              "#f0f921"
             ]
            ],
            "type": "histogram2d"
           }
          ],
          "histogram2dcontour": [
           {
            "colorbar": {
             "outlinewidth": 0,
             "ticks": ""
            },
            "colorscale": [
             [
              0,
              "#0d0887"
             ],
             [
              0.1111111111111111,
              "#46039f"
             ],
             [
              0.2222222222222222,
              "#7201a8"
             ],
             [
              0.3333333333333333,
              "#9c179e"
             ],
             [
              0.4444444444444444,
              "#bd3786"
             ],
             [
              0.5555555555555556,
              "#d8576b"
             ],
             [
              0.6666666666666666,
              "#ed7953"
             ],
             [
              0.7777777777777778,
              "#fb9f3a"
             ],
             [
              0.8888888888888888,
              "#fdca26"
             ],
             [
              1,
              "#f0f921"
             ]
            ],
            "type": "histogram2dcontour"
           }
          ],
          "mesh3d": [
           {
            "colorbar": {
             "outlinewidth": 0,
             "ticks": ""
            },
            "type": "mesh3d"
           }
          ],
          "parcoords": [
           {
            "line": {
             "colorbar": {
              "outlinewidth": 0,
              "ticks": ""
             }
            },
            "type": "parcoords"
           }
          ],
          "pie": [
           {
            "automargin": true,
            "type": "pie"
           }
          ],
          "scatter": [
           {
            "marker": {
             "colorbar": {
              "outlinewidth": 0,
              "ticks": ""
             }
            },
            "type": "scatter"
           }
          ],
          "scatter3d": [
           {
            "line": {
             "colorbar": {
              "outlinewidth": 0,
              "ticks": ""
             }
            },
            "marker": {
             "colorbar": {
              "outlinewidth": 0,
              "ticks": ""
             }
            },
            "type": "scatter3d"
           }
          ],
          "scattercarpet": [
           {
            "marker": {
             "colorbar": {
              "outlinewidth": 0,
              "ticks": ""
             }
            },
            "type": "scattercarpet"
           }
          ],
          "scattergeo": [
           {
            "marker": {
             "colorbar": {
              "outlinewidth": 0,
              "ticks": ""
             }
            },
            "type": "scattergeo"
           }
          ],
          "scattergl": [
           {
            "marker": {
             "colorbar": {
              "outlinewidth": 0,
              "ticks": ""
             }
            },
            "type": "scattergl"
           }
          ],
          "scattermapbox": [
           {
            "marker": {
             "colorbar": {
              "outlinewidth": 0,
              "ticks": ""
             }
            },
            "type": "scattermapbox"
           }
          ],
          "scatterpolar": [
           {
            "marker": {
             "colorbar": {
              "outlinewidth": 0,
              "ticks": ""
             }
            },
            "type": "scatterpolar"
           }
          ],
          "scatterpolargl": [
           {
            "marker": {
             "colorbar": {
              "outlinewidth": 0,
              "ticks": ""
             }
            },
            "type": "scatterpolargl"
           }
          ],
          "scatterternary": [
           {
            "marker": {
             "colorbar": {
              "outlinewidth": 0,
              "ticks": ""
             }
            },
            "type": "scatterternary"
           }
          ],
          "surface": [
           {
            "colorbar": {
             "outlinewidth": 0,
             "ticks": ""
            },
            "colorscale": [
             [
              0,
              "#0d0887"
             ],
             [
              0.1111111111111111,
              "#46039f"
             ],
             [
              0.2222222222222222,
              "#7201a8"
             ],
             [
              0.3333333333333333,
              "#9c179e"
             ],
             [
              0.4444444444444444,
              "#bd3786"
             ],
             [
              0.5555555555555556,
              "#d8576b"
             ],
             [
              0.6666666666666666,
              "#ed7953"
             ],
             [
              0.7777777777777778,
              "#fb9f3a"
             ],
             [
              0.8888888888888888,
              "#fdca26"
             ],
             [
              1,
              "#f0f921"
             ]
            ],
            "type": "surface"
           }
          ],
          "table": [
           {
            "cells": {
             "fill": {
              "color": "#EBF0F8"
             },
             "line": {
              "color": "white"
             }
            },
            "header": {
             "fill": {
              "color": "#C8D4E3"
             },
             "line": {
              "color": "white"
             }
            },
            "type": "table"
           }
          ]
         },
         "layout": {
          "annotationdefaults": {
           "arrowcolor": "#2a3f5f",
           "arrowhead": 0,
           "arrowwidth": 1
          },
          "autotypenumbers": "strict",
          "coloraxis": {
           "colorbar": {
            "outlinewidth": 0,
            "ticks": ""
           }
          },
          "colorscale": {
           "diverging": [
            [
             0,
             "#8e0152"
            ],
            [
             0.1,
             "#c51b7d"
            ],
            [
             0.2,
             "#de77ae"
            ],
            [
             0.3,
             "#f1b6da"
            ],
            [
             0.4,
             "#fde0ef"
            ],
            [
             0.5,
             "#f7f7f7"
            ],
            [
             0.6,
             "#e6f5d0"
            ],
            [
             0.7,
             "#b8e186"
            ],
            [
             0.8,
             "#7fbc41"
            ],
            [
             0.9,
             "#4d9221"
            ],
            [
             1,
             "#276419"
            ]
           ],
           "sequential": [
            [
             0,
             "#0d0887"
            ],
            [
             0.1111111111111111,
             "#46039f"
            ],
            [
             0.2222222222222222,
             "#7201a8"
            ],
            [
             0.3333333333333333,
             "#9c179e"
            ],
            [
             0.4444444444444444,
             "#bd3786"
            ],
            [
             0.5555555555555556,
             "#d8576b"
            ],
            [
             0.6666666666666666,
             "#ed7953"
            ],
            [
             0.7777777777777778,
             "#fb9f3a"
            ],
            [
             0.8888888888888888,
             "#fdca26"
            ],
            [
             1,
             "#f0f921"
            ]
           ],
           "sequentialminus": [
            [
             0,
             "#0d0887"
            ],
            [
             0.1111111111111111,
             "#46039f"
            ],
            [
             0.2222222222222222,
             "#7201a8"
            ],
            [
             0.3333333333333333,
             "#9c179e"
            ],
            [
             0.4444444444444444,
             "#bd3786"
            ],
            [
             0.5555555555555556,
             "#d8576b"
            ],
            [
             0.6666666666666666,
             "#ed7953"
            ],
            [
             0.7777777777777778,
             "#fb9f3a"
            ],
            [
             0.8888888888888888,
             "#fdca26"
            ],
            [
             1,
             "#f0f921"
            ]
           ]
          },
          "colorway": [
           "#636efa",
           "#EF553B",
           "#00cc96",
           "#ab63fa",
           "#FFA15A",
           "#19d3f3",
           "#FF6692",
           "#B6E880",
           "#FF97FF",
           "#FECB52"
          ],
          "font": {
           "color": "#2a3f5f"
          },
          "geo": {
           "bgcolor": "white",
           "lakecolor": "white",
           "landcolor": "#E5ECF6",
           "showlakes": true,
           "showland": true,
           "subunitcolor": "white"
          },
          "hoverlabel": {
           "align": "left"
          },
          "hovermode": "closest",
          "mapbox": {
           "style": "light"
          },
          "paper_bgcolor": "white",
          "plot_bgcolor": "#E5ECF6",
          "polar": {
           "angularaxis": {
            "gridcolor": "white",
            "linecolor": "white",
            "ticks": ""
           },
           "bgcolor": "#E5ECF6",
           "radialaxis": {
            "gridcolor": "white",
            "linecolor": "white",
            "ticks": ""
           }
          },
          "scene": {
           "xaxis": {
            "backgroundcolor": "#E5ECF6",
            "gridcolor": "white",
            "gridwidth": 2,
            "linecolor": "white",
            "showbackground": true,
            "ticks": "",
            "zerolinecolor": "white"
           },
           "yaxis": {
            "backgroundcolor": "#E5ECF6",
            "gridcolor": "white",
            "gridwidth": 2,
            "linecolor": "white",
            "showbackground": true,
            "ticks": "",
            "zerolinecolor": "white"
           },
           "zaxis": {
            "backgroundcolor": "#E5ECF6",
            "gridcolor": "white",
            "gridwidth": 2,
            "linecolor": "white",
            "showbackground": true,
            "ticks": "",
            "zerolinecolor": "white"
           }
          },
          "shapedefaults": {
           "line": {
            "color": "#2a3f5f"
           }
          },
          "ternary": {
           "aaxis": {
            "gridcolor": "white",
            "linecolor": "white",
            "ticks": ""
           },
           "baxis": {
            "gridcolor": "white",
            "linecolor": "white",
            "ticks": ""
           },
           "bgcolor": "#E5ECF6",
           "caxis": {
            "gridcolor": "white",
            "linecolor": "white",
            "ticks": ""
           }
          },
          "title": {
           "x": 0.05
          },
          "xaxis": {
           "automargin": true,
           "gridcolor": "white",
           "linecolor": "white",
           "ticks": "",
           "title": {
            "standoff": 15
           },
           "zerolinecolor": "white",
           "zerolinewidth": 2
          },
          "yaxis": {
           "automargin": true,
           "gridcolor": "white",
           "linecolor": "white",
           "ticks": "",
           "title": {
            "standoff": 15
           },
           "zerolinecolor": "white",
           "zerolinewidth": 2
          }
         }
        }
       }
      },
      "text/html": [
       "<div>                            <div id=\"d190cbba-3895-4329-9298-7fce5e5eace2\" class=\"plotly-graph-div\" style=\"height:525px; width:100%;\"></div>            <script type=\"text/javascript\">                require([\"plotly\"], function(Plotly) {                    window.PLOTLYENV=window.PLOTLYENV || {};                                    if (document.getElementById(\"d190cbba-3895-4329-9298-7fce5e5eace2\")) {                    Plotly.newPlot(                        \"d190cbba-3895-4329-9298-7fce5e5eace2\",                        [{\"hovertemplate\":\"Passengers=%{marker.color}<br>LATITUDE=%{lat}<br>LONGITUDE=%{lon}<extra></extra>\",\"lat\":[40.6525,32.41138889,35.03888889,45.44666667,31.53555556,41.25305556,31.61222222,40.97777778,39.4575,51.88361111,57.74972222,31.3275,33.37,42.05333333,58.67638889,42.74916667,42.55833333,37.435,46.0925,35.21944444,61.17416667,61.58138889,40.29638889,45.07805556,43.99194444,39.22194444,33.63666667,44.25805556,44.91388889,44.32055556,30.19444444,35.43611111,41.33833333,33.30777778,42.23444444,41.93916667,60.77861111,41.80305556,41.87416667,35.43388889,42.20833333,44.8075,44.44972222,33.56388889,37.37305556,45.80777778,46.77277778,47.51083333,36.53194444,37.78722222,48.79277778,38.54527778,40.47722222,36.12444444,43.56444444,42.36305556,29.95083333,31.25916667,18.49472222,46.40416667,40.78305556,25.90611111,71.28472222,45.95472222,30.53305556,44.47194444,42.94055556,34.20055556,39.17583333,45.77722222,33.93888889,40.915,55.20583333,37.70083333,42.8375,60.49166667,41.78027778,37.30305556,37.22527778,35.03527778,38.13972222,32.89861111,41.88472222,46.25083333,39.29777778,41.40944444,30.58805556,35.21361111,39.99694444,40.03861111,47.16777778,32.3375,38.7575,44.52027778,38.80583333,38.81777778,42.90583333,18.31305556,27.77222222,38.37611111,32.51638889,39.04888889,34.42666667,44.7775,41.15555556,29.18,32.84583333,39.90222222,42.40194444,38.85138889,37.76305556,39.83444444,39.86166667,32.89722222,31.32111111,46.80083333,59.04472222,46.84194444,37.15166667,29.37416667,30.4,41.53416667,42.2125,41.17833333,53.89888889,48.11666667,40.72694444,47.39888889,44.86583333,30.35833333,39.64277778,40.825,33.22111111,42.15972222,31.80722222,60.57333333,42.08305556,45.72277778,44.12444444,38.04083333,41.67666667,35.07277778,40.6925,24.55611111,64.81527778,46.92055556,36.77666667,34.99111111,48.31055556,35.14027778,26.07166667,34.18527778,40.45194444,42.96555556,42.55111111,43.58194444,35.33527778,40.97833333,44.34888889,37.9275,47.13861111,47.61916667,47.94722222,32.38388889,48.2125,39.1225,33.48277778,29.69,30.40722222,44.48472222,40.9675,31.06722222,42.88083333,36.10138889,34.89555556,58.42527778,47.48222222,33.44833333,38.53444444,13.48388889,40.48111111,39.70861111,32.22444444,47.38666667,46.60666667,58.09611111,21.31777778,20.79555556,32.6875,59.645,34.47805556,29.64583333,41.06694444,26.22722222,36.26138889,34.63722222,38.36861111,41.26361111,48.54305556,41.66944444,38.84222222,38.9475,43.1075,29.98444444,37.65,43.51361111,39.67861111,34.27111111,45.81833333,39.71722222,48.56555556,32.83416667,41.24166667,40.09333333,40.79611111,42.49138889,19.72027778,46.5275,43.60722222,32.31111111,30.49416667,40.64,20.96305556,37.15305556,46.92972222,58.35472222,40.31555556,19.73888889,62.06083333,55.35416667,42.77861111,41.31194444,36.08,34.56777778,33.9425,33.66361111,40.27305556,41.12611111,37.04388889,30.12611111,39.81388889,43.62611111,38.03666667,30.205,40.77722222,33.81805556,21.97611111,34.72944444,40.85083333,40.12222222,20.78555556,27.54416667,43.87916667,37.85833333,46.37444444,37.32527778,31.9425,18.25555556,44.2725,43.53305556,37.28472222,39.2975,40.20638889,32.69277778,28.42944444,43.15777778,40.19305556,41.78583333,32.3325,35.0425,26.17583333,42.375,32.30055556,39.64361111,39.14111111,42.93277778,25.79527778,42.94694444,43.16777778,21.15277778,35.6,44.22277778,28.10277778,41.44833333,32.51055556,30.69138889,48.25777778,46.34916667,36.58694444,34.74527778,43.14,46.91638889,44.88194444,44.93611111,29.99333333,38.50972222,20.00138889,41.39333333,37.755,33.67972222,34.82916667,37.72111111,41.195,20.89861111,44.68222222,35.39305556,48.09444444,41.30305556,64.51055556,34.05611111,41.97694444,36.89472222,42.26722222,43.41694444,66.88472222,37.73888889,47.90722222,37.06027778,44.65083333,26.68305556,45.69472222,45.58861111,36.92611111,26.91861111,35.63555556,37.13194444,39.87194444,33.43416667,40.66416667,31.46722222,27.90861111,42.90972222,44.38277778,40.49138889,39.345,45.57083333,30.47333333,-14.33,46.68888889,34.65472222,46.26472222,18.00888889,56.80138889,43.07805556,33.82972222,38.29,46.74166667,42.07222222,41.72222222,40.21916667,43.64555556,44.04527778,40.50888889,44.25416667,35.87777778,42.19527778,45.63083333,37.50527778,43.06416667,44.06027778,41.59416667,39.49916667,37.32555556,43.11916667,33.3,43.90833333,26.53611111,43.52972222,35.61722222,32.73361111,29.53388889,32.1275,34.42611111,41.70833333,35.23722222,38.34027778,70.19472222,40.85,37.89444444,38.17416667,55.31361111,47.70694444,47.45,28.77722222,37.61888889,37.24555556,37.03638889,38.26388889,44.76916667,32.44638889,57.04694444,37.36305556,31.35777778,18.43944444,40.78833333,44.38527778,38.79055556,38.69555556,34.9,33.67555556,57.16638889,34.26555556,18.33861111,39.84416667,15.12027778,33.98888889,27.39555556,17.74916667,45.54611111,38.74861111,38.50972222,18.33722222,17.70138889,43.50388889,42.40138889,41.50416667,36.16138889,43.11111111,37.74166667,37.95388889,30.39666667,41.58694444,27.97555556,36.47527778,40.27666667,36.19833333,34.26888889,32.11611111,44.74166667,48.06555556,42.48194444,33.45361111,32.35361111,35.81111111,39.94305556,63.88861111,35.38777778,28.85416667,61.13416667,40.43611111,30.78138889,30.48333333,18.13472222,56.48444444,44.68833333,36.28166667,48.25972222,59.50333333,46.56805556,32.65666667],\"legendgroup\":\"\",\"lon\":[-75.44027778,-99.68194444,-106.60833333,-98.4225,-84.19444444,-70.06,-97.23027778,-124.10833333,-74.57722222,-176.6425,-152.49388889,-92.54861111,-81.96444444,-102.80361111,-156.64861111,-73.80194444,-92.40111111,-105.86777778,-118.28416667,-101.70583333,-149.99805556,-159.54527778,-78.32,-83.56027778,-76.01944444,-106.86833333,-84.42777778,-88.51916667,-97.15472222,-69.79722222,-97.67,-82.54194444,-75.72333333,-111.65555556,-85.55166667,-72.68444444,-161.83722222,-78.64,-103.59555556,-119.05777778,-75.97972222,-68.82805556,-68.36138889,-86.75222222,-118.36361111,-108.54361111,-100.74583333,-94.93472222,-93.20055556,-81.12416667,-122.5375,-89.83527778,-88.91583333,-86.67805556,-116.22277778,-71.00638889,-94.02055556,-81.46638889,-67.12944444,-94.13361111,-91.12555556,-97.42611111,-156.76861111,-112.4975,-91.15,-73.15333333,-78.73055556,-118.35861111,-76.66888889,-111.15027778,-81.11944444,-81.44361111,-162.72611111,-113.09888889,-103.09527778,-145.4775,-124.23666667,-108.62805556,-89.57083333,-85.20361111,-78.45222222,-80.04055556,-91.71083333,-84.4725,-80.2275,-81.85472222,-96.3625,-80.94916667,-82.89222222,-88.27666667,-88.48638889,-104.26333333,-109.75333333,-109.02388889,-104.70083333,-92.21777778,-106.46361111,-65.30388889,-97.5025,-81.59277778,-84.93888889,-84.66777778,-103.0775,-89.66666667,-104.81055556,-81.05805556,-96.85083333,-84.21944444,-90.70944444,-77.03777778,-99.96555556,-88.86555556,-104.67305556,-97.03777778,-85.44944444,-102.80333333,-158.50555556,-92.19333333,-107.75388889,-100.92722222,-86.47138889,-93.65777778,-83.35333333,-78.89861111,-166.545,-98.91,-99.00666667,-120.20694444,-91.48416667,-85.79555556,-106.91583333,-115.79138889,-92.81166667,-76.89166667,-106.37638889,-151.24472222,-80.17388889,-87.09361111,-123.21194444,-87.52861111,-70.95777778,-77.04305556,-74.16861111,-81.76,-147.85666667,-96.81583333,-119.71888889,-78.88027778,-114.25611111,-111.66916667,-80.14972222,-79.72388889,-105.01138889,-83.74472222,-94.19194444,-96.74194444,-94.36777778,-85.19527778,-105.53944444,-100.72444444,-104.80722222,-117.53527778,-97.17388889,-94.71138889,-106.61472222,-108.52666667,-90.98555556,-82.27166667,-89.07,-88.12972222,-98.30972222,-97.82888889,-85.52277778,-79.94111111,-82.21888889,-135.7075,-111.37027778,-88.59138889,-106.93166667,144.79722222,-107.21777778,-77.72638889,-80.6975,-92.83888889,-111.98333333,-135.40888889,-157.92027778,-156.01444444,-103.21722222,-151.48583333,-93.09611111,-95.27722222,-73.7075,-97.65527778,-93.15472222,-86.775,-82.56027778,-72.88777778,-109.76222222,-70.28027778,-99.27305556,-77.46,-78.94583333,-95.34138889,-97.43305556,-112.07083333,-75.60666667,-77.90277778,-88.11444444,-86.29472222,-93.40222222,-115.57888889,-76.92194444,-92.545,-73.10055556,-76.45861111,-155.04833333,-90.13138889,-110.73777778,-90.07583333,-81.68777778,-73.77861111,-156.67305556,-94.49888889,-98.67805556,-134.57833333,-78.83472222,-156.04555556,-163.30194444,-131.71111111,-84.58611111,-105.675,-115.15222222,-98.41666667,-118.40805556,-101.82055556,-79.41027778,-100.68361111,-100.96,-93.22333333,-82.92777778,-72.30416667,-84.60861111,-91.98777778,-73.8725,-118.15194444,-159.33888889,-92.22472222,-96.75916667,-76.29444444,-156.95138889,-99.46166667,-91.25666667,-80.39944444,-117.01527778,-79.20111111,-102.20194444,-67.14833333,-86.24694444,-84.07972222,-120.51388889,-94.71388889,-100.59194444,-83.64916667,-81.30888889,-93.33111111,-76.7625,-87.7525,-88.75194444,-89.97666667,-98.23861111,-122.87333333,-86.39388889,-79.9175,-96.67194444,-71.43583333,-80.29,-87.89694444,-86.23555556,-157.09638889,-88.91555556,-93.91944444,-80.64527778,-90.5075,-92.03611111,-88.24277778,-101.27805556,-87.39638889,-121.84305556,-87.61027778,-89.3375,-114.09055556,-93.22166667,-74.845,-90.25916667,-107.89416667,-155.66805556,-70.61388889,-89.01111111,-78.92833333,-77.61222222,-122.22111111,-112.01222222,-156.43055556,-75.46333333,-97.60083333,-105.575,-95.89416667,-165.44472222,-117.60111111,-87.90805556,-76.20111111,-71.87555556,-124.24694444,-162.59805556,-87.16694444,-122.28222222,-88.77305556,-73.46805556,-80.09555556,-118.84305556,-122.59694444,-111.44833333,-81.99083333,-77.38416667,-76.49305556,-75.24055556,-112.01166667,-89.69333333,-89.33694444,-82.68638889,-112.59583333,-100.28583333,-80.23277778,-81.43916667,-84.79666667,-87.18666667,-170.71027778,-68.04472222,-112.41916667,-119.11888889,-66.56444444,-132.94611111,-70.82333333,-116.50666667,-104.49805556,-117.11166667,-70.22083333,-71.42777778,-111.72333333,-70.30861111,-103.05722222,-122.29333333,-121.15055556,-78.7875,-89.09722222,-89.46666667,-77.31972222,-108.45972222,-69.09972222,-109.06527778,-119.76805556,-79.97555556,-77.67194444,-104.52944444,-92.5,-81.75527778,-72.94972222,-106.08944444,-117.18972222,-98.46916667,-81.20222222,-119.84138889,-86.31722222,-120.6425,-75.50944444,-148.46527778,-77.8475,-121.23861111,-85.73638889,-160.52138889,-104.1925,-122.31166667,-81.235,-122.37555556,-93.38861111,-113.51027778,-78.89638889,-106.98027778,-93.82611111,-135.36111111,-121.92861111,-100.49638889,-66.00222222,-111.97777778,-74.20611111,-97.65222222,-121.59083333,-120.45805556,-117.86833333,-170.2225,-110.00555556,-64.94083333,-89.67805556,145.73,-98.49194444,-82.55444444,-64.70527778,-94.05944444,-90.37,-122.81277778,-64.97333333,-64.80194444,-114.29555556,-96.38444444,-74.10472222,-97.08583333,-76.10638889,-92.14083333,-107.90888889,-84.35083333,-83.80777778,-82.53333333,-82.4075,-74.81333333,-95.88805556,-88.77,-110.94111111,-85.58194444,-96.185,-114.48777778,-93.99111111,-95.40305556,-83.99416667,-91.19444444,-160.79916667,-80.70916667,-96.91861111,-146.24472222,-109.51138889,-83.27611111,-86.52527778,-65.49361111,-132.36972222,-111.11777778,-94.30777778,-103.75055556,-139.66027778,-120.54416667,-114.60611111],\"marker\":{\"color\":[71709.0,13874.0,326124.0,4832.0,6270.0,20232.0,9069.0,17390.0,77171.0,447.0,12493.0,18331.0,47996.0,127.0,3598.0,188743.0,2562.0,1720.0,7762.0,57683.0,392125.0,1.0,120.0,2713.0,4157.0,49519.0,6379751.0,67045.0,1956.0,356.0,1254024.0,141547.0,30668.0,150172.0,15451.0,438769.0,11594.0,156.0,2138.0,25821.0,2065.0,57744.0,691.0,206063.0,304.0,70189.0,40874.0,5851.0,2014.0,440.0,31628.0,31807.0,31290.0,1469199.0,344069.0,1891070.0,4270.0,7001.0,47118.0,4343.0,1.0,20477.0,5230.0,3536.0,53415.0,74941.0,279223.0,373051.0,1701582.0,191824.0,81116.0,38875.0,376.0,2855.0,99.0,2991.0,1.0,218.0,1427.0,71223.0,41252.0,396206.0,101453.0,3909.0,6410.0,678806.0,12354.0,3791277.0,538439.0,10700.0,3656.0,180.0,3752.0,7607.0,186826.0,15024.0,13655.0,159.0,54232.0,28631.0,9317.0,582545.0,380.0,18758.0,808.0,54973.0,1281903.0,96349.0,3610.0,1312029.0,1406.0,1513.0,5379062.0,5090122.0,7140.0,3588.0,3529.0,22080.0,38675.0,3830.0,4.0,201642.0,2133467.0,215.0,369.0,1020.0,4191.0,9174.0,3407.0,158054.0,41035.0,3585.0,92.0,15239.0,269868.0,468.0,13149.0,3368.0,108886.0,31059.0,1.0,15242.0,2120299.0,146953.0,84620.0,77010.0,161195.0,36702.0,82746.0,23790.0,2190246.0,4622.0,666.0,46802.0,902.0,94180.0,8821.0,64750.0,4533.0,5069.0,55.0,306502.0,13369.0,4386.0,77.0,48593.0,210.0,38578.0,41680.0,50292.0,10263.0,25130.0,276608.0,119509.0,167258.0,1071.0,27247.0,6791.0,7938.0,15155.0,30387.0,4541.0,38811.0,2762.0,14173.0,1.0,1133627.0,1.0,2430.0,228.0,165.0,993085.0,106863.0,58213.0,114.0,87545.0,18553.0,6192.0,74.0,1602.0,1974.0,988795.0,8622.0,2228917.0,118629.0,42145.0,2424.0,88680.0,3256.0,661020.0,1841.0,217.0,845.0,262.0,111735.0,11282.0,72586.0,337.0,100434.0,88571.0,473011.0,1671589.0,59.0,4174.0,1761.0,51080.0,1235.0,283262.0,2.0,21103.0,17938.0,2968.0,3662309.0,8060.0,3789485.0,78236.0,23904.0,2398.0,1123.0,10307.0,29299.0,445.0,89945.0,38903.0,1559501.0,210138.0,212531.0,157575.0,17339.0,123.0,90.0,16078.0,17280.0,1607.0,6795.0,13277.0,95881.0,204.0,315.0,13262.0,205.0,717987.0,157.0,14.0,3645512.0,1125.0,98591.0,1468513.0,1849.0,339760.0,73802.0,83300.0,24552.0,333.0,11359.0,94432.0,1941734.0,434131.0,2156.0,152.0,31.0,16.0,35124.0,46953.0,15374.0,45299.0,24886.0,11113.0,37640.0,114.0,135420.0,75788.0,2286902.0,170.0,768622.0,37990.0,4.0,11330.0,580.0,309328.0,31687.0,755601.0,4657.0,579955.0,1771.0,310498.0,22.0,344810.0,5627.0,430360.0,4478254.0,318698.0,2686.0,2897.0,5508.0,2241.0,22934.0,2115.0,7899.0,521852.0,79.0,1084407.0,400.0,156560.0,6542.0,16817.0,1799774.0,3560294.0,46415.0,2011.0,200326.0,4891.0,2591.0,585392.0,315.0,6417.0,225097.0,345.0,2181.0,2622.0,64019.0,6738.0,3992.0,7929.0,201083.0,1671.0,10267.0,471.0,228118.0,22537.0,168775.0,67113.0,10782.0,80215.0,807584.0,20095.0,5624.0,304320.0,2618.0,395.0,2946.0,336451.0,45409.0,146330.0,8759.0,19102.0,1007491.0,368.0,18794.0,1515716.0,623728.0,266574.0,87813.0,65915.0,39331.0,12090.0,4505.0,22416.0,13514.0,295688.0,11.0,161.0,3234382.0,234377.0,1910957.0,91892.0,29536.0,2211.0,4096.0,47737.0,15412.0,678468.0,11184.0,868921.0,2041425.0,224.0,2759.0,897385.0,5286.0,745980.0,5.0,152.0,4.0,11757.0,2767.0,5730.0,316175.0,2.0,3304.0,953201.0,42317.0,136851.0,36054.0,18821.0,4442.0,13153.0,3687.0,161973.0,920.0,558.0,61261.0,15966.0,1712605.0,30291.0,49260.0,219035.0,309.0,258576.0,58786.0,117.0,7331.0,5445.0,8134.0,187118.0,721.0,2.0,27376.0,1106.0,51.0,1559.0,7440.0,194576.0,426.0,2401.0,2598.0,110395.0,9347.0,2163.0,8515.0,17879.0],\"coloraxis\":\"coloraxis\",\"size\":[71709.0,13874.0,326124.0,4832.0,6270.0,20232.0,9069.0,17390.0,77171.0,447.0,12493.0,18331.0,47996.0,127.0,3598.0,188743.0,2562.0,1720.0,7762.0,57683.0,392125.0,1.0,120.0,2713.0,4157.0,49519.0,6379751.0,67045.0,1956.0,356.0,1254024.0,141547.0,30668.0,150172.0,15451.0,438769.0,11594.0,156.0,2138.0,25821.0,2065.0,57744.0,691.0,206063.0,304.0,70189.0,40874.0,5851.0,2014.0,440.0,31628.0,31807.0,31290.0,1469199.0,344069.0,1891070.0,4270.0,7001.0,47118.0,4343.0,1.0,20477.0,5230.0,3536.0,53415.0,74941.0,279223.0,373051.0,1701582.0,191824.0,81116.0,38875.0,376.0,2855.0,99.0,2991.0,1.0,218.0,1427.0,71223.0,41252.0,396206.0,101453.0,3909.0,6410.0,678806.0,12354.0,3791277.0,538439.0,10700.0,3656.0,180.0,3752.0,7607.0,186826.0,15024.0,13655.0,159.0,54232.0,28631.0,9317.0,582545.0,380.0,18758.0,808.0,54973.0,1281903.0,96349.0,3610.0,1312029.0,1406.0,1513.0,5379062.0,5090122.0,7140.0,3588.0,3529.0,22080.0,38675.0,3830.0,4.0,201642.0,2133467.0,215.0,369.0,1020.0,4191.0,9174.0,3407.0,158054.0,41035.0,3585.0,92.0,15239.0,269868.0,468.0,13149.0,3368.0,108886.0,31059.0,1.0,15242.0,2120299.0,146953.0,84620.0,77010.0,161195.0,36702.0,82746.0,23790.0,2190246.0,4622.0,666.0,46802.0,902.0,94180.0,8821.0,64750.0,4533.0,5069.0,55.0,306502.0,13369.0,4386.0,77.0,48593.0,210.0,38578.0,41680.0,50292.0,10263.0,25130.0,276608.0,119509.0,167258.0,1071.0,27247.0,6791.0,7938.0,15155.0,30387.0,4541.0,38811.0,2762.0,14173.0,1.0,1133627.0,1.0,2430.0,228.0,165.0,993085.0,106863.0,58213.0,114.0,87545.0,18553.0,6192.0,74.0,1602.0,1974.0,988795.0,8622.0,2228917.0,118629.0,42145.0,2424.0,88680.0,3256.0,661020.0,1841.0,217.0,845.0,262.0,111735.0,11282.0,72586.0,337.0,100434.0,88571.0,473011.0,1671589.0,59.0,4174.0,1761.0,51080.0,1235.0,283262.0,2.0,21103.0,17938.0,2968.0,3662309.0,8060.0,3789485.0,78236.0,23904.0,2398.0,1123.0,10307.0,29299.0,445.0,89945.0,38903.0,1559501.0,210138.0,212531.0,157575.0,17339.0,123.0,90.0,16078.0,17280.0,1607.0,6795.0,13277.0,95881.0,204.0,315.0,13262.0,205.0,717987.0,157.0,14.0,3645512.0,1125.0,98591.0,1468513.0,1849.0,339760.0,73802.0,83300.0,24552.0,333.0,11359.0,94432.0,1941734.0,434131.0,2156.0,152.0,31.0,16.0,35124.0,46953.0,15374.0,45299.0,24886.0,11113.0,37640.0,114.0,135420.0,75788.0,2286902.0,170.0,768622.0,37990.0,4.0,11330.0,580.0,309328.0,31687.0,755601.0,4657.0,579955.0,1771.0,310498.0,22.0,344810.0,5627.0,430360.0,4478254.0,318698.0,2686.0,2897.0,5508.0,2241.0,22934.0,2115.0,7899.0,521852.0,79.0,1084407.0,400.0,156560.0,6542.0,16817.0,1799774.0,3560294.0,46415.0,2011.0,200326.0,4891.0,2591.0,585392.0,315.0,6417.0,225097.0,345.0,2181.0,2622.0,64019.0,6738.0,3992.0,7929.0,201083.0,1671.0,10267.0,471.0,228118.0,22537.0,168775.0,67113.0,10782.0,80215.0,807584.0,20095.0,5624.0,304320.0,2618.0,395.0,2946.0,336451.0,45409.0,146330.0,8759.0,19102.0,1007491.0,368.0,18794.0,1515716.0,623728.0,266574.0,87813.0,65915.0,39331.0,12090.0,4505.0,22416.0,13514.0,295688.0,11.0,161.0,3234382.0,234377.0,1910957.0,91892.0,29536.0,2211.0,4096.0,47737.0,15412.0,678468.0,11184.0,868921.0,2041425.0,224.0,2759.0,897385.0,5286.0,745980.0,5.0,152.0,4.0,11757.0,2767.0,5730.0,316175.0,2.0,3304.0,953201.0,42317.0,136851.0,36054.0,18821.0,4442.0,13153.0,3687.0,161973.0,920.0,558.0,61261.0,15966.0,1712605.0,30291.0,49260.0,219035.0,309.0,258576.0,58786.0,117.0,7331.0,5445.0,8134.0,187118.0,721.0,2.0,27376.0,1106.0,51.0,1559.0,7440.0,194576.0,426.0,2401.0,2598.0,110395.0,9347.0,2163.0,8515.0,17879.0],\"sizemode\":\"area\",\"sizeref\":28354.448888888888},\"mode\":\"markers\",\"name\":\"\",\"showlegend\":false,\"subplot\":\"mapbox\",\"type\":\"scattermapbox\"}],                        {\"template\":{\"data\":{\"bar\":[{\"error_x\":{\"color\":\"#2a3f5f\"},\"error_y\":{\"color\":\"#2a3f5f\"},\"marker\":{\"line\":{\"color\":\"#E5ECF6\",\"width\":0.5},\"pattern\":{\"fillmode\":\"overlay\",\"size\":10,\"solidity\":0.2}},\"type\":\"bar\"}],\"barpolar\":[{\"marker\":{\"line\":{\"color\":\"#E5ECF6\",\"width\":0.5},\"pattern\":{\"fillmode\":\"overlay\",\"size\":10,\"solidity\":0.2}},\"type\":\"barpolar\"}],\"carpet\":[{\"aaxis\":{\"endlinecolor\":\"#2a3f5f\",\"gridcolor\":\"white\",\"linecolor\":\"white\",\"minorgridcolor\":\"white\",\"startlinecolor\":\"#2a3f5f\"},\"baxis\":{\"endlinecolor\":\"#2a3f5f\",\"gridcolor\":\"white\",\"linecolor\":\"white\",\"minorgridcolor\":\"white\",\"startlinecolor\":\"#2a3f5f\"},\"type\":\"carpet\"}],\"choropleth\":[{\"colorbar\":{\"outlinewidth\":0,\"ticks\":\"\"},\"type\":\"choropleth\"}],\"contour\":[{\"colorbar\":{\"outlinewidth\":0,\"ticks\":\"\"},\"colorscale\":[[0.0,\"#0d0887\"],[0.1111111111111111,\"#46039f\"],[0.2222222222222222,\"#7201a8\"],[0.3333333333333333,\"#9c179e\"],[0.4444444444444444,\"#bd3786\"],[0.5555555555555556,\"#d8576b\"],[0.6666666666666666,\"#ed7953\"],[0.7777777777777778,\"#fb9f3a\"],[0.8888888888888888,\"#fdca26\"],[1.0,\"#f0f921\"]],\"type\":\"contour\"}],\"contourcarpet\":[{\"colorbar\":{\"outlinewidth\":0,\"ticks\":\"\"},\"type\":\"contourcarpet\"}],\"heatmap\":[{\"colorbar\":{\"outlinewidth\":0,\"ticks\":\"\"},\"colorscale\":[[0.0,\"#0d0887\"],[0.1111111111111111,\"#46039f\"],[0.2222222222222222,\"#7201a8\"],[0.3333333333333333,\"#9c179e\"],[0.4444444444444444,\"#bd3786\"],[0.5555555555555556,\"#d8576b\"],[0.6666666666666666,\"#ed7953\"],[0.7777777777777778,\"#fb9f3a\"],[0.8888888888888888,\"#fdca26\"],[1.0,\"#f0f921\"]],\"type\":\"heatmap\"}],\"heatmapgl\":[{\"colorbar\":{\"outlinewidth\":0,\"ticks\":\"\"},\"colorscale\":[[0.0,\"#0d0887\"],[0.1111111111111111,\"#46039f\"],[0.2222222222222222,\"#7201a8\"],[0.3333333333333333,\"#9c179e\"],[0.4444444444444444,\"#bd3786\"],[0.5555555555555556,\"#d8576b\"],[0.6666666666666666,\"#ed7953\"],[0.7777777777777778,\"#fb9f3a\"],[0.8888888888888888,\"#fdca26\"],[1.0,\"#f0f921\"]],\"type\":\"heatmapgl\"}],\"histogram\":[{\"marker\":{\"pattern\":{\"fillmode\":\"overlay\",\"size\":10,\"solidity\":0.2}},\"type\":\"histogram\"}],\"histogram2d\":[{\"colorbar\":{\"outlinewidth\":0,\"ticks\":\"\"},\"colorscale\":[[0.0,\"#0d0887\"],[0.1111111111111111,\"#46039f\"],[0.2222222222222222,\"#7201a8\"],[0.3333333333333333,\"#9c179e\"],[0.4444444444444444,\"#bd3786\"],[0.5555555555555556,\"#d8576b\"],[0.6666666666666666,\"#ed7953\"],[0.7777777777777778,\"#fb9f3a\"],[0.8888888888888888,\"#fdca26\"],[1.0,\"#f0f921\"]],\"type\":\"histogram2d\"}],\"histogram2dcontour\":[{\"colorbar\":{\"outlinewidth\":0,\"ticks\":\"\"},\"colorscale\":[[0.0,\"#0d0887\"],[0.1111111111111111,\"#46039f\"],[0.2222222222222222,\"#7201a8\"],[0.3333333333333333,\"#9c179e\"],[0.4444444444444444,\"#bd3786\"],[0.5555555555555556,\"#d8576b\"],[0.6666666666666666,\"#ed7953\"],[0.7777777777777778,\"#fb9f3a\"],[0.8888888888888888,\"#fdca26\"],[1.0,\"#f0f921\"]],\"type\":\"histogram2dcontour\"}],\"mesh3d\":[{\"colorbar\":{\"outlinewidth\":0,\"ticks\":\"\"},\"type\":\"mesh3d\"}],\"parcoords\":[{\"line\":{\"colorbar\":{\"outlinewidth\":0,\"ticks\":\"\"}},\"type\":\"parcoords\"}],\"pie\":[{\"automargin\":true,\"type\":\"pie\"}],\"scatter\":[{\"marker\":{\"colorbar\":{\"outlinewidth\":0,\"ticks\":\"\"}},\"type\":\"scatter\"}],\"scatter3d\":[{\"line\":{\"colorbar\":{\"outlinewidth\":0,\"ticks\":\"\"}},\"marker\":{\"colorbar\":{\"outlinewidth\":0,\"ticks\":\"\"}},\"type\":\"scatter3d\"}],\"scattercarpet\":[{\"marker\":{\"colorbar\":{\"outlinewidth\":0,\"ticks\":\"\"}},\"type\":\"scattercarpet\"}],\"scattergeo\":[{\"marker\":{\"colorbar\":{\"outlinewidth\":0,\"ticks\":\"\"}},\"type\":\"scattergeo\"}],\"scattergl\":[{\"marker\":{\"colorbar\":{\"outlinewidth\":0,\"ticks\":\"\"}},\"type\":\"scattergl\"}],\"scattermapbox\":[{\"marker\":{\"colorbar\":{\"outlinewidth\":0,\"ticks\":\"\"}},\"type\":\"scattermapbox\"}],\"scatterpolar\":[{\"marker\":{\"colorbar\":{\"outlinewidth\":0,\"ticks\":\"\"}},\"type\":\"scatterpolar\"}],\"scatterpolargl\":[{\"marker\":{\"colorbar\":{\"outlinewidth\":0,\"ticks\":\"\"}},\"type\":\"scatterpolargl\"}],\"scatterternary\":[{\"marker\":{\"colorbar\":{\"outlinewidth\":0,\"ticks\":\"\"}},\"type\":\"scatterternary\"}],\"surface\":[{\"colorbar\":{\"outlinewidth\":0,\"ticks\":\"\"},\"colorscale\":[[0.0,\"#0d0887\"],[0.1111111111111111,\"#46039f\"],[0.2222222222222222,\"#7201a8\"],[0.3333333333333333,\"#9c179e\"],[0.4444444444444444,\"#bd3786\"],[0.5555555555555556,\"#d8576b\"],[0.6666666666666666,\"#ed7953\"],[0.7777777777777778,\"#fb9f3a\"],[0.8888888888888888,\"#fdca26\"],[1.0,\"#f0f921\"]],\"type\":\"surface\"}],\"table\":[{\"cells\":{\"fill\":{\"color\":\"#EBF0F8\"},\"line\":{\"color\":\"white\"}},\"header\":{\"fill\":{\"color\":\"#C8D4E3\"},\"line\":{\"color\":\"white\"}},\"type\":\"table\"}]},\"layout\":{\"annotationdefaults\":{\"arrowcolor\":\"#2a3f5f\",\"arrowhead\":0,\"arrowwidth\":1},\"autotypenumbers\":\"strict\",\"coloraxis\":{\"colorbar\":{\"outlinewidth\":0,\"ticks\":\"\"}},\"colorscale\":{\"diverging\":[[0,\"#8e0152\"],[0.1,\"#c51b7d\"],[0.2,\"#de77ae\"],[0.3,\"#f1b6da\"],[0.4,\"#fde0ef\"],[0.5,\"#f7f7f7\"],[0.6,\"#e6f5d0\"],[0.7,\"#b8e186\"],[0.8,\"#7fbc41\"],[0.9,\"#4d9221\"],[1,\"#276419\"]],\"sequential\":[[0.0,\"#0d0887\"],[0.1111111111111111,\"#46039f\"],[0.2222222222222222,\"#7201a8\"],[0.3333333333333333,\"#9c179e\"],[0.4444444444444444,\"#bd3786\"],[0.5555555555555556,\"#d8576b\"],[0.6666666666666666,\"#ed7953\"],[0.7777777777777778,\"#fb9f3a\"],[0.8888888888888888,\"#fdca26\"],[1.0,\"#f0f921\"]],\"sequentialminus\":[[0.0,\"#0d0887\"],[0.1111111111111111,\"#46039f\"],[0.2222222222222222,\"#7201a8\"],[0.3333333333333333,\"#9c179e\"],[0.4444444444444444,\"#bd3786\"],[0.5555555555555556,\"#d8576b\"],[0.6666666666666666,\"#ed7953\"],[0.7777777777777778,\"#fb9f3a\"],[0.8888888888888888,\"#fdca26\"],[1.0,\"#f0f921\"]]},\"colorway\":[\"#636efa\",\"#EF553B\",\"#00cc96\",\"#ab63fa\",\"#FFA15A\",\"#19d3f3\",\"#FF6692\",\"#B6E880\",\"#FF97FF\",\"#FECB52\"],\"font\":{\"color\":\"#2a3f5f\"},\"geo\":{\"bgcolor\":\"white\",\"lakecolor\":\"white\",\"landcolor\":\"#E5ECF6\",\"showlakes\":true,\"showland\":true,\"subunitcolor\":\"white\"},\"hoverlabel\":{\"align\":\"left\"},\"hovermode\":\"closest\",\"mapbox\":{\"style\":\"light\"},\"paper_bgcolor\":\"white\",\"plot_bgcolor\":\"#E5ECF6\",\"polar\":{\"angularaxis\":{\"gridcolor\":\"white\",\"linecolor\":\"white\",\"ticks\":\"\"},\"bgcolor\":\"#E5ECF6\",\"radialaxis\":{\"gridcolor\":\"white\",\"linecolor\":\"white\",\"ticks\":\"\"}},\"scene\":{\"xaxis\":{\"backgroundcolor\":\"#E5ECF6\",\"gridcolor\":\"white\",\"gridwidth\":2,\"linecolor\":\"white\",\"showbackground\":true,\"ticks\":\"\",\"zerolinecolor\":\"white\"},\"yaxis\":{\"backgroundcolor\":\"#E5ECF6\",\"gridcolor\":\"white\",\"gridwidth\":2,\"linecolor\":\"white\",\"showbackground\":true,\"ticks\":\"\",\"zerolinecolor\":\"white\"},\"zaxis\":{\"backgroundcolor\":\"#E5ECF6\",\"gridcolor\":\"white\",\"gridwidth\":2,\"linecolor\":\"white\",\"showbackground\":true,\"ticks\":\"\",\"zerolinecolor\":\"white\"}},\"shapedefaults\":{\"line\":{\"color\":\"#2a3f5f\"}},\"ternary\":{\"aaxis\":{\"gridcolor\":\"white\",\"linecolor\":\"white\",\"ticks\":\"\"},\"baxis\":{\"gridcolor\":\"white\",\"linecolor\":\"white\",\"ticks\":\"\"},\"bgcolor\":\"#E5ECF6\",\"caxis\":{\"gridcolor\":\"white\",\"linecolor\":\"white\",\"ticks\":\"\"}},\"title\":{\"x\":0.05},\"xaxis\":{\"automargin\":true,\"gridcolor\":\"white\",\"linecolor\":\"white\",\"ticks\":\"\",\"title\":{\"standoff\":15},\"zerolinecolor\":\"white\",\"zerolinewidth\":2},\"yaxis\":{\"automargin\":true,\"gridcolor\":\"white\",\"linecolor\":\"white\",\"ticks\":\"\",\"title\":{\"standoff\":15},\"zerolinecolor\":\"white\",\"zerolinewidth\":2}}},\"mapbox\":{\"domain\":{\"x\":[0.0,1.0],\"y\":[0.0,1.0]},\"center\":{\"lat\":39.10049876557773,\"lon\":-97.44893518526672},\"accesstoken\":\"pk.eyJ1IjoiZWdvcjIyODI4MiIsImEiOiJja281eGVhdHcxeG1sMm9tdng2aHk4YzByIn0.CX0VdWcrzcxNS3EQX8JrDw\",\"zoom\":2},\"coloraxis\":{\"colorbar\":{\"title\":{\"text\":\"Passengers\"}},\"colorscale\":[[0.0,\"#0d0887\"],[0.1111111111111111,\"#46039f\"],[0.2222222222222222,\"#7201a8\"],[0.3333333333333333,\"#9c179e\"],[0.4444444444444444,\"#bd3786\"],[0.5555555555555556,\"#d8576b\"],[0.6666666666666666,\"#ed7953\"],[0.7777777777777778,\"#fb9f3a\"],[0.8888888888888888,\"#fdca26\"],[1.0,\"#f0f921\"]]},\"legend\":{\"tracegroupgap\":0,\"itemsizing\":\"constant\"},\"margin\":{\"t\":60}},                        {\"responsive\": true}                    ).then(function(){\n",
       "                            \n",
       "var gd = document.getElementById('d190cbba-3895-4329-9298-7fce5e5eace2');\n",
       "var x = new MutationObserver(function (mutations, observer) {{\n",
       "        var display = window.getComputedStyle(gd).display;\n",
       "        if (!display || display === 'none') {{\n",
       "            console.log([gd, 'removed!']);\n",
       "            Plotly.purge(gd);\n",
       "            observer.disconnect();\n",
       "        }}\n",
       "}});\n",
       "\n",
       "// Listen for the removal of the full notebook cells\n",
       "var notebookContainer = gd.closest('#notebook-container');\n",
       "if (notebookContainer) {{\n",
       "    x.observe(notebookContainer, {childList: true});\n",
       "}}\n",
       "\n",
       "// Listen for the clearing of the current output cell\n",
       "var outputEl = gd.closest('.output');\n",
       "if (outputEl) {{\n",
       "    x.observe(outputEl, {childList: true});\n",
       "}}\n",
       "\n",
       "                        })                };                });            </script>        </div>"
      ]
     },
     "metadata": {},
     "output_type": "display_data"
    }
   ],
   "source": [
    "# map_pic/3.png\n",
    "px.set_mapbox_access_token(MAPBOX_ACCESS_TOKEN)\n",
    "fig = px.scatter_mapbox(coord_with_passengers,\n",
    "                        lat=coord_with_passengers.LATITUDE,\n",
    "                        lon=coord_with_passengers.LONGITUDE,\n",
    "                        color=\"Passengers\",\n",
    "                        size=\"Passengers\",\n",
    "                        color_continuous_scale=px.colors.sequential.Plasma, size_max=15, zoom=2)\n",
    "fig.show()"
   ]
  },
  {
   "cell_type": "markdown",
   "id": "105bfc32",
   "metadata": {},
   "source": [
    "Let's divide airports into 3 classes depending on the flow that passes through the airport."
   ]
  },
  {
   "cell_type": "code",
   "execution_count": 89,
   "id": "dbda9610",
   "metadata": {},
   "outputs": [],
   "source": [
    "perc33 = coord_with_passengers[['Passengers']].quantile(.33)[0]\n",
    "perc66 = coord_with_passengers[['Passengers']].quantile(.66)[0]\n",
    "perc75 = coord_with_passengers[['Passengers']].quantile(.75)[0]"
   ]
  },
  {
   "cell_type": "code",
   "execution_count": 90,
   "id": "122f31a5",
   "metadata": {},
   "outputs": [],
   "source": [
    "coord_with_passengers['backet'] = [0 if x <= perc33 \\\n",
    "                              else 1 if (x > perc33) and (x <= perc66) \\\n",
    "                              else 2 for x in coord_with_passengers.Passengers]"
   ]
  },
  {
   "cell_type": "code",
   "execution_count": 91,
   "id": "d3d16b1b",
   "metadata": {},
   "outputs": [
    {
     "data": {
      "text/html": [
       "<div>\n",
       "<style scoped>\n",
       "    .dataframe tbody tr th:only-of-type {\n",
       "        vertical-align: middle;\n",
       "    }\n",
       "\n",
       "    .dataframe tbody tr th {\n",
       "        vertical-align: top;\n",
       "    }\n",
       "\n",
       "    .dataframe thead th {\n",
       "        text-align: right;\n",
       "    }\n",
       "</style>\n",
       "<table border=\"1\" class=\"dataframe\">\n",
       "  <thead>\n",
       "    <tr style=\"text-align: right;\">\n",
       "      <th></th>\n",
       "      <th>AIRPORT</th>\n",
       "      <th>LATITUDE</th>\n",
       "      <th>LONGITUDE</th>\n",
       "      <th>AIRPORT_IS_LATEST</th>\n",
       "      <th>Passengers</th>\n",
       "      <th>backet</th>\n",
       "    </tr>\n",
       "  </thead>\n",
       "  <tbody>\n",
       "    <tr>\n",
       "      <th>0</th>\n",
       "      <td>ABE</td>\n",
       "      <td>40.652500</td>\n",
       "      <td>-75.440278</td>\n",
       "      <td>1</td>\n",
       "      <td>71709.0</td>\n",
       "      <td>2</td>\n",
       "    </tr>\n",
       "    <tr>\n",
       "      <th>1</th>\n",
       "      <td>ABI</td>\n",
       "      <td>32.411389</td>\n",
       "      <td>-99.681944</td>\n",
       "      <td>1</td>\n",
       "      <td>13874.0</td>\n",
       "      <td>1</td>\n",
       "    </tr>\n",
       "    <tr>\n",
       "      <th>2</th>\n",
       "      <td>ABQ</td>\n",
       "      <td>35.038889</td>\n",
       "      <td>-106.608333</td>\n",
       "      <td>1</td>\n",
       "      <td>326124.0</td>\n",
       "      <td>2</td>\n",
       "    </tr>\n",
       "    <tr>\n",
       "      <th>3</th>\n",
       "      <td>ABR</td>\n",
       "      <td>45.446667</td>\n",
       "      <td>-98.422500</td>\n",
       "      <td>1</td>\n",
       "      <td>4832.0</td>\n",
       "      <td>1</td>\n",
       "    </tr>\n",
       "    <tr>\n",
       "      <th>4</th>\n",
       "      <td>ABY</td>\n",
       "      <td>31.535556</td>\n",
       "      <td>-84.194444</td>\n",
       "      <td>1</td>\n",
       "      <td>6270.0</td>\n",
       "      <td>1</td>\n",
       "    </tr>\n",
       "  </tbody>\n",
       "</table>\n",
       "</div>"
      ],
      "text/plain": [
       "  AIRPORT   LATITUDE   LONGITUDE  AIRPORT_IS_LATEST  Passengers  backet\n",
       "0     ABE  40.652500  -75.440278                  1     71709.0       2\n",
       "1     ABI  32.411389  -99.681944                  1     13874.0       1\n",
       "2     ABQ  35.038889 -106.608333                  1    326124.0       2\n",
       "3     ABR  45.446667  -98.422500                  1      4832.0       1\n",
       "4     ABY  31.535556  -84.194444                  1      6270.0       1"
      ]
     },
     "execution_count": 91,
     "metadata": {},
     "output_type": "execute_result"
    }
   ],
   "source": [
    "coord_with_passengers.head()"
   ]
  },
  {
   "cell_type": "code",
   "execution_count": 92,
   "id": "6c827683",
   "metadata": {},
   "outputs": [
    {
     "data": {
      "application/vnd.plotly.v1+json": {
       "config": {
        "plotlyServerURL": "https://plot.ly"
       },
       "data": [
        {
         "hovertemplate": "LATITUDE=%{lat}<br>LONGITUDE=%{lon}<br>backet=%{marker.color}<extra></extra>",
         "lat": [
          40.6525,
          32.41138889,
          35.03888889,
          45.44666667,
          31.53555556,
          41.25305556,
          31.61222222,
          40.97777778,
          39.4575,
          51.88361111,
          57.74972222,
          31.3275,
          33.37,
          42.05333333,
          58.67638889,
          42.74916667,
          42.55833333,
          37.435,
          46.0925,
          35.21944444,
          61.17416667,
          61.58138889,
          40.29638889,
          45.07805556,
          43.99194444,
          39.22194444,
          33.63666667,
          44.25805556,
          44.91388889,
          44.32055556,
          30.19444444,
          35.43611111,
          41.33833333,
          33.30777778,
          42.23444444,
          41.93916667,
          60.77861111,
          41.80305556,
          41.87416667,
          35.43388889,
          42.20833333,
          44.8075,
          44.44972222,
          33.56388889,
          37.37305556,
          45.80777778,
          46.77277778,
          47.51083333,
          36.53194444,
          37.78722222,
          48.79277778,
          38.54527778,
          40.47722222,
          36.12444444,
          43.56444444,
          42.36305556,
          29.95083333,
          31.25916667,
          18.49472222,
          46.40416667,
          40.78305556,
          25.90611111,
          71.28472222,
          45.95472222,
          30.53305556,
          44.47194444,
          42.94055556,
          34.20055556,
          39.17583333,
          45.77722222,
          33.93888889,
          40.915,
          55.20583333,
          37.70083333,
          42.8375,
          60.49166667,
          41.78027778,
          37.30305556,
          37.22527778,
          35.03527778,
          38.13972222,
          32.89861111,
          41.88472222,
          46.25083333,
          39.29777778,
          41.40944444,
          30.58805556,
          35.21361111,
          39.99694444,
          40.03861111,
          47.16777778,
          32.3375,
          38.7575,
          44.52027778,
          38.80583333,
          38.81777778,
          42.90583333,
          18.31305556,
          27.77222222,
          38.37611111,
          32.51638889,
          39.04888889,
          34.42666667,
          44.7775,
          41.15555556,
          29.18,
          32.84583333,
          39.90222222,
          42.40194444,
          38.85138889,
          37.76305556,
          39.83444444,
          39.86166667,
          32.89722222,
          31.32111111,
          46.80083333,
          59.04472222,
          46.84194444,
          37.15166667,
          29.37416667,
          30.4,
          41.53416667,
          42.2125,
          41.17833333,
          53.89888889,
          48.11666667,
          40.72694444,
          47.39888889,
          44.86583333,
          30.35833333,
          39.64277778,
          40.825,
          33.22111111,
          42.15972222,
          31.80722222,
          60.57333333,
          42.08305556,
          45.72277778,
          44.12444444,
          38.04083333,
          41.67666667,
          35.07277778,
          40.6925,
          24.55611111,
          64.81527778,
          46.92055556,
          36.77666667,
          34.99111111,
          48.31055556,
          35.14027778,
          26.07166667,
          34.18527778,
          40.45194444,
          42.96555556,
          42.55111111,
          43.58194444,
          35.33527778,
          40.97833333,
          44.34888889,
          37.9275,
          47.13861111,
          47.61916667,
          47.94722222,
          32.38388889,
          48.2125,
          39.1225,
          33.48277778,
          29.69,
          30.40722222,
          44.48472222,
          40.9675,
          31.06722222,
          42.88083333,
          36.10138889,
          34.89555556,
          58.42527778,
          47.48222222,
          33.44833333,
          38.53444444,
          13.48388889,
          40.48111111,
          39.70861111,
          32.22444444,
          47.38666667,
          46.60666667,
          58.09611111,
          21.31777778,
          20.79555556,
          32.6875,
          59.645,
          34.47805556,
          29.64583333,
          41.06694444,
          26.22722222,
          36.26138889,
          34.63722222,
          38.36861111,
          41.26361111,
          48.54305556,
          41.66944444,
          38.84222222,
          38.9475,
          43.1075,
          29.98444444,
          37.65,
          43.51361111,
          39.67861111,
          34.27111111,
          45.81833333,
          39.71722222,
          48.56555556,
          32.83416667,
          41.24166667,
          40.09333333,
          40.79611111,
          42.49138889,
          19.72027778,
          46.5275,
          43.60722222,
          32.31111111,
          30.49416667,
          40.64,
          20.96305556,
          37.15305556,
          46.92972222,
          58.35472222,
          40.31555556,
          19.73888889,
          62.06083333,
          55.35416667,
          42.77861111,
          41.31194444,
          36.08,
          34.56777778,
          33.9425,
          33.66361111,
          40.27305556,
          41.12611111,
          37.04388889,
          30.12611111,
          39.81388889,
          43.62611111,
          38.03666667,
          30.205,
          40.77722222,
          33.81805556,
          21.97611111,
          34.72944444,
          40.85083333,
          40.12222222,
          20.78555556,
          27.54416667,
          43.87916667,
          37.85833333,
          46.37444444,
          37.32527778,
          31.9425,
          18.25555556,
          44.2725,
          43.53305556,
          37.28472222,
          39.2975,
          40.20638889,
          32.69277778,
          28.42944444,
          43.15777778,
          40.19305556,
          41.78583333,
          32.3325,
          35.0425,
          26.17583333,
          42.375,
          32.30055556,
          39.64361111,
          39.14111111,
          42.93277778,
          25.79527778,
          42.94694444,
          43.16777778,
          21.15277778,
          35.6,
          44.22277778,
          28.10277778,
          41.44833333,
          32.51055556,
          30.69138889,
          48.25777778,
          46.34916667,
          36.58694444,
          34.74527778,
          43.14,
          46.91638889,
          44.88194444,
          44.93611111,
          29.99333333,
          38.50972222,
          20.00138889,
          41.39333333,
          37.755,
          33.67972222,
          34.82916667,
          37.72111111,
          41.195,
          20.89861111,
          44.68222222,
          35.39305556,
          48.09444444,
          41.30305556,
          64.51055556,
          34.05611111,
          41.97694444,
          36.89472222,
          42.26722222,
          43.41694444,
          66.88472222,
          37.73888889,
          47.90722222,
          37.06027778,
          44.65083333,
          26.68305556,
          45.69472222,
          45.58861111,
          36.92611111,
          26.91861111,
          35.63555556,
          37.13194444,
          39.87194444,
          33.43416667,
          40.66416667,
          31.46722222,
          27.90861111,
          42.90972222,
          44.38277778,
          40.49138889,
          39.345,
          45.57083333,
          30.47333333,
          -14.33,
          46.68888889,
          34.65472222,
          46.26472222,
          18.00888889,
          56.80138889,
          43.07805556,
          33.82972222,
          38.29,
          46.74166667,
          42.07222222,
          41.72222222,
          40.21916667,
          43.64555556,
          44.04527778,
          40.50888889,
          44.25416667,
          35.87777778,
          42.19527778,
          45.63083333,
          37.50527778,
          43.06416667,
          44.06027778,
          41.59416667,
          39.49916667,
          37.32555556,
          43.11916667,
          33.3,
          43.90833333,
          26.53611111,
          43.52972222,
          35.61722222,
          32.73361111,
          29.53388889,
          32.1275,
          34.42611111,
          41.70833333,
          35.23722222,
          38.34027778,
          70.19472222,
          40.85,
          37.89444444,
          38.17416667,
          55.31361111,
          47.70694444,
          47.45,
          28.77722222,
          37.61888889,
          37.24555556,
          37.03638889,
          38.26388889,
          44.76916667,
          32.44638889,
          57.04694444,
          37.36305556,
          31.35777778,
          18.43944444,
          40.78833333,
          44.38527778,
          38.79055556,
          38.69555556,
          34.9,
          33.67555556,
          57.16638889,
          34.26555556,
          18.33861111,
          39.84416667,
          15.12027778,
          33.98888889,
          27.39555556,
          17.74916667,
          45.54611111,
          38.74861111,
          38.50972222,
          18.33722222,
          17.70138889,
          43.50388889,
          42.40138889,
          41.50416667,
          36.16138889,
          43.11111111,
          37.74166667,
          37.95388889,
          30.39666667,
          41.58694444,
          27.97555556,
          36.47527778,
          40.27666667,
          36.19833333,
          34.26888889,
          32.11611111,
          44.74166667,
          48.06555556,
          42.48194444,
          33.45361111,
          32.35361111,
          35.81111111,
          39.94305556,
          63.88861111,
          35.38777778,
          28.85416667,
          61.13416667,
          40.43611111,
          30.78138889,
          30.48333333,
          18.13472222,
          56.48444444,
          44.68833333,
          36.28166667,
          48.25972222,
          59.50333333,
          46.56805556,
          32.65666667
         ],
         "legendgroup": "",
         "lon": [
          -75.44027778,
          -99.68194444,
          -106.60833333,
          -98.4225,
          -84.19444444,
          -70.06,
          -97.23027778,
          -124.10833333,
          -74.57722222,
          -176.6425,
          -152.49388889,
          -92.54861111,
          -81.96444444,
          -102.80361111,
          -156.64861111,
          -73.80194444,
          -92.40111111,
          -105.86777778,
          -118.28416667,
          -101.70583333,
          -149.99805556,
          -159.54527778,
          -78.32,
          -83.56027778,
          -76.01944444,
          -106.86833333,
          -84.42777778,
          -88.51916667,
          -97.15472222,
          -69.79722222,
          -97.67,
          -82.54194444,
          -75.72333333,
          -111.65555556,
          -85.55166667,
          -72.68444444,
          -161.83722222,
          -78.64,
          -103.59555556,
          -119.05777778,
          -75.97972222,
          -68.82805556,
          -68.36138889,
          -86.75222222,
          -118.36361111,
          -108.54361111,
          -100.74583333,
          -94.93472222,
          -93.20055556,
          -81.12416667,
          -122.5375,
          -89.83527778,
          -88.91583333,
          -86.67805556,
          -116.22277778,
          -71.00638889,
          -94.02055556,
          -81.46638889,
          -67.12944444,
          -94.13361111,
          -91.12555556,
          -97.42611111,
          -156.76861111,
          -112.4975,
          -91.15,
          -73.15333333,
          -78.73055556,
          -118.35861111,
          -76.66888889,
          -111.15027778,
          -81.11944444,
          -81.44361111,
          -162.72611111,
          -113.09888889,
          -103.09527778,
          -145.4775,
          -124.23666667,
          -108.62805556,
          -89.57083333,
          -85.20361111,
          -78.45222222,
          -80.04055556,
          -91.71083333,
          -84.4725,
          -80.2275,
          -81.85472222,
          -96.3625,
          -80.94916667,
          -82.89222222,
          -88.27666667,
          -88.48638889,
          -104.26333333,
          -109.75333333,
          -109.02388889,
          -104.70083333,
          -92.21777778,
          -106.46361111,
          -65.30388889,
          -97.5025,
          -81.59277778,
          -84.93888889,
          -84.66777778,
          -103.0775,
          -89.66666667,
          -104.81055556,
          -81.05805556,
          -96.85083333,
          -84.21944444,
          -90.70944444,
          -77.03777778,
          -99.96555556,
          -88.86555556,
          -104.67305556,
          -97.03777778,
          -85.44944444,
          -102.80333333,
          -158.50555556,
          -92.19333333,
          -107.75388889,
          -100.92722222,
          -86.47138889,
          -93.65777778,
          -83.35333333,
          -78.89861111,
          -166.545,
          -98.91,
          -99.00666667,
          -120.20694444,
          -91.48416667,
          -85.79555556,
          -106.91583333,
          -115.79138889,
          -92.81166667,
          -76.89166667,
          -106.37638889,
          -151.24472222,
          -80.17388889,
          -87.09361111,
          -123.21194444,
          -87.52861111,
          -70.95777778,
          -77.04305556,
          -74.16861111,
          -81.76,
          -147.85666667,
          -96.81583333,
          -119.71888889,
          -78.88027778,
          -114.25611111,
          -111.66916667,
          -80.14972222,
          -79.72388889,
          -105.01138889,
          -83.74472222,
          -94.19194444,
          -96.74194444,
          -94.36777778,
          -85.19527778,
          -105.53944444,
          -100.72444444,
          -104.80722222,
          -117.53527778,
          -97.17388889,
          -94.71138889,
          -106.61472222,
          -108.52666667,
          -90.98555556,
          -82.27166667,
          -89.07,
          -88.12972222,
          -98.30972222,
          -97.82888889,
          -85.52277778,
          -79.94111111,
          -82.21888889,
          -135.7075,
          -111.37027778,
          -88.59138889,
          -106.93166667,
          144.79722222,
          -107.21777778,
          -77.72638889,
          -80.6975,
          -92.83888889,
          -111.98333333,
          -135.40888889,
          -157.92027778,
          -156.01444444,
          -103.21722222,
          -151.48583333,
          -93.09611111,
          -95.27722222,
          -73.7075,
          -97.65527778,
          -93.15472222,
          -86.775,
          -82.56027778,
          -72.88777778,
          -109.76222222,
          -70.28027778,
          -99.27305556,
          -77.46,
          -78.94583333,
          -95.34138889,
          -97.43305556,
          -112.07083333,
          -75.60666667,
          -77.90277778,
          -88.11444444,
          -86.29472222,
          -93.40222222,
          -115.57888889,
          -76.92194444,
          -92.545,
          -73.10055556,
          -76.45861111,
          -155.04833333,
          -90.13138889,
          -110.73777778,
          -90.07583333,
          -81.68777778,
          -73.77861111,
          -156.67305556,
          -94.49888889,
          -98.67805556,
          -134.57833333,
          -78.83472222,
          -156.04555556,
          -163.30194444,
          -131.71111111,
          -84.58611111,
          -105.675,
          -115.15222222,
          -98.41666667,
          -118.40805556,
          -101.82055556,
          -79.41027778,
          -100.68361111,
          -100.96,
          -93.22333333,
          -82.92777778,
          -72.30416667,
          -84.60861111,
          -91.98777778,
          -73.8725,
          -118.15194444,
          -159.33888889,
          -92.22472222,
          -96.75916667,
          -76.29444444,
          -156.95138889,
          -99.46166667,
          -91.25666667,
          -80.39944444,
          -117.01527778,
          -79.20111111,
          -102.20194444,
          -67.14833333,
          -86.24694444,
          -84.07972222,
          -120.51388889,
          -94.71388889,
          -100.59194444,
          -83.64916667,
          -81.30888889,
          -93.33111111,
          -76.7625,
          -87.7525,
          -88.75194444,
          -89.97666667,
          -98.23861111,
          -122.87333333,
          -86.39388889,
          -79.9175,
          -96.67194444,
          -71.43583333,
          -80.29,
          -87.89694444,
          -86.23555556,
          -157.09638889,
          -88.91555556,
          -93.91944444,
          -80.64527778,
          -90.5075,
          -92.03611111,
          -88.24277778,
          -101.27805556,
          -87.39638889,
          -121.84305556,
          -87.61027778,
          -89.3375,
          -114.09055556,
          -93.22166667,
          -74.845,
          -90.25916667,
          -107.89416667,
          -155.66805556,
          -70.61388889,
          -89.01111111,
          -78.92833333,
          -77.61222222,
          -122.22111111,
          -112.01222222,
          -156.43055556,
          -75.46333333,
          -97.60083333,
          -105.575,
          -95.89416667,
          -165.44472222,
          -117.60111111,
          -87.90805556,
          -76.20111111,
          -71.87555556,
          -124.24694444,
          -162.59805556,
          -87.16694444,
          -122.28222222,
          -88.77305556,
          -73.46805556,
          -80.09555556,
          -118.84305556,
          -122.59694444,
          -111.44833333,
          -81.99083333,
          -77.38416667,
          -76.49305556,
          -75.24055556,
          -112.01166667,
          -89.69333333,
          -89.33694444,
          -82.68638889,
          -112.59583333,
          -100.28583333,
          -80.23277778,
          -81.43916667,
          -84.79666667,
          -87.18666667,
          -170.71027778,
          -68.04472222,
          -112.41916667,
          -119.11888889,
          -66.56444444,
          -132.94611111,
          -70.82333333,
          -116.50666667,
          -104.49805556,
          -117.11166667,
          -70.22083333,
          -71.42777778,
          -111.72333333,
          -70.30861111,
          -103.05722222,
          -122.29333333,
          -121.15055556,
          -78.7875,
          -89.09722222,
          -89.46666667,
          -77.31972222,
          -108.45972222,
          -69.09972222,
          -109.06527778,
          -119.76805556,
          -79.97555556,
          -77.67194444,
          -104.52944444,
          -92.5,
          -81.75527778,
          -72.94972222,
          -106.08944444,
          -117.18972222,
          -98.46916667,
          -81.20222222,
          -119.84138889,
          -86.31722222,
          -120.6425,
          -75.50944444,
          -148.46527778,
          -77.8475,
          -121.23861111,
          -85.73638889,
          -160.52138889,
          -104.1925,
          -122.31166667,
          -81.235,
          -122.37555556,
          -93.38861111,
          -113.51027778,
          -78.89638889,
          -106.98027778,
          -93.82611111,
          -135.36111111,
          -121.92861111,
          -100.49638889,
          -66.00222222,
          -111.97777778,
          -74.20611111,
          -97.65222222,
          -121.59083333,
          -120.45805556,
          -117.86833333,
          -170.2225,
          -110.00555556,
          -64.94083333,
          -89.67805556,
          145.73,
          -98.49194444,
          -82.55444444,
          -64.70527778,
          -94.05944444,
          -90.37,
          -122.81277778,
          -64.97333333,
          -64.80194444,
          -114.29555556,
          -96.38444444,
          -74.10472222,
          -97.08583333,
          -76.10638889,
          -92.14083333,
          -107.90888889,
          -84.35083333,
          -83.80777778,
          -82.53333333,
          -82.4075,
          -74.81333333,
          -95.88805556,
          -88.77,
          -110.94111111,
          -85.58194444,
          -96.185,
          -114.48777778,
          -93.99111111,
          -95.40305556,
          -83.99416667,
          -91.19444444,
          -160.79916667,
          -80.70916667,
          -96.91861111,
          -146.24472222,
          -109.51138889,
          -83.27611111,
          -86.52527778,
          -65.49361111,
          -132.36972222,
          -111.11777778,
          -94.30777778,
          -103.75055556,
          -139.66027778,
          -120.54416667,
          -114.60611111
         ],
         "marker": {
          "color": [
           2,
           1,
           2,
           1,
           1,
           1,
           1,
           1,
           2,
           0,
           1,
           1,
           1,
           0,
           0,
           2,
           0,
           0,
           1,
           2,
           2,
           0,
           0,
           0,
           0,
           1,
           2,
           2,
           0,
           0,
           2,
           2,
           1,
           2,
           1,
           2,
           1,
           0,
           0,
           1,
           0,
           2,
           0,
           2,
           0,
           2,
           1,
           1,
           0,
           0,
           1,
           1,
           1,
           2,
           2,
           2,
           1,
           1,
           1,
           1,
           0,
           1,
           1,
           0,
           2,
           2,
           2,
           2,
           2,
           2,
           2,
           1,
           0,
           0,
           0,
           0,
           0,
           0,
           0,
           2,
           1,
           2,
           2,
           0,
           1,
           2,
           1,
           2,
           2,
           1,
           0,
           0,
           0,
           1,
           2,
           1,
           1,
           0,
           2,
           1,
           1,
           2,
           0,
           1,
           0,
           2,
           2,
           2,
           0,
           2,
           0,
           0,
           2,
           2,
           1,
           0,
           0,
           1,
           1,
           0,
           0,
           2,
           2,
           0,
           0,
           0,
           0,
           1,
           0,
           2,
           1,
           0,
           0,
           1,
           2,
           0,
           1,
           0,
           2,
           1,
           0,
           1,
           2,
           2,
           2,
           2,
           2,
           1,
           2,
           1,
           2,
           1,
           0,
           1,
           0,
           2,
           1,
           2,
           1,
           1,
           0,
           2,
           1,
           1,
           0,
           1,
           0,
           1,
           1,
           1,
           1,
           1,
           2,
           2,
           2,
           0,
           1,
           1,
           1,
           1,
           1,
           1,
           1,
           0,
           1,
           0,
           2,
           0,
           0,
           0,
           0,
           2,
           2,
           2,
           0,
           2,
           1,
           1,
           0,
           0,
           0,
           2,
           1,
           2,
           2,
           1,
           0,
           2,
           0,
           2,
           0,
           0,
           0,
           0,
           2,
           1,
           2,
           0,
           2,
           2,
           2,
           2,
           0,
           0,
           0,
           2,
           0,
           2,
           0,
           1,
           1,
           0,
           2,
           1,
           2,
           2,
           1,
           0,
           0,
           1,
           1,
           0,
           2,
           1,
           2,
           2,
           2,
           2,
           1,
           0,
           0,
           1,
           1,
           0,
           1,
           1,
           2,
           0,
           0,
           1,
           0,
           2,
           0,
           0,
           2,
           0,
           2,
           2,
           0,
           2,
           2,
           2,
           1,
           0,
           1,
           2,
           2,
           2,
           0,
           0,
           0,
           0,
           1,
           1,
           1,
           1,
           1,
           1,
           1,
           0,
           2,
           2,
           2,
           0,
           2,
           1,
           0,
           1,
           0,
           2,
           1,
           2,
           1,
           2,
           0,
           2,
           0,
           2,
           1,
           2,
           2,
           2,
           0,
           0,
           1,
           0,
           1,
           0,
           1,
           2,
           0,
           2,
           0,
           2,
           1,
           1,
           2,
           2,
           1,
           0,
           2,
           1,
           0,
           2,
           0,
           1,
           2,
           0,
           0,
           0,
           2,
           1,
           0,
           1,
           2,
           0,
           1,
           0,
           2,
           1,
           2,
           2,
           1,
           2,
           2,
           1,
           1,
           2,
           0,
           0,
           0,
           2,
           1,
           2,
           1,
           1,
           2,
           0,
           1,
           2,
           2,
           2,
           2,
           2,
           1,
           1,
           1,
           1,
           1,
           2,
           0,
           0,
           2,
           2,
           2,
           2,
           1,
           0,
           0,
           1,
           1,
           2,
           1,
           2,
           2,
           0,
           0,
           2,
           1,
           2,
           0,
           0,
           0,
           1,
           0,
           1,
           2,
           0,
           0,
           2,
           1,
           2,
           1,
           1,
           1,
           1,
           0,
           2,
           0,
           0,
           2,
           1,
           2,
           1,
           1,
           2,
           0,
           2,
           2,
           0,
           1,
           1,
           1,
           2,
           0,
           0,
           1,
           0,
           0,
           0,
           1,
           2,
           0,
           0,
           0,
           2,
           1,
           0,
           1,
           1
          ],
          "coloraxis": "coloraxis"
         },
         "mode": "markers",
         "name": "",
         "showlegend": false,
         "subplot": "mapbox",
         "type": "scattermapbox"
        }
       ],
       "layout": {
        "coloraxis": {
         "colorbar": {
          "title": {
           "text": "backet"
          }
         },
         "colorscale": [
          [
           0,
           "#0d0887"
          ],
          [
           0.1111111111111111,
           "#46039f"
          ],
          [
           0.2222222222222222,
           "#7201a8"
          ],
          [
           0.3333333333333333,
           "#9c179e"
          ],
          [
           0.4444444444444444,
           "#bd3786"
          ],
          [
           0.5555555555555556,
           "#d8576b"
          ],
          [
           0.6666666666666666,
           "#ed7953"
          ],
          [
           0.7777777777777778,
           "#fb9f3a"
          ],
          [
           0.8888888888888888,
           "#fdca26"
          ],
          [
           1,
           "#f0f921"
          ]
         ]
        },
        "legend": {
         "tracegroupgap": 0
        },
        "mapbox": {
         "accesstoken": "pk.eyJ1IjoiZWdvcjIyODI4MiIsImEiOiJja281eGVhdHcxeG1sMm9tdng2aHk4YzByIn0.CX0VdWcrzcxNS3EQX8JrDw",
         "center": {
          "lat": 39.10049876557773,
          "lon": -97.44893518526672
         },
         "domain": {
          "x": [
           0,
           1
          ],
          "y": [
           0,
           1
          ]
         },
         "zoom": 2
        },
        "margin": {
         "t": 60
        },
        "template": {
         "data": {
          "bar": [
           {
            "error_x": {
             "color": "#2a3f5f"
            },
            "error_y": {
             "color": "#2a3f5f"
            },
            "marker": {
             "line": {
              "color": "#E5ECF6",
              "width": 0.5
             },
             "pattern": {
              "fillmode": "overlay",
              "size": 10,
              "solidity": 0.2
             }
            },
            "type": "bar"
           }
          ],
          "barpolar": [
           {
            "marker": {
             "line": {
              "color": "#E5ECF6",
              "width": 0.5
             },
             "pattern": {
              "fillmode": "overlay",
              "size": 10,
              "solidity": 0.2
             }
            },
            "type": "barpolar"
           }
          ],
          "carpet": [
           {
            "aaxis": {
             "endlinecolor": "#2a3f5f",
             "gridcolor": "white",
             "linecolor": "white",
             "minorgridcolor": "white",
             "startlinecolor": "#2a3f5f"
            },
            "baxis": {
             "endlinecolor": "#2a3f5f",
             "gridcolor": "white",
             "linecolor": "white",
             "minorgridcolor": "white",
             "startlinecolor": "#2a3f5f"
            },
            "type": "carpet"
           }
          ],
          "choropleth": [
           {
            "colorbar": {
             "outlinewidth": 0,
             "ticks": ""
            },
            "type": "choropleth"
           }
          ],
          "contour": [
           {
            "colorbar": {
             "outlinewidth": 0,
             "ticks": ""
            },
            "colorscale": [
             [
              0,
              "#0d0887"
             ],
             [
              0.1111111111111111,
              "#46039f"
             ],
             [
              0.2222222222222222,
              "#7201a8"
             ],
             [
              0.3333333333333333,
              "#9c179e"
             ],
             [
              0.4444444444444444,
              "#bd3786"
             ],
             [
              0.5555555555555556,
              "#d8576b"
             ],
             [
              0.6666666666666666,
              "#ed7953"
             ],
             [
              0.7777777777777778,
              "#fb9f3a"
             ],
             [
              0.8888888888888888,
              "#fdca26"
             ],
             [
              1,
              "#f0f921"
             ]
            ],
            "type": "contour"
           }
          ],
          "contourcarpet": [
           {
            "colorbar": {
             "outlinewidth": 0,
             "ticks": ""
            },
            "type": "contourcarpet"
           }
          ],
          "heatmap": [
           {
            "colorbar": {
             "outlinewidth": 0,
             "ticks": ""
            },
            "colorscale": [
             [
              0,
              "#0d0887"
             ],
             [
              0.1111111111111111,
              "#46039f"
             ],
             [
              0.2222222222222222,
              "#7201a8"
             ],
             [
              0.3333333333333333,
              "#9c179e"
             ],
             [
              0.4444444444444444,
              "#bd3786"
             ],
             [
              0.5555555555555556,
              "#d8576b"
             ],
             [
              0.6666666666666666,
              "#ed7953"
             ],
             [
              0.7777777777777778,
              "#fb9f3a"
             ],
             [
              0.8888888888888888,
              "#fdca26"
             ],
             [
              1,
              "#f0f921"
             ]
            ],
            "type": "heatmap"
           }
          ],
          "heatmapgl": [
           {
            "colorbar": {
             "outlinewidth": 0,
             "ticks": ""
            },
            "colorscale": [
             [
              0,
              "#0d0887"
             ],
             [
              0.1111111111111111,
              "#46039f"
             ],
             [
              0.2222222222222222,
              "#7201a8"
             ],
             [
              0.3333333333333333,
              "#9c179e"
             ],
             [
              0.4444444444444444,
              "#bd3786"
             ],
             [
              0.5555555555555556,
              "#d8576b"
             ],
             [
              0.6666666666666666,
              "#ed7953"
             ],
             [
              0.7777777777777778,
              "#fb9f3a"
             ],
             [
              0.8888888888888888,
              "#fdca26"
             ],
             [
              1,
              "#f0f921"
             ]
            ],
            "type": "heatmapgl"
           }
          ],
          "histogram": [
           {
            "marker": {
             "pattern": {
              "fillmode": "overlay",
              "size": 10,
              "solidity": 0.2
             }
            },
            "type": "histogram"
           }
          ],
          "histogram2d": [
           {
            "colorbar": {
             "outlinewidth": 0,
             "ticks": ""
            },
            "colorscale": [
             [
              0,
              "#0d0887"
             ],
             [
              0.1111111111111111,
              "#46039f"
             ],
             [
              0.2222222222222222,
              "#7201a8"
             ],
             [
              0.3333333333333333,
              "#9c179e"
             ],
             [
              0.4444444444444444,
              "#bd3786"
             ],
             [
              0.5555555555555556,
              "#d8576b"
             ],
             [
              0.6666666666666666,
              "#ed7953"
             ],
             [
              0.7777777777777778,
              "#fb9f3a"
             ],
             [
              0.8888888888888888,
              "#fdca26"
             ],
             [
              1,
              "#f0f921"
             ]
            ],
            "type": "histogram2d"
           }
          ],
          "histogram2dcontour": [
           {
            "colorbar": {
             "outlinewidth": 0,
             "ticks": ""
            },
            "colorscale": [
             [
              0,
              "#0d0887"
             ],
             [
              0.1111111111111111,
              "#46039f"
             ],
             [
              0.2222222222222222,
              "#7201a8"
             ],
             [
              0.3333333333333333,
              "#9c179e"
             ],
             [
              0.4444444444444444,
              "#bd3786"
             ],
             [
              0.5555555555555556,
              "#d8576b"
             ],
             [
              0.6666666666666666,
              "#ed7953"
             ],
             [
              0.7777777777777778,
              "#fb9f3a"
             ],
             [
              0.8888888888888888,
              "#fdca26"
             ],
             [
              1,
              "#f0f921"
             ]
            ],
            "type": "histogram2dcontour"
           }
          ],
          "mesh3d": [
           {
            "colorbar": {
             "outlinewidth": 0,
             "ticks": ""
            },
            "type": "mesh3d"
           }
          ],
          "parcoords": [
           {
            "line": {
             "colorbar": {
              "outlinewidth": 0,
              "ticks": ""
             }
            },
            "type": "parcoords"
           }
          ],
          "pie": [
           {
            "automargin": true,
            "type": "pie"
           }
          ],
          "scatter": [
           {
            "marker": {
             "colorbar": {
              "outlinewidth": 0,
              "ticks": ""
             }
            },
            "type": "scatter"
           }
          ],
          "scatter3d": [
           {
            "line": {
             "colorbar": {
              "outlinewidth": 0,
              "ticks": ""
             }
            },
            "marker": {
             "colorbar": {
              "outlinewidth": 0,
              "ticks": ""
             }
            },
            "type": "scatter3d"
           }
          ],
          "scattercarpet": [
           {
            "marker": {
             "colorbar": {
              "outlinewidth": 0,
              "ticks": ""
             }
            },
            "type": "scattercarpet"
           }
          ],
          "scattergeo": [
           {
            "marker": {
             "colorbar": {
              "outlinewidth": 0,
              "ticks": ""
             }
            },
            "type": "scattergeo"
           }
          ],
          "scattergl": [
           {
            "marker": {
             "colorbar": {
              "outlinewidth": 0,
              "ticks": ""
             }
            },
            "type": "scattergl"
           }
          ],
          "scattermapbox": [
           {
            "marker": {
             "colorbar": {
              "outlinewidth": 0,
              "ticks": ""
             }
            },
            "type": "scattermapbox"
           }
          ],
          "scatterpolar": [
           {
            "marker": {
             "colorbar": {
              "outlinewidth": 0,
              "ticks": ""
             }
            },
            "type": "scatterpolar"
           }
          ],
          "scatterpolargl": [
           {
            "marker": {
             "colorbar": {
              "outlinewidth": 0,
              "ticks": ""
             }
            },
            "type": "scatterpolargl"
           }
          ],
          "scatterternary": [
           {
            "marker": {
             "colorbar": {
              "outlinewidth": 0,
              "ticks": ""
             }
            },
            "type": "scatterternary"
           }
          ],
          "surface": [
           {
            "colorbar": {
             "outlinewidth": 0,
             "ticks": ""
            },
            "colorscale": [
             [
              0,
              "#0d0887"
             ],
             [
              0.1111111111111111,
              "#46039f"
             ],
             [
              0.2222222222222222,
              "#7201a8"
             ],
             [
              0.3333333333333333,
              "#9c179e"
             ],
             [
              0.4444444444444444,
              "#bd3786"
             ],
             [
              0.5555555555555556,
              "#d8576b"
             ],
             [
              0.6666666666666666,
              "#ed7953"
             ],
             [
              0.7777777777777778,
              "#fb9f3a"
             ],
             [
              0.8888888888888888,
              "#fdca26"
             ],
             [
              1,
              "#f0f921"
             ]
            ],
            "type": "surface"
           }
          ],
          "table": [
           {
            "cells": {
             "fill": {
              "color": "#EBF0F8"
             },
             "line": {
              "color": "white"
             }
            },
            "header": {
             "fill": {
              "color": "#C8D4E3"
             },
             "line": {
              "color": "white"
             }
            },
            "type": "table"
           }
          ]
         },
         "layout": {
          "annotationdefaults": {
           "arrowcolor": "#2a3f5f",
           "arrowhead": 0,
           "arrowwidth": 1
          },
          "autotypenumbers": "strict",
          "coloraxis": {
           "colorbar": {
            "outlinewidth": 0,
            "ticks": ""
           }
          },
          "colorscale": {
           "diverging": [
            [
             0,
             "#8e0152"
            ],
            [
             0.1,
             "#c51b7d"
            ],
            [
             0.2,
             "#de77ae"
            ],
            [
             0.3,
             "#f1b6da"
            ],
            [
             0.4,
             "#fde0ef"
            ],
            [
             0.5,
             "#f7f7f7"
            ],
            [
             0.6,
             "#e6f5d0"
            ],
            [
             0.7,
             "#b8e186"
            ],
            [
             0.8,
             "#7fbc41"
            ],
            [
             0.9,
             "#4d9221"
            ],
            [
             1,
             "#276419"
            ]
           ],
           "sequential": [
            [
             0,
             "#0d0887"
            ],
            [
             0.1111111111111111,
             "#46039f"
            ],
            [
             0.2222222222222222,
             "#7201a8"
            ],
            [
             0.3333333333333333,
             "#9c179e"
            ],
            [
             0.4444444444444444,
             "#bd3786"
            ],
            [
             0.5555555555555556,
             "#d8576b"
            ],
            [
             0.6666666666666666,
             "#ed7953"
            ],
            [
             0.7777777777777778,
             "#fb9f3a"
            ],
            [
             0.8888888888888888,
             "#fdca26"
            ],
            [
             1,
             "#f0f921"
            ]
           ],
           "sequentialminus": [
            [
             0,
             "#0d0887"
            ],
            [
             0.1111111111111111,
             "#46039f"
            ],
            [
             0.2222222222222222,
             "#7201a8"
            ],
            [
             0.3333333333333333,
             "#9c179e"
            ],
            [
             0.4444444444444444,
             "#bd3786"
            ],
            [
             0.5555555555555556,
             "#d8576b"
            ],
            [
             0.6666666666666666,
             "#ed7953"
            ],
            [
             0.7777777777777778,
             "#fb9f3a"
            ],
            [
             0.8888888888888888,
             "#fdca26"
            ],
            [
             1,
             "#f0f921"
            ]
           ]
          },
          "colorway": [
           "#636efa",
           "#EF553B",
           "#00cc96",
           "#ab63fa",
           "#FFA15A",
           "#19d3f3",
           "#FF6692",
           "#B6E880",
           "#FF97FF",
           "#FECB52"
          ],
          "font": {
           "color": "#2a3f5f"
          },
          "geo": {
           "bgcolor": "white",
           "lakecolor": "white",
           "landcolor": "#E5ECF6",
           "showlakes": true,
           "showland": true,
           "subunitcolor": "white"
          },
          "hoverlabel": {
           "align": "left"
          },
          "hovermode": "closest",
          "mapbox": {
           "style": "light"
          },
          "paper_bgcolor": "white",
          "plot_bgcolor": "#E5ECF6",
          "polar": {
           "angularaxis": {
            "gridcolor": "white",
            "linecolor": "white",
            "ticks": ""
           },
           "bgcolor": "#E5ECF6",
           "radialaxis": {
            "gridcolor": "white",
            "linecolor": "white",
            "ticks": ""
           }
          },
          "scene": {
           "xaxis": {
            "backgroundcolor": "#E5ECF6",
            "gridcolor": "white",
            "gridwidth": 2,
            "linecolor": "white",
            "showbackground": true,
            "ticks": "",
            "zerolinecolor": "white"
           },
           "yaxis": {
            "backgroundcolor": "#E5ECF6",
            "gridcolor": "white",
            "gridwidth": 2,
            "linecolor": "white",
            "showbackground": true,
            "ticks": "",
            "zerolinecolor": "white"
           },
           "zaxis": {
            "backgroundcolor": "#E5ECF6",
            "gridcolor": "white",
            "gridwidth": 2,
            "linecolor": "white",
            "showbackground": true,
            "ticks": "",
            "zerolinecolor": "white"
           }
          },
          "shapedefaults": {
           "line": {
            "color": "#2a3f5f"
           }
          },
          "ternary": {
           "aaxis": {
            "gridcolor": "white",
            "linecolor": "white",
            "ticks": ""
           },
           "baxis": {
            "gridcolor": "white",
            "linecolor": "white",
            "ticks": ""
           },
           "bgcolor": "#E5ECF6",
           "caxis": {
            "gridcolor": "white",
            "linecolor": "white",
            "ticks": ""
           }
          },
          "title": {
           "x": 0.05
          },
          "xaxis": {
           "automargin": true,
           "gridcolor": "white",
           "linecolor": "white",
           "ticks": "",
           "title": {
            "standoff": 15
           },
           "zerolinecolor": "white",
           "zerolinewidth": 2
          },
          "yaxis": {
           "automargin": true,
           "gridcolor": "white",
           "linecolor": "white",
           "ticks": "",
           "title": {
            "standoff": 15
           },
           "zerolinecolor": "white",
           "zerolinewidth": 2
          }
         }
        }
       }
      },
      "text/html": [
       "<div>                            <div id=\"63dccde7-35ca-49d5-a6c0-a105b0c7ffd7\" class=\"plotly-graph-div\" style=\"height:525px; width:100%;\"></div>            <script type=\"text/javascript\">                require([\"plotly\"], function(Plotly) {                    window.PLOTLYENV=window.PLOTLYENV || {};                                    if (document.getElementById(\"63dccde7-35ca-49d5-a6c0-a105b0c7ffd7\")) {                    Plotly.newPlot(                        \"63dccde7-35ca-49d5-a6c0-a105b0c7ffd7\",                        [{\"hovertemplate\":\"LATITUDE=%{lat}<br>LONGITUDE=%{lon}<br>backet=%{marker.color}<extra></extra>\",\"lat\":[40.6525,32.41138889,35.03888889,45.44666667,31.53555556,41.25305556,31.61222222,40.97777778,39.4575,51.88361111,57.74972222,31.3275,33.37,42.05333333,58.67638889,42.74916667,42.55833333,37.435,46.0925,35.21944444,61.17416667,61.58138889,40.29638889,45.07805556,43.99194444,39.22194444,33.63666667,44.25805556,44.91388889,44.32055556,30.19444444,35.43611111,41.33833333,33.30777778,42.23444444,41.93916667,60.77861111,41.80305556,41.87416667,35.43388889,42.20833333,44.8075,44.44972222,33.56388889,37.37305556,45.80777778,46.77277778,47.51083333,36.53194444,37.78722222,48.79277778,38.54527778,40.47722222,36.12444444,43.56444444,42.36305556,29.95083333,31.25916667,18.49472222,46.40416667,40.78305556,25.90611111,71.28472222,45.95472222,30.53305556,44.47194444,42.94055556,34.20055556,39.17583333,45.77722222,33.93888889,40.915,55.20583333,37.70083333,42.8375,60.49166667,41.78027778,37.30305556,37.22527778,35.03527778,38.13972222,32.89861111,41.88472222,46.25083333,39.29777778,41.40944444,30.58805556,35.21361111,39.99694444,40.03861111,47.16777778,32.3375,38.7575,44.52027778,38.80583333,38.81777778,42.90583333,18.31305556,27.77222222,38.37611111,32.51638889,39.04888889,34.42666667,44.7775,41.15555556,29.18,32.84583333,39.90222222,42.40194444,38.85138889,37.76305556,39.83444444,39.86166667,32.89722222,31.32111111,46.80083333,59.04472222,46.84194444,37.15166667,29.37416667,30.4,41.53416667,42.2125,41.17833333,53.89888889,48.11666667,40.72694444,47.39888889,44.86583333,30.35833333,39.64277778,40.825,33.22111111,42.15972222,31.80722222,60.57333333,42.08305556,45.72277778,44.12444444,38.04083333,41.67666667,35.07277778,40.6925,24.55611111,64.81527778,46.92055556,36.77666667,34.99111111,48.31055556,35.14027778,26.07166667,34.18527778,40.45194444,42.96555556,42.55111111,43.58194444,35.33527778,40.97833333,44.34888889,37.9275,47.13861111,47.61916667,47.94722222,32.38388889,48.2125,39.1225,33.48277778,29.69,30.40722222,44.48472222,40.9675,31.06722222,42.88083333,36.10138889,34.89555556,58.42527778,47.48222222,33.44833333,38.53444444,13.48388889,40.48111111,39.70861111,32.22444444,47.38666667,46.60666667,58.09611111,21.31777778,20.79555556,32.6875,59.645,34.47805556,29.64583333,41.06694444,26.22722222,36.26138889,34.63722222,38.36861111,41.26361111,48.54305556,41.66944444,38.84222222,38.9475,43.1075,29.98444444,37.65,43.51361111,39.67861111,34.27111111,45.81833333,39.71722222,48.56555556,32.83416667,41.24166667,40.09333333,40.79611111,42.49138889,19.72027778,46.5275,43.60722222,32.31111111,30.49416667,40.64,20.96305556,37.15305556,46.92972222,58.35472222,40.31555556,19.73888889,62.06083333,55.35416667,42.77861111,41.31194444,36.08,34.56777778,33.9425,33.66361111,40.27305556,41.12611111,37.04388889,30.12611111,39.81388889,43.62611111,38.03666667,30.205,40.77722222,33.81805556,21.97611111,34.72944444,40.85083333,40.12222222,20.78555556,27.54416667,43.87916667,37.85833333,46.37444444,37.32527778,31.9425,18.25555556,44.2725,43.53305556,37.28472222,39.2975,40.20638889,32.69277778,28.42944444,43.15777778,40.19305556,41.78583333,32.3325,35.0425,26.17583333,42.375,32.30055556,39.64361111,39.14111111,42.93277778,25.79527778,42.94694444,43.16777778,21.15277778,35.6,44.22277778,28.10277778,41.44833333,32.51055556,30.69138889,48.25777778,46.34916667,36.58694444,34.74527778,43.14,46.91638889,44.88194444,44.93611111,29.99333333,38.50972222,20.00138889,41.39333333,37.755,33.67972222,34.82916667,37.72111111,41.195,20.89861111,44.68222222,35.39305556,48.09444444,41.30305556,64.51055556,34.05611111,41.97694444,36.89472222,42.26722222,43.41694444,66.88472222,37.73888889,47.90722222,37.06027778,44.65083333,26.68305556,45.69472222,45.58861111,36.92611111,26.91861111,35.63555556,37.13194444,39.87194444,33.43416667,40.66416667,31.46722222,27.90861111,42.90972222,44.38277778,40.49138889,39.345,45.57083333,30.47333333,-14.33,46.68888889,34.65472222,46.26472222,18.00888889,56.80138889,43.07805556,33.82972222,38.29,46.74166667,42.07222222,41.72222222,40.21916667,43.64555556,44.04527778,40.50888889,44.25416667,35.87777778,42.19527778,45.63083333,37.50527778,43.06416667,44.06027778,41.59416667,39.49916667,37.32555556,43.11916667,33.3,43.90833333,26.53611111,43.52972222,35.61722222,32.73361111,29.53388889,32.1275,34.42611111,41.70833333,35.23722222,38.34027778,70.19472222,40.85,37.89444444,38.17416667,55.31361111,47.70694444,47.45,28.77722222,37.61888889,37.24555556,37.03638889,38.26388889,44.76916667,32.44638889,57.04694444,37.36305556,31.35777778,18.43944444,40.78833333,44.38527778,38.79055556,38.69555556,34.9,33.67555556,57.16638889,34.26555556,18.33861111,39.84416667,15.12027778,33.98888889,27.39555556,17.74916667,45.54611111,38.74861111,38.50972222,18.33722222,17.70138889,43.50388889,42.40138889,41.50416667,36.16138889,43.11111111,37.74166667,37.95388889,30.39666667,41.58694444,27.97555556,36.47527778,40.27666667,36.19833333,34.26888889,32.11611111,44.74166667,48.06555556,42.48194444,33.45361111,32.35361111,35.81111111,39.94305556,63.88861111,35.38777778,28.85416667,61.13416667,40.43611111,30.78138889,30.48333333,18.13472222,56.48444444,44.68833333,36.28166667,48.25972222,59.50333333,46.56805556,32.65666667],\"legendgroup\":\"\",\"lon\":[-75.44027778,-99.68194444,-106.60833333,-98.4225,-84.19444444,-70.06,-97.23027778,-124.10833333,-74.57722222,-176.6425,-152.49388889,-92.54861111,-81.96444444,-102.80361111,-156.64861111,-73.80194444,-92.40111111,-105.86777778,-118.28416667,-101.70583333,-149.99805556,-159.54527778,-78.32,-83.56027778,-76.01944444,-106.86833333,-84.42777778,-88.51916667,-97.15472222,-69.79722222,-97.67,-82.54194444,-75.72333333,-111.65555556,-85.55166667,-72.68444444,-161.83722222,-78.64,-103.59555556,-119.05777778,-75.97972222,-68.82805556,-68.36138889,-86.75222222,-118.36361111,-108.54361111,-100.74583333,-94.93472222,-93.20055556,-81.12416667,-122.5375,-89.83527778,-88.91583333,-86.67805556,-116.22277778,-71.00638889,-94.02055556,-81.46638889,-67.12944444,-94.13361111,-91.12555556,-97.42611111,-156.76861111,-112.4975,-91.15,-73.15333333,-78.73055556,-118.35861111,-76.66888889,-111.15027778,-81.11944444,-81.44361111,-162.72611111,-113.09888889,-103.09527778,-145.4775,-124.23666667,-108.62805556,-89.57083333,-85.20361111,-78.45222222,-80.04055556,-91.71083333,-84.4725,-80.2275,-81.85472222,-96.3625,-80.94916667,-82.89222222,-88.27666667,-88.48638889,-104.26333333,-109.75333333,-109.02388889,-104.70083333,-92.21777778,-106.46361111,-65.30388889,-97.5025,-81.59277778,-84.93888889,-84.66777778,-103.0775,-89.66666667,-104.81055556,-81.05805556,-96.85083333,-84.21944444,-90.70944444,-77.03777778,-99.96555556,-88.86555556,-104.67305556,-97.03777778,-85.44944444,-102.80333333,-158.50555556,-92.19333333,-107.75388889,-100.92722222,-86.47138889,-93.65777778,-83.35333333,-78.89861111,-166.545,-98.91,-99.00666667,-120.20694444,-91.48416667,-85.79555556,-106.91583333,-115.79138889,-92.81166667,-76.89166667,-106.37638889,-151.24472222,-80.17388889,-87.09361111,-123.21194444,-87.52861111,-70.95777778,-77.04305556,-74.16861111,-81.76,-147.85666667,-96.81583333,-119.71888889,-78.88027778,-114.25611111,-111.66916667,-80.14972222,-79.72388889,-105.01138889,-83.74472222,-94.19194444,-96.74194444,-94.36777778,-85.19527778,-105.53944444,-100.72444444,-104.80722222,-117.53527778,-97.17388889,-94.71138889,-106.61472222,-108.52666667,-90.98555556,-82.27166667,-89.07,-88.12972222,-98.30972222,-97.82888889,-85.52277778,-79.94111111,-82.21888889,-135.7075,-111.37027778,-88.59138889,-106.93166667,144.79722222,-107.21777778,-77.72638889,-80.6975,-92.83888889,-111.98333333,-135.40888889,-157.92027778,-156.01444444,-103.21722222,-151.48583333,-93.09611111,-95.27722222,-73.7075,-97.65527778,-93.15472222,-86.775,-82.56027778,-72.88777778,-109.76222222,-70.28027778,-99.27305556,-77.46,-78.94583333,-95.34138889,-97.43305556,-112.07083333,-75.60666667,-77.90277778,-88.11444444,-86.29472222,-93.40222222,-115.57888889,-76.92194444,-92.545,-73.10055556,-76.45861111,-155.04833333,-90.13138889,-110.73777778,-90.07583333,-81.68777778,-73.77861111,-156.67305556,-94.49888889,-98.67805556,-134.57833333,-78.83472222,-156.04555556,-163.30194444,-131.71111111,-84.58611111,-105.675,-115.15222222,-98.41666667,-118.40805556,-101.82055556,-79.41027778,-100.68361111,-100.96,-93.22333333,-82.92777778,-72.30416667,-84.60861111,-91.98777778,-73.8725,-118.15194444,-159.33888889,-92.22472222,-96.75916667,-76.29444444,-156.95138889,-99.46166667,-91.25666667,-80.39944444,-117.01527778,-79.20111111,-102.20194444,-67.14833333,-86.24694444,-84.07972222,-120.51388889,-94.71388889,-100.59194444,-83.64916667,-81.30888889,-93.33111111,-76.7625,-87.7525,-88.75194444,-89.97666667,-98.23861111,-122.87333333,-86.39388889,-79.9175,-96.67194444,-71.43583333,-80.29,-87.89694444,-86.23555556,-157.09638889,-88.91555556,-93.91944444,-80.64527778,-90.5075,-92.03611111,-88.24277778,-101.27805556,-87.39638889,-121.84305556,-87.61027778,-89.3375,-114.09055556,-93.22166667,-74.845,-90.25916667,-107.89416667,-155.66805556,-70.61388889,-89.01111111,-78.92833333,-77.61222222,-122.22111111,-112.01222222,-156.43055556,-75.46333333,-97.60083333,-105.575,-95.89416667,-165.44472222,-117.60111111,-87.90805556,-76.20111111,-71.87555556,-124.24694444,-162.59805556,-87.16694444,-122.28222222,-88.77305556,-73.46805556,-80.09555556,-118.84305556,-122.59694444,-111.44833333,-81.99083333,-77.38416667,-76.49305556,-75.24055556,-112.01166667,-89.69333333,-89.33694444,-82.68638889,-112.59583333,-100.28583333,-80.23277778,-81.43916667,-84.79666667,-87.18666667,-170.71027778,-68.04472222,-112.41916667,-119.11888889,-66.56444444,-132.94611111,-70.82333333,-116.50666667,-104.49805556,-117.11166667,-70.22083333,-71.42777778,-111.72333333,-70.30861111,-103.05722222,-122.29333333,-121.15055556,-78.7875,-89.09722222,-89.46666667,-77.31972222,-108.45972222,-69.09972222,-109.06527778,-119.76805556,-79.97555556,-77.67194444,-104.52944444,-92.5,-81.75527778,-72.94972222,-106.08944444,-117.18972222,-98.46916667,-81.20222222,-119.84138889,-86.31722222,-120.6425,-75.50944444,-148.46527778,-77.8475,-121.23861111,-85.73638889,-160.52138889,-104.1925,-122.31166667,-81.235,-122.37555556,-93.38861111,-113.51027778,-78.89638889,-106.98027778,-93.82611111,-135.36111111,-121.92861111,-100.49638889,-66.00222222,-111.97777778,-74.20611111,-97.65222222,-121.59083333,-120.45805556,-117.86833333,-170.2225,-110.00555556,-64.94083333,-89.67805556,145.73,-98.49194444,-82.55444444,-64.70527778,-94.05944444,-90.37,-122.81277778,-64.97333333,-64.80194444,-114.29555556,-96.38444444,-74.10472222,-97.08583333,-76.10638889,-92.14083333,-107.90888889,-84.35083333,-83.80777778,-82.53333333,-82.4075,-74.81333333,-95.88805556,-88.77,-110.94111111,-85.58194444,-96.185,-114.48777778,-93.99111111,-95.40305556,-83.99416667,-91.19444444,-160.79916667,-80.70916667,-96.91861111,-146.24472222,-109.51138889,-83.27611111,-86.52527778,-65.49361111,-132.36972222,-111.11777778,-94.30777778,-103.75055556,-139.66027778,-120.54416667,-114.60611111],\"marker\":{\"color\":[2,1,2,1,1,1,1,1,2,0,1,1,1,0,0,2,0,0,1,2,2,0,0,0,0,1,2,2,0,0,2,2,1,2,1,2,1,0,0,1,0,2,0,2,0,2,1,1,0,0,1,1,1,2,2,2,1,1,1,1,0,1,1,0,2,2,2,2,2,2,2,1,0,0,0,0,0,0,0,2,1,2,2,0,1,2,1,2,2,1,0,0,0,1,2,1,1,0,2,1,1,2,0,1,0,2,2,2,0,2,0,0,2,2,1,0,0,1,1,0,0,2,2,0,0,0,0,1,0,2,1,0,0,1,2,0,1,0,2,1,0,1,2,2,2,2,2,1,2,1,2,1,0,1,0,2,1,2,1,1,0,2,1,1,0,1,0,1,1,1,1,1,2,2,2,0,1,1,1,1,1,1,1,0,1,0,2,0,0,0,0,2,2,2,0,2,1,1,0,0,0,2,1,2,2,1,0,2,0,2,0,0,0,0,2,1,2,0,2,2,2,2,0,0,0,2,0,2,0,1,1,0,2,1,2,2,1,0,0,1,1,0,2,1,2,2,2,2,1,0,0,1,1,0,1,1,2,0,0,1,0,2,0,0,2,0,2,2,0,2,2,2,1,0,1,2,2,2,0,0,0,0,1,1,1,1,1,1,1,0,2,2,2,0,2,1,0,1,0,2,1,2,1,2,0,2,0,2,1,2,2,2,0,0,1,0,1,0,1,2,0,2,0,2,1,1,2,2,1,0,2,1,0,2,0,1,2,0,0,0,2,1,0,1,2,0,1,0,2,1,2,2,1,2,2,1,1,2,0,0,0,2,1,2,1,1,2,0,1,2,2,2,2,2,1,1,1,1,1,2,0,0,2,2,2,2,1,0,0,1,1,2,1,2,2,0,0,2,1,2,0,0,0,1,0,1,2,0,0,2,1,2,1,1,1,1,0,2,0,0,2,1,2,1,1,2,0,2,2,0,1,1,1,2,0,0,1,0,0,0,1,2,0,0,0,2,1,0,1,1],\"coloraxis\":\"coloraxis\"},\"mode\":\"markers\",\"name\":\"\",\"showlegend\":false,\"subplot\":\"mapbox\",\"type\":\"scattermapbox\"}],                        {\"template\":{\"data\":{\"bar\":[{\"error_x\":{\"color\":\"#2a3f5f\"},\"error_y\":{\"color\":\"#2a3f5f\"},\"marker\":{\"line\":{\"color\":\"#E5ECF6\",\"width\":0.5},\"pattern\":{\"fillmode\":\"overlay\",\"size\":10,\"solidity\":0.2}},\"type\":\"bar\"}],\"barpolar\":[{\"marker\":{\"line\":{\"color\":\"#E5ECF6\",\"width\":0.5},\"pattern\":{\"fillmode\":\"overlay\",\"size\":10,\"solidity\":0.2}},\"type\":\"barpolar\"}],\"carpet\":[{\"aaxis\":{\"endlinecolor\":\"#2a3f5f\",\"gridcolor\":\"white\",\"linecolor\":\"white\",\"minorgridcolor\":\"white\",\"startlinecolor\":\"#2a3f5f\"},\"baxis\":{\"endlinecolor\":\"#2a3f5f\",\"gridcolor\":\"white\",\"linecolor\":\"white\",\"minorgridcolor\":\"white\",\"startlinecolor\":\"#2a3f5f\"},\"type\":\"carpet\"}],\"choropleth\":[{\"colorbar\":{\"outlinewidth\":0,\"ticks\":\"\"},\"type\":\"choropleth\"}],\"contour\":[{\"colorbar\":{\"outlinewidth\":0,\"ticks\":\"\"},\"colorscale\":[[0.0,\"#0d0887\"],[0.1111111111111111,\"#46039f\"],[0.2222222222222222,\"#7201a8\"],[0.3333333333333333,\"#9c179e\"],[0.4444444444444444,\"#bd3786\"],[0.5555555555555556,\"#d8576b\"],[0.6666666666666666,\"#ed7953\"],[0.7777777777777778,\"#fb9f3a\"],[0.8888888888888888,\"#fdca26\"],[1.0,\"#f0f921\"]],\"type\":\"contour\"}],\"contourcarpet\":[{\"colorbar\":{\"outlinewidth\":0,\"ticks\":\"\"},\"type\":\"contourcarpet\"}],\"heatmap\":[{\"colorbar\":{\"outlinewidth\":0,\"ticks\":\"\"},\"colorscale\":[[0.0,\"#0d0887\"],[0.1111111111111111,\"#46039f\"],[0.2222222222222222,\"#7201a8\"],[0.3333333333333333,\"#9c179e\"],[0.4444444444444444,\"#bd3786\"],[0.5555555555555556,\"#d8576b\"],[0.6666666666666666,\"#ed7953\"],[0.7777777777777778,\"#fb9f3a\"],[0.8888888888888888,\"#fdca26\"],[1.0,\"#f0f921\"]],\"type\":\"heatmap\"}],\"heatmapgl\":[{\"colorbar\":{\"outlinewidth\":0,\"ticks\":\"\"},\"colorscale\":[[0.0,\"#0d0887\"],[0.1111111111111111,\"#46039f\"],[0.2222222222222222,\"#7201a8\"],[0.3333333333333333,\"#9c179e\"],[0.4444444444444444,\"#bd3786\"],[0.5555555555555556,\"#d8576b\"],[0.6666666666666666,\"#ed7953\"],[0.7777777777777778,\"#fb9f3a\"],[0.8888888888888888,\"#fdca26\"],[1.0,\"#f0f921\"]],\"type\":\"heatmapgl\"}],\"histogram\":[{\"marker\":{\"pattern\":{\"fillmode\":\"overlay\",\"size\":10,\"solidity\":0.2}},\"type\":\"histogram\"}],\"histogram2d\":[{\"colorbar\":{\"outlinewidth\":0,\"ticks\":\"\"},\"colorscale\":[[0.0,\"#0d0887\"],[0.1111111111111111,\"#46039f\"],[0.2222222222222222,\"#7201a8\"],[0.3333333333333333,\"#9c179e\"],[0.4444444444444444,\"#bd3786\"],[0.5555555555555556,\"#d8576b\"],[0.6666666666666666,\"#ed7953\"],[0.7777777777777778,\"#fb9f3a\"],[0.8888888888888888,\"#fdca26\"],[1.0,\"#f0f921\"]],\"type\":\"histogram2d\"}],\"histogram2dcontour\":[{\"colorbar\":{\"outlinewidth\":0,\"ticks\":\"\"},\"colorscale\":[[0.0,\"#0d0887\"],[0.1111111111111111,\"#46039f\"],[0.2222222222222222,\"#7201a8\"],[0.3333333333333333,\"#9c179e\"],[0.4444444444444444,\"#bd3786\"],[0.5555555555555556,\"#d8576b\"],[0.6666666666666666,\"#ed7953\"],[0.7777777777777778,\"#fb9f3a\"],[0.8888888888888888,\"#fdca26\"],[1.0,\"#f0f921\"]],\"type\":\"histogram2dcontour\"}],\"mesh3d\":[{\"colorbar\":{\"outlinewidth\":0,\"ticks\":\"\"},\"type\":\"mesh3d\"}],\"parcoords\":[{\"line\":{\"colorbar\":{\"outlinewidth\":0,\"ticks\":\"\"}},\"type\":\"parcoords\"}],\"pie\":[{\"automargin\":true,\"type\":\"pie\"}],\"scatter\":[{\"marker\":{\"colorbar\":{\"outlinewidth\":0,\"ticks\":\"\"}},\"type\":\"scatter\"}],\"scatter3d\":[{\"line\":{\"colorbar\":{\"outlinewidth\":0,\"ticks\":\"\"}},\"marker\":{\"colorbar\":{\"outlinewidth\":0,\"ticks\":\"\"}},\"type\":\"scatter3d\"}],\"scattercarpet\":[{\"marker\":{\"colorbar\":{\"outlinewidth\":0,\"ticks\":\"\"}},\"type\":\"scattercarpet\"}],\"scattergeo\":[{\"marker\":{\"colorbar\":{\"outlinewidth\":0,\"ticks\":\"\"}},\"type\":\"scattergeo\"}],\"scattergl\":[{\"marker\":{\"colorbar\":{\"outlinewidth\":0,\"ticks\":\"\"}},\"type\":\"scattergl\"}],\"scattermapbox\":[{\"marker\":{\"colorbar\":{\"outlinewidth\":0,\"ticks\":\"\"}},\"type\":\"scattermapbox\"}],\"scatterpolar\":[{\"marker\":{\"colorbar\":{\"outlinewidth\":0,\"ticks\":\"\"}},\"type\":\"scatterpolar\"}],\"scatterpolargl\":[{\"marker\":{\"colorbar\":{\"outlinewidth\":0,\"ticks\":\"\"}},\"type\":\"scatterpolargl\"}],\"scatterternary\":[{\"marker\":{\"colorbar\":{\"outlinewidth\":0,\"ticks\":\"\"}},\"type\":\"scatterternary\"}],\"surface\":[{\"colorbar\":{\"outlinewidth\":0,\"ticks\":\"\"},\"colorscale\":[[0.0,\"#0d0887\"],[0.1111111111111111,\"#46039f\"],[0.2222222222222222,\"#7201a8\"],[0.3333333333333333,\"#9c179e\"],[0.4444444444444444,\"#bd3786\"],[0.5555555555555556,\"#d8576b\"],[0.6666666666666666,\"#ed7953\"],[0.7777777777777778,\"#fb9f3a\"],[0.8888888888888888,\"#fdca26\"],[1.0,\"#f0f921\"]],\"type\":\"surface\"}],\"table\":[{\"cells\":{\"fill\":{\"color\":\"#EBF0F8\"},\"line\":{\"color\":\"white\"}},\"header\":{\"fill\":{\"color\":\"#C8D4E3\"},\"line\":{\"color\":\"white\"}},\"type\":\"table\"}]},\"layout\":{\"annotationdefaults\":{\"arrowcolor\":\"#2a3f5f\",\"arrowhead\":0,\"arrowwidth\":1},\"autotypenumbers\":\"strict\",\"coloraxis\":{\"colorbar\":{\"outlinewidth\":0,\"ticks\":\"\"}},\"colorscale\":{\"diverging\":[[0,\"#8e0152\"],[0.1,\"#c51b7d\"],[0.2,\"#de77ae\"],[0.3,\"#f1b6da\"],[0.4,\"#fde0ef\"],[0.5,\"#f7f7f7\"],[0.6,\"#e6f5d0\"],[0.7,\"#b8e186\"],[0.8,\"#7fbc41\"],[0.9,\"#4d9221\"],[1,\"#276419\"]],\"sequential\":[[0.0,\"#0d0887\"],[0.1111111111111111,\"#46039f\"],[0.2222222222222222,\"#7201a8\"],[0.3333333333333333,\"#9c179e\"],[0.4444444444444444,\"#bd3786\"],[0.5555555555555556,\"#d8576b\"],[0.6666666666666666,\"#ed7953\"],[0.7777777777777778,\"#fb9f3a\"],[0.8888888888888888,\"#fdca26\"],[1.0,\"#f0f921\"]],\"sequentialminus\":[[0.0,\"#0d0887\"],[0.1111111111111111,\"#46039f\"],[0.2222222222222222,\"#7201a8\"],[0.3333333333333333,\"#9c179e\"],[0.4444444444444444,\"#bd3786\"],[0.5555555555555556,\"#d8576b\"],[0.6666666666666666,\"#ed7953\"],[0.7777777777777778,\"#fb9f3a\"],[0.8888888888888888,\"#fdca26\"],[1.0,\"#f0f921\"]]},\"colorway\":[\"#636efa\",\"#EF553B\",\"#00cc96\",\"#ab63fa\",\"#FFA15A\",\"#19d3f3\",\"#FF6692\",\"#B6E880\",\"#FF97FF\",\"#FECB52\"],\"font\":{\"color\":\"#2a3f5f\"},\"geo\":{\"bgcolor\":\"white\",\"lakecolor\":\"white\",\"landcolor\":\"#E5ECF6\",\"showlakes\":true,\"showland\":true,\"subunitcolor\":\"white\"},\"hoverlabel\":{\"align\":\"left\"},\"hovermode\":\"closest\",\"mapbox\":{\"style\":\"light\"},\"paper_bgcolor\":\"white\",\"plot_bgcolor\":\"#E5ECF6\",\"polar\":{\"angularaxis\":{\"gridcolor\":\"white\",\"linecolor\":\"white\",\"ticks\":\"\"},\"bgcolor\":\"#E5ECF6\",\"radialaxis\":{\"gridcolor\":\"white\",\"linecolor\":\"white\",\"ticks\":\"\"}},\"scene\":{\"xaxis\":{\"backgroundcolor\":\"#E5ECF6\",\"gridcolor\":\"white\",\"gridwidth\":2,\"linecolor\":\"white\",\"showbackground\":true,\"ticks\":\"\",\"zerolinecolor\":\"white\"},\"yaxis\":{\"backgroundcolor\":\"#E5ECF6\",\"gridcolor\":\"white\",\"gridwidth\":2,\"linecolor\":\"white\",\"showbackground\":true,\"ticks\":\"\",\"zerolinecolor\":\"white\"},\"zaxis\":{\"backgroundcolor\":\"#E5ECF6\",\"gridcolor\":\"white\",\"gridwidth\":2,\"linecolor\":\"white\",\"showbackground\":true,\"ticks\":\"\",\"zerolinecolor\":\"white\"}},\"shapedefaults\":{\"line\":{\"color\":\"#2a3f5f\"}},\"ternary\":{\"aaxis\":{\"gridcolor\":\"white\",\"linecolor\":\"white\",\"ticks\":\"\"},\"baxis\":{\"gridcolor\":\"white\",\"linecolor\":\"white\",\"ticks\":\"\"},\"bgcolor\":\"#E5ECF6\",\"caxis\":{\"gridcolor\":\"white\",\"linecolor\":\"white\",\"ticks\":\"\"}},\"title\":{\"x\":0.05},\"xaxis\":{\"automargin\":true,\"gridcolor\":\"white\",\"linecolor\":\"white\",\"ticks\":\"\",\"title\":{\"standoff\":15},\"zerolinecolor\":\"white\",\"zerolinewidth\":2},\"yaxis\":{\"automargin\":true,\"gridcolor\":\"white\",\"linecolor\":\"white\",\"ticks\":\"\",\"title\":{\"standoff\":15},\"zerolinecolor\":\"white\",\"zerolinewidth\":2}}},\"mapbox\":{\"domain\":{\"x\":[0.0,1.0],\"y\":[0.0,1.0]},\"center\":{\"lat\":39.10049876557773,\"lon\":-97.44893518526672},\"accesstoken\":\"pk.eyJ1IjoiZWdvcjIyODI4MiIsImEiOiJja281eGVhdHcxeG1sMm9tdng2aHk4YzByIn0.CX0VdWcrzcxNS3EQX8JrDw\",\"zoom\":2},\"coloraxis\":{\"colorbar\":{\"title\":{\"text\":\"backet\"}},\"colorscale\":[[0.0,\"#0d0887\"],[0.1111111111111111,\"#46039f\"],[0.2222222222222222,\"#7201a8\"],[0.3333333333333333,\"#9c179e\"],[0.4444444444444444,\"#bd3786\"],[0.5555555555555556,\"#d8576b\"],[0.6666666666666666,\"#ed7953\"],[0.7777777777777778,\"#fb9f3a\"],[0.8888888888888888,\"#fdca26\"],[1.0,\"#f0f921\"]]},\"legend\":{\"tracegroupgap\":0},\"margin\":{\"t\":60}},                        {\"responsive\": true}                    ).then(function(){\n",
       "                            \n",
       "var gd = document.getElementById('63dccde7-35ca-49d5-a6c0-a105b0c7ffd7');\n",
       "var x = new MutationObserver(function (mutations, observer) {{\n",
       "        var display = window.getComputedStyle(gd).display;\n",
       "        if (!display || display === 'none') {{\n",
       "            console.log([gd, 'removed!']);\n",
       "            Plotly.purge(gd);\n",
       "            observer.disconnect();\n",
       "        }}\n",
       "}});\n",
       "\n",
       "// Listen for the removal of the full notebook cells\n",
       "var notebookContainer = gd.closest('#notebook-container');\n",
       "if (notebookContainer) {{\n",
       "    x.observe(notebookContainer, {childList: true});\n",
       "}}\n",
       "\n",
       "// Listen for the clearing of the current output cell\n",
       "var outputEl = gd.closest('.output');\n",
       "if (outputEl) {{\n",
       "    x.observe(outputEl, {childList: true});\n",
       "}}\n",
       "\n",
       "                        })                };                });            </script>        </div>"
      ]
     },
     "metadata": {},
     "output_type": "display_data"
    }
   ],
   "source": [
    "# map_pic/4.png\n",
    "px.set_mapbox_access_token(MAPBOX_ACCESS_TOKEN)\n",
    "fig = px.scatter_mapbox(coord_with_passengers,\n",
    "                        lat=coord_with_passengers.LATITUDE,\n",
    "                        lon=coord_with_passengers.LONGITUDE,\n",
    "                        color=\"backet\",\n",
    "                        color_continuous_scale=px.colors.sequential.Plasma, size_max=15, zoom=2)\n",
    "fig.show()"
   ]
  },
  {
   "cell_type": "code",
   "execution_count": 93,
   "id": "b8c26f4c",
   "metadata": {},
   "outputs": [],
   "source": [
    "df_new = copy.deepcopy(df)"
   ]
  },
  {
   "cell_type": "code",
   "execution_count": 94,
   "id": "fa5e7a24",
   "metadata": {},
   "outputs": [
    {
     "data": {
      "text/html": [
       "<div>\n",
       "<style scoped>\n",
       "    .dataframe tbody tr th:only-of-type {\n",
       "        vertical-align: middle;\n",
       "    }\n",
       "\n",
       "    .dataframe tbody tr th {\n",
       "        vertical-align: top;\n",
       "    }\n",
       "\n",
       "    .dataframe thead th {\n",
       "        text-align: right;\n",
       "    }\n",
       "</style>\n",
       "<table border=\"1\" class=\"dataframe\">\n",
       "  <thead>\n",
       "    <tr style=\"text-align: right;\">\n",
       "      <th></th>\n",
       "      <th>Origin</th>\n",
       "      <th>Dest</th>\n",
       "    </tr>\n",
       "  </thead>\n",
       "  <tbody>\n",
       "    <tr>\n",
       "      <th>686</th>\n",
       "      <td>26</td>\n",
       "      <td>264</td>\n",
       "    </tr>\n",
       "    <tr>\n",
       "      <th>9295</th>\n",
       "      <td>264</td>\n",
       "      <td>26</td>\n",
       "    </tr>\n",
       "    <tr>\n",
       "      <th>8368</th>\n",
       "      <td>234</td>\n",
       "      <td>221</td>\n",
       "    </tr>\n",
       "    <tr>\n",
       "      <th>7963</th>\n",
       "      <td>221</td>\n",
       "      <td>234</td>\n",
       "    </tr>\n",
       "    <tr>\n",
       "      <th>12286</th>\n",
       "      <td>327</td>\n",
       "      <td>112</td>\n",
       "    </tr>\n",
       "  </tbody>\n",
       "</table>\n",
       "</div>"
      ],
      "text/plain": [
       "       Origin  Dest\n",
       "686        26   264\n",
       "9295      264    26\n",
       "8368      234   221\n",
       "7963      221   234\n",
       "12286     327   112"
      ]
     },
     "execution_count": 94,
     "metadata": {},
     "output_type": "execute_result"
    }
   ],
   "source": [
    "df_new['Origin'] = [coord_with_passengers.loc[coord_with_passengers['AIRPORT'] == x].index[0] \\\n",
    "                                            for x in df_new.Origin]\n",
    "df_new['Dest'] = [coord_with_passengers.loc[coord_with_passengers['AIRPORT'] == x].index[0] \\\n",
    "                                            for x in df_new.Dest]\n",
    "\n",
    "df_new = df_new[['Origin', 'Dest']]\n",
    "df_new.head()"
   ]
  },
  {
   "cell_type": "code",
   "execution_count": 95,
   "id": "1bb8771e",
   "metadata": {},
   "outputs": [
    {
     "data": {
      "text/html": [
       "<div>\n",
       "<style scoped>\n",
       "    .dataframe tbody tr th:only-of-type {\n",
       "        vertical-align: middle;\n",
       "    }\n",
       "\n",
       "    .dataframe tbody tr th {\n",
       "        vertical-align: top;\n",
       "    }\n",
       "\n",
       "    .dataframe thead th {\n",
       "        text-align: right;\n",
       "    }\n",
       "</style>\n",
       "<table border=\"1\" class=\"dataframe\">\n",
       "  <thead>\n",
       "    <tr style=\"text-align: right;\">\n",
       "      <th></th>\n",
       "      <th>AIRPORT</th>\n",
       "      <th>LATITUDE</th>\n",
       "      <th>LONGITUDE</th>\n",
       "      <th>AIRPORT_IS_LATEST</th>\n",
       "      <th>Passengers</th>\n",
       "      <th>backet</th>\n",
       "    </tr>\n",
       "  </thead>\n",
       "  <tbody>\n",
       "    <tr>\n",
       "      <th>0</th>\n",
       "      <td>ABE</td>\n",
       "      <td>40.652500</td>\n",
       "      <td>-75.440278</td>\n",
       "      <td>1</td>\n",
       "      <td>71709.0</td>\n",
       "      <td>2</td>\n",
       "    </tr>\n",
       "    <tr>\n",
       "      <th>1</th>\n",
       "      <td>ABI</td>\n",
       "      <td>32.411389</td>\n",
       "      <td>-99.681944</td>\n",
       "      <td>1</td>\n",
       "      <td>13874.0</td>\n",
       "      <td>1</td>\n",
       "    </tr>\n",
       "    <tr>\n",
       "      <th>2</th>\n",
       "      <td>ABQ</td>\n",
       "      <td>35.038889</td>\n",
       "      <td>-106.608333</td>\n",
       "      <td>1</td>\n",
       "      <td>326124.0</td>\n",
       "      <td>2</td>\n",
       "    </tr>\n",
       "    <tr>\n",
       "      <th>3</th>\n",
       "      <td>ABR</td>\n",
       "      <td>45.446667</td>\n",
       "      <td>-98.422500</td>\n",
       "      <td>1</td>\n",
       "      <td>4832.0</td>\n",
       "      <td>1</td>\n",
       "    </tr>\n",
       "    <tr>\n",
       "      <th>4</th>\n",
       "      <td>ABY</td>\n",
       "      <td>31.535556</td>\n",
       "      <td>-84.194444</td>\n",
       "      <td>1</td>\n",
       "      <td>6270.0</td>\n",
       "      <td>1</td>\n",
       "    </tr>\n",
       "  </tbody>\n",
       "</table>\n",
       "</div>"
      ],
      "text/plain": [
       "  AIRPORT   LATITUDE   LONGITUDE  AIRPORT_IS_LATEST  Passengers  backet\n",
       "0     ABE  40.652500  -75.440278                  1     71709.0       2\n",
       "1     ABI  32.411389  -99.681944                  1     13874.0       1\n",
       "2     ABQ  35.038889 -106.608333                  1    326124.0       2\n",
       "3     ABR  45.446667  -98.422500                  1      4832.0       1\n",
       "4     ABY  31.535556  -84.194444                  1      6270.0       1"
      ]
     },
     "execution_count": 95,
     "metadata": {},
     "output_type": "execute_result"
    }
   ],
   "source": [
    "coord_with_passengers_new = copy.deepcopy(coord_with_passengers)\n",
    "coord_with_passengers_new.head()"
   ]
  },
  {
   "cell_type": "code",
   "execution_count": 96,
   "id": "89b5f1d9",
   "metadata": {},
   "outputs": [
    {
     "data": {
      "text/html": [
       "<div>\n",
       "<style scoped>\n",
       "    .dataframe tbody tr th:only-of-type {\n",
       "        vertical-align: middle;\n",
       "    }\n",
       "\n",
       "    .dataframe tbody tr th {\n",
       "        vertical-align: top;\n",
       "    }\n",
       "\n",
       "    .dataframe thead th {\n",
       "        text-align: right;\n",
       "    }\n",
       "</style>\n",
       "<table border=\"1\" class=\"dataframe\">\n",
       "  <thead>\n",
       "    <tr style=\"text-align: right;\">\n",
       "      <th></th>\n",
       "      <th>AIRPORT</th>\n",
       "      <th>LATITUDE</th>\n",
       "      <th>LONGITUDE</th>\n",
       "      <th>AIRPORT_IS_LATEST</th>\n",
       "      <th>Passengers</th>\n",
       "      <th>backet</th>\n",
       "    </tr>\n",
       "  </thead>\n",
       "  <tbody>\n",
       "    <tr>\n",
       "      <th>0</th>\n",
       "      <td>0</td>\n",
       "      <td>40.652500</td>\n",
       "      <td>-75.440278</td>\n",
       "      <td>1</td>\n",
       "      <td>71709.0</td>\n",
       "      <td>2</td>\n",
       "    </tr>\n",
       "    <tr>\n",
       "      <th>1</th>\n",
       "      <td>1</td>\n",
       "      <td>32.411389</td>\n",
       "      <td>-99.681944</td>\n",
       "      <td>1</td>\n",
       "      <td>13874.0</td>\n",
       "      <td>1</td>\n",
       "    </tr>\n",
       "    <tr>\n",
       "      <th>2</th>\n",
       "      <td>2</td>\n",
       "      <td>35.038889</td>\n",
       "      <td>-106.608333</td>\n",
       "      <td>1</td>\n",
       "      <td>326124.0</td>\n",
       "      <td>2</td>\n",
       "    </tr>\n",
       "    <tr>\n",
       "      <th>3</th>\n",
       "      <td>3</td>\n",
       "      <td>45.446667</td>\n",
       "      <td>-98.422500</td>\n",
       "      <td>1</td>\n",
       "      <td>4832.0</td>\n",
       "      <td>1</td>\n",
       "    </tr>\n",
       "    <tr>\n",
       "      <th>4</th>\n",
       "      <td>4</td>\n",
       "      <td>31.535556</td>\n",
       "      <td>-84.194444</td>\n",
       "      <td>1</td>\n",
       "      <td>6270.0</td>\n",
       "      <td>1</td>\n",
       "    </tr>\n",
       "  </tbody>\n",
       "</table>\n",
       "</div>"
      ],
      "text/plain": [
       "   AIRPORT   LATITUDE   LONGITUDE  AIRPORT_IS_LATEST  Passengers  backet\n",
       "0        0  40.652500  -75.440278                  1     71709.0       2\n",
       "1        1  32.411389  -99.681944                  1     13874.0       1\n",
       "2        2  35.038889 -106.608333                  1    326124.0       2\n",
       "3        3  45.446667  -98.422500                  1      4832.0       1\n",
       "4        4  31.535556  -84.194444                  1      6270.0       1"
      ]
     },
     "execution_count": 96,
     "metadata": {},
     "output_type": "execute_result"
    }
   ],
   "source": [
    "coord_with_passengers_new['AIRPORT']= [coord_with_passengers.loc[coord_with_passengers['AIRPORT'] == x].index[0] \\\n",
    "                                                   for x in coord_with_passengers_new.AIRPORT]\n",
    "coord_with_passengers_new.head()"
   ]
  },
  {
   "cell_type": "code",
   "execution_count": 97,
   "id": "7e81d0b6",
   "metadata": {},
   "outputs": [
    {
     "data": {
      "text/html": [
       "<div>\n",
       "<style scoped>\n",
       "    .dataframe tbody tr th:only-of-type {\n",
       "        vertical-align: middle;\n",
       "    }\n",
       "\n",
       "    .dataframe tbody tr th {\n",
       "        vertical-align: top;\n",
       "    }\n",
       "\n",
       "    .dataframe thead th {\n",
       "        text-align: right;\n",
       "    }\n",
       "</style>\n",
       "<table border=\"1\" class=\"dataframe\">\n",
       "  <thead>\n",
       "    <tr style=\"text-align: right;\">\n",
       "      <th></th>\n",
       "      <th>AIRPORT</th>\n",
       "      <th>Passengers</th>\n",
       "      <th>backet</th>\n",
       "    </tr>\n",
       "  </thead>\n",
       "  <tbody>\n",
       "    <tr>\n",
       "      <th>0</th>\n",
       "      <td>0</td>\n",
       "      <td>71709.0</td>\n",
       "      <td>2</td>\n",
       "    </tr>\n",
       "    <tr>\n",
       "      <th>1</th>\n",
       "      <td>1</td>\n",
       "      <td>13874.0</td>\n",
       "      <td>1</td>\n",
       "    </tr>\n",
       "    <tr>\n",
       "      <th>2</th>\n",
       "      <td>2</td>\n",
       "      <td>326124.0</td>\n",
       "      <td>2</td>\n",
       "    </tr>\n",
       "    <tr>\n",
       "      <th>3</th>\n",
       "      <td>3</td>\n",
       "      <td>4832.0</td>\n",
       "      <td>1</td>\n",
       "    </tr>\n",
       "    <tr>\n",
       "      <th>4</th>\n",
       "      <td>4</td>\n",
       "      <td>6270.0</td>\n",
       "      <td>1</td>\n",
       "    </tr>\n",
       "  </tbody>\n",
       "</table>\n",
       "</div>"
      ],
      "text/plain": [
       "   AIRPORT  Passengers  backet\n",
       "0        0     71709.0       2\n",
       "1        1     13874.0       1\n",
       "2        2    326124.0       2\n",
       "3        3      4832.0       1\n",
       "4        4      6270.0       1"
      ]
     },
     "execution_count": 97,
     "metadata": {},
     "output_type": "execute_result"
    }
   ],
   "source": [
    "coord_with_passengers_new = coord_with_passengers_new[['AIRPORT', 'Passengers', 'backet']]\n",
    "coord_with_passengers_new.head()"
   ]
  },
  {
   "cell_type": "markdown",
   "id": "0d14c4f9",
   "metadata": {},
   "source": [
    "Label propagation method is also assume that closer data points tend to have similar class labels. Let us denote $Y$ as given label matrix, whose $i$-th row representing the label probability distribution of node $i$. Initialization of rows corresponding to unlabeled data points is not important, but let it be a uniform distribution. The algorithm is\n",
    "1. Propagate $Y \\leftarrow PY$ where $P$ is a transition matrix\n",
    "2. Recover rows of $Y$ corresponding to labeled data points\n",
    "3. Row-normalize $Y$ to maintain probability interpretation\n",
    "4. Repeat 1-3 until $Y$ converges\n",
    "5. Make a prediction as the most likely labels "
   ]
  },
  {
   "cell_type": "code",
   "execution_count": 98,
   "id": "d585b34f",
   "metadata": {},
   "outputs": [],
   "source": [
    "G = nx.from_pandas_edgelist(df_new, 'Origin', 'Dest')"
   ]
  },
  {
   "cell_type": "code",
   "execution_count": 99,
   "id": "ffb74ba8",
   "metadata": {},
   "outputs": [],
   "source": [
    "np.random.seed(42)\n",
    "train_nodes = np.random.choice(G, size=int(0.9*len(G.nodes)), replace=False)\n",
    "test_nodes = np.array(list(set(G.nodes).difference(train_nodes)))"
   ]
  },
  {
   "cell_type": "code",
   "execution_count": 100,
   "id": "b226ad29",
   "metadata": {},
   "outputs": [],
   "source": [
    "y_train = [coord_with_passengers_new.loc[coord_with_passengers_new.AIRPORT == x]['backet'].item() \\\n",
    "                                       for x in train_nodes]\n",
    "y_test = [coord_with_passengers_new.loc[coord_with_passengers_new.AIRPORT == x]['backet'].item() \\\n",
    "                                       for x in test_nodes]"
   ]
  },
  {
   "cell_type": "code",
   "execution_count": 101,
   "id": "ff12031a",
   "metadata": {},
   "outputs": [],
   "source": [
    "def label_propagation(G, threshold, y_train, train_nodes, test_nodes):\n",
    "    Y = initital_Y(G, y_train, train_nodes, test_nodes)\n",
    "    P = transition_matrix(G)\n",
    "    while True:\n",
    "        nextY = update_Y(P, Y, y_train, train_nodes, test_nodes)\n",
    "        if np.linalg.norm(nextY - Y) < threshold:\n",
    "            break\n",
    "        Y = nextY\n",
    "    y_pred = np.argmax(Y, axis=1)[test_nodes]\n",
    "    return y_pred"
   ]
  },
  {
   "cell_type": "code",
   "execution_count": 102,
   "id": "d34c7760",
   "metadata": {},
   "outputs": [],
   "source": [
    "def initital_Y(G, y_train, train_nodes, test_nodes):\n",
    "    len_labels = len(set(y_train))\n",
    "    Y = [[]] * (len(train_nodes) + len(test_nodes))\n",
    "    for i in train_nodes:\n",
    "        Y[i] = [0] * len_labels\n",
    "        Y[i][y_train[list(train_nodes).index(i)]] = 1\n",
    "    for i in test_nodes:\n",
    "        Y[i] = [1/len_labels] * len_labels\n",
    "    return np.array(Y)"
   ]
  },
  {
   "cell_type": "code",
   "execution_count": 103,
   "id": "88abb04a",
   "metadata": {},
   "outputs": [],
   "source": [
    "Y = initital_Y(G, y_train, train_nodes, test_nodes)"
   ]
  },
  {
   "cell_type": "code",
   "execution_count": 104,
   "id": "3022dfa2",
   "metadata": {},
   "outputs": [],
   "source": [
    "def transition_matrix(G):\n",
    "    P = np.eye(len(G))\n",
    "    for x in G.edges:\n",
    "        P[x[0]][x[1]] = 1\n",
    "        P[x[1]][x[0]] = 1\n",
    "    for i in range(len(G)):\n",
    "        if np.sum(P[i]) != 0:\n",
    "            s = np.sum(P[i])\n",
    "            for j in range(len(G)):\n",
    "                P[i][j] = P[i][j] / s\n",
    "    return P"
   ]
  },
  {
   "cell_type": "code",
   "execution_count": 105,
   "id": "72762b99",
   "metadata": {},
   "outputs": [],
   "source": [
    "P = transition_matrix(G)"
   ]
  },
  {
   "cell_type": "code",
   "execution_count": 106,
   "id": "4656af17",
   "metadata": {},
   "outputs": [],
   "source": [
    "def update_Y(P, Y, y_train, train_nodes, test_nodes):\n",
    "    Y_new = np.dot(P, Y)\n",
    "    for i in train_nodes:\n",
    "        Y_new[i] = Y[i]\n",
    "    return Y_new"
   ]
  },
  {
   "cell_type": "code",
   "execution_count": 116,
   "id": "e41b9593",
   "metadata": {},
   "outputs": [],
   "source": [
    "nextY = update_Y(P, Y, y_train, train_nodes, test_nodes)\n",
    "\n",
    "y_pred = label_propagation(G, 0.01, y_train, train_nodes, test_nodes)"
   ]
  },
  {
   "cell_type": "code",
   "execution_count": 120,
   "id": "119c6f31",
   "metadata": {},
   "outputs": [
    {
     "name": "stdout",
     "output_type": "stream",
     "text": [
      "balanced_accuracy_score = 0.38\n",
      "mean_absolute_error = 0.91\n"
     ]
    }
   ],
   "source": [
    "print(f\"balanced_accuracy_score = {round(balanced_accuracy_score(y_test, y_pred), 2)}\")\n",
    "print(f\"mean_absolute_error = {round(mean_absolute_error(y_test, y_pred), 2)}\")"
   ]
  },
  {
   "cell_type": "markdown",
   "id": "a04c70a1",
   "metadata": {},
   "source": [
    "The results are not excellent in metrics, but it can use for an initial approximation."
   ]
  },
  {
   "cell_type": "markdown",
   "id": "b35f4871",
   "metadata": {},
   "source": [
    "###  Ridge regression"
   ]
  },
  {
   "cell_type": "markdown",
   "id": "a89e98dd",
   "metadata": {},
   "source": [
    "Consider given node labels $\\mathbf y$ and normalized labels\n",
    "\n",
    "$$\\tilde y_i = y_i - \\frac{1}{k}\\sum_{j=1}^k y_j$$ \n",
    "\n",
    "where $k$ is the number of known labels. Unknown labels are given as zeros $\\tilde y_i = 0$. Also let $\\mathbf f$ be predicted labels of nodes. The objective is to minimize the square loss function plus the smoothness penalty $S$\n",
    "\n",
    "$$\\mathbf{\\tilde f} = \\text{argmin}_\\mathbf{f}\\left(\\frac{1}{k}\\sum_{i=1}^k(f_i - \\tilde y_i)^2 + \\gamma \\mathbf{f}^T S \\mathbf{f}\\right)$$\n",
    "\n",
    "we can consider smoothness penalty as some power of graph Laplacian, e.g. $S = L^p$, where $p$ is an integer hyperparameter.\n",
    "The analytical solution is given as\n",
    "\n",
    "$$\\mathbf{\\tilde f} = (k \\gamma L^p + I)^{-1}\\mathbf{\\tilde y}$$\n",
    "\n",
    "where $I$ is a diagonal matrix with ones and zeros. $I_{ii} = 1$ if a label of $i$-th node is known.\n",
    "\n",
    "Write a function `tikhonov_regularization` that takes the same parameters as above (`gamma` is a coefficient of regularization, $p$ is a power of Laplacian), and returns predicted labels."
   ]
  },
  {
   "cell_type": "code",
   "execution_count": 110,
   "id": "9517c512",
   "metadata": {},
   "outputs": [],
   "source": [
    "def tikhonov_regularization(G, gamma, y_train, train_nodes, test_nodes, p=2):\n",
    "    k = len(y_train)\n",
    "    nodes_cnt = len(train_nodes) + len(test_nodes)\n",
    "    I = np.eye(nodes_cnt)\n",
    "    y_ = []\n",
    "    \n",
    "    y_train_ = y_train\n",
    "    \n",
    "    for node in range(nodes_cnt):\n",
    "        if node in train_nodes:\n",
    "            y_.append(y_train_[list(train_nodes).index(node)])\n",
    "        else:\n",
    "            y_.append(0)\n",
    "            I[node][node] = 0\n",
    "            \n",
    "    L = np.zeros((nodes_cnt, nodes_cnt))\n",
    "    \n",
    "    G_ = list(G.edges)\n",
    "    edges = sorted(G_, key = lambda x: (x[0], x[1]))\n",
    "    \n",
    "    L_dict = {}\n",
    "    for edge in edges:\n",
    "        if edge[0] not in L_dict:\n",
    "            L_dict[edge[0]] = [0,[]]\n",
    "            \n",
    "        if edge[1] not in L_dict:\n",
    "            L_dict[edge[1]] = [0,[]]\n",
    "            \n",
    "        L_dict[edge[0]][0] += 1\n",
    "        L_dict[edge[0]][1].append(edge[1])\n",
    "        \n",
    "        L_dict[edge[1]][0] += 1\n",
    "        L_dict[edge[1]][1].append(edge[0])\n",
    "    \n",
    "    for l in L_dict:\n",
    "        L[l][l] = L_dict[l][0]\n",
    "        for neigh in L_dict[l][1]:\n",
    "            L[l][neigh] = -1\n",
    "    \n",
    "    if p == 2:\n",
    "        L = L.dot(L)\n",
    "    \n",
    "    y_pred = np.linalg.inv((k * gamma * L + I)).dot(y_) \n",
    "    \n",
    "    y_pred = np.delete(y_pred, train_nodes)   \n",
    "    \n",
    "    return y_pred    "
   ]
  },
  {
   "cell_type": "code",
   "execution_count": 156,
   "id": "f2ebddee",
   "metadata": {},
   "outputs": [],
   "source": [
    "y_pred = tikhonov_regularization(G, 0.001, y_train, train_nodes, test_nodes, p=1)\n",
    "y_pred = [round(x) for x in y_pred]"
   ]
  },
  {
   "cell_type": "code",
   "execution_count": 157,
   "id": "3f5fd06c",
   "metadata": {},
   "outputs": [
    {
     "name": "stdout",
     "output_type": "stream",
     "text": [
      "balanced_accuracy_score(p=1) = 0.33\n",
      "mean_absolute_error(p=1) = 0.67\n"
     ]
    }
   ],
   "source": [
    "print(f\"balanced_accuracy_score(p=1) = {round(balanced_accuracy_score(y_test, y_pred), 2)}\")\n",
    "print(f\"mean_absolute_error(p=1) = {round(mean_absolute_error(y_test, y_pred), 2)}\")"
   ]
  },
  {
   "cell_type": "code",
   "execution_count": 158,
   "id": "2659ae0e",
   "metadata": {},
   "outputs": [],
   "source": [
    "y_pred = tikhonov_regularization(G, 0.001, y_train, train_nodes, test_nodes, p=2)\n",
    "y_pred = [round(x) for x in y_pred]"
   ]
  },
  {
   "cell_type": "code",
   "execution_count": 159,
   "id": "9a5cacbe",
   "metadata": {},
   "outputs": [
    {
     "name": "stdout",
     "output_type": "stream",
     "text": [
      "balanced_accuracy_score(p=2) = 0.33\n",
      "mean_absolute_error(p=2) = 0.67\n"
     ]
    }
   ],
   "source": [
    "print(f\"balanced_accuracy_score(p=2) = {round(balanced_accuracy_score(y_test, y_pred), 2)}\")\n",
    "print(f\"mean_absolute_error(p=2) = {round(mean_absolute_error(y_test, y_pred), 2)}\")"
   ]
  },
  {
   "cell_type": "markdown",
   "id": "0e24f569",
   "metadata": {},
   "source": [
    "Get the same results on the metrics for p=1 and p=2. If you look at balanced_accuracy_score, it is better in the random walk, and mean_absolute_error is better in the ridge regression. Therefore, it would be good to try to combine these two methods"
   ]
  },
  {
   "cell_type": "code",
   "execution_count": null,
   "id": "5870ced6",
   "metadata": {},
   "outputs": [],
   "source": []
  }
 ],
 "metadata": {
  "kernelspec": {
   "display_name": "Python 3 (ipykernel)",
   "language": "python",
   "name": "python3"
  },
  "language_info": {
   "codemirror_mode": {
    "name": "ipython",
    "version": 3
   },
   "file_extension": ".py",
   "mimetype": "text/x-python",
   "name": "python",
   "nbconvert_exporter": "python",
   "pygments_lexer": "ipython3",
   "version": "3.9.7"
  }
 },
 "nbformat": 4,
 "nbformat_minor": 5
}
